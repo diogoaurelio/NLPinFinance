{
 "cells": [
  {
   "cell_type": "markdown",
   "metadata": {},
   "source": [
    "## Credit\n",
    "- Udacity\n",
    "- https://medium.com/factory-mind/regex-tutorial-a-simple-cheatsheet-by-examples-649dc1c3f285\n",
    "- https://regex101.com"
   ]
  },
  {
   "cell_type": "code",
   "execution_count": 1,
   "metadata": {},
   "outputs": [],
   "source": [
    "import re"
   ]
  },
  {
   "cell_type": "code",
   "execution_count": 5,
   "metadata": {},
   "outputs": [],
   "source": [
    "sample_text = '. ^ $ * + ? { } [ ] \\ | ( )'"
   ]
  },
  {
   "cell_type": "code",
   "execution_count": 11,
   "metadata": {},
   "outputs": [],
   "source": [
    "regex = re.compile(r'\\. \\^ \\$ \\* \\+ \\? \\{ \\} \\[ \\] \\\\ \\| \\( \\)')"
   ]
  },
  {
   "cell_type": "code",
   "execution_count": 12,
   "metadata": {},
   "outputs": [],
   "source": [
    "matches = re.finditer(regex, sample_text)"
   ]
  },
  {
   "cell_type": "code",
   "execution_count": 13,
   "metadata": {},
   "outputs": [
    {
     "name": "stdout",
     "output_type": "stream",
     "text": [
      "<_sre.SRE_Match object; span=(0, 27), match='. ^ $ * + ? { } [ ] \\\\ | ( )'>\n"
     ]
    }
   ],
   "source": [
    "for match in matches:\n",
    "    print(match)"
   ]
  },
  {
   "cell_type": "code",
   "execution_count": 16,
   "metadata": {},
   "outputs": [],
   "source": [
    "sample_text = 'John bought a winter coat for $25.99 dollars.'\n",
    "regex = re.compile(r'\\$25\\.99')"
   ]
  },
  {
   "cell_type": "code",
   "execution_count": 17,
   "metadata": {},
   "outputs": [
    {
     "data": {
      "text/plain": [
       "['$25.99']"
      ]
     },
     "execution_count": 17,
     "metadata": {},
     "output_type": "execute_result"
    }
   ],
   "source": [
    "re.findall(regex,sample_text)"
   ]
  },
  {
   "cell_type": "markdown",
   "metadata": {},
   "source": [
    "# Searching For Simple Patterns\n",
    "#### Thanks to Udacity\n",
    "\n",
    "Being able to match letters and metacharacters is the simplest task that regular expressions can do. In this section we will see how we can use regular expressions to perform more complex pattern matching. We can form any pattern we want by using the metacharacters mentioned in the previous lesson.\n",
    "\n",
    "The first metacharacter we are going to look at is the backslash (`\\`). We already saw that the backslash can be used to escape all the metacharacters, so that you can search for them directly. However, the backslash can also be followed by various characters to signal various special sequences. Here is a list of the special sequences we are going to look at in this notebook:\n",
    "\n",
    "* `\\d` - Matches any decimal digit; this is equivalent to the set [0-9]\n",
    "\n",
    "\n",
    "* `\\D` - Matches any non-digit character; this is equivalent to the set [^0-9]\n",
    "\n",
    "\n",
    "* `\\s` - Matches any whitespace character, this is equivalent to the set [ \\t\\n\\r\\f\\v]\n",
    "\n",
    "\n",
    "* `\\S` - Matches any non-whitespace character; this is equivalent to the set [^ \\t\\n\\r\\f\\v]\n",
    "\n",
    "\n",
    "* `\\w` - Matches any alphanumeric character and the underscore; this is equivalent to the set [a-zA-Z0-9_]\n",
    "\n",
    "\n",
    "* `\\W` - Matches any non-alphanumeric character; this is equivalent to the set [^a-zA-Z0-9_]\n",
    "\n",
    "We can see that there is a difference between lowercase and uppercase sequences. For example, while `\\d` matches any digit, `\\D` matches everything that is **not** a digit. Similarly, while `\\s` matches any whitespace character, `\\S` matches everything that is **not** a whitespace character; and while `\\w` matches any alphanumeric character, `\\W` matches everything that is **not** an alphanumeric character.\n",
    "\n",
    "Let's start by learning how to use `\\d` to search for decimal digits."
   ]
  },
  {
   "cell_type": "code",
   "execution_count": 20,
   "metadata": {},
   "outputs": [
    {
     "name": "stdout",
     "output_type": "stream",
     "text": [
      "1\n",
      "2\n",
      "3\n",
      "0\n",
      "1\n",
      "5\n",
      "6\n",
      "7\n",
      "8\n",
      "9\n"
     ]
    }
   ],
   "source": [
    "sample_text = 'Alice lives in 1230 First St., Ocean City, MD 156789.'\n",
    "regex = re.compile(r'\\d')\n",
    "matches = regex.finditer(sample_text)\n",
    "for match in matches:\n",
    "    start , end = match.span()\n",
    "    print(sample_text[start:end])"
   ]
  },
  {
   "cell_type": "code",
   "execution_count": 24,
   "metadata": {},
   "outputs": [
    {
     "name": "stdout",
     "output_type": "stream",
     "text": [
      "123.456.789.123\n",
      "999.888.777.666\n",
      "111.222.333.444\n"
     ]
    }
   ],
   "source": [
    "sample_text = 'Here are three IP \\\n",
    "    address: 123.456.789.123, 999.888.777.666, 111.222.333.444'\n",
    "regex = re.compile(r'\\d{3}\\.\\d{3}\\.\\d{3}\\.\\d{3}')\n",
    "matches = regex.finditer(sample_text)\n",
    "for match in matches:\n",
    "    start , end = match.span()\n",
    "    print(sample_text[start:end])"
   ]
  },
  {
   "cell_type": "code",
   "execution_count": 32,
   "metadata": {},
   "outputs": [
    {
     "name": "stdout",
     "output_type": "stream",
     "text": [
      "<_sre.SRE_Match object; span=(0, 1), match='\\n'>\n",
      "<_sre.SRE_Match object; span=(1, 2), match='\\t'>\n",
      "<_sre.SRE_Match object; span=(7, 8), match=' '>\n",
      "<_sre.SRE_Match object; span=(13, 14), match=' '>\n",
      "<_sre.SRE_Match object; span=(17, 18), match='\\x0c'>\n",
      "<_sre.SRE_Match object; span=(18, 19), match='\\n'>\n",
      "<_sre.SRE_Match object; span=(23, 24), match=' '>\n",
      "<_sre.SRE_Match object; span=(29, 30), match=' '>\n",
      "<_sre.SRE_Match object; span=(33, 34), match='\\r'>\n",
      "<_sre.SRE_Match object; span=(34, 35), match='\\n'>\n",
      "<_sre.SRE_Match object; span=(40, 41), match=' '>\n",
      "<_sre.SRE_Match object; span=(46, 47), match=' '>\n",
      "<_sre.SRE_Match object; span=(49, 50), match=' '>\n",
      "<_sre.SRE_Match object; span=(57, 58), match='\\x0b'>\n",
      "<_sre.SRE_Match object; span=(58, 59), match='\\n'>\n"
     ]
    }
   ],
   "source": [
    "# Sample text\n",
    "sample_text = '''\n",
    "\\tAlice lives in:\\f\n",
    "1230 First St.\\r\n",
    "Ocean City, MD 156789.\\v\n",
    "'''\n",
    "\n",
    "# Create a regular expression object with the regular expression '\\s'\n",
    "regex = re.compile(r'\\s')\n",
    "\n",
    "matches = regex.finditer(sample_text)\n",
    "for match in matches:\n",
    "    print(match)"
   ]
  },
  {
   "cell_type": "code",
   "execution_count": 39,
   "metadata": {},
   "outputs": [
    {
     "name": "stdout",
     "output_type": "stream",
     "text": [
      "Sample Text:\n",
      " \n",
      "123\t45\t7895\n",
      "1\t222\t33\n",
      "\n",
      "\n",
      "Numbers from the original text: 123\n",
      "\n",
      "Numbers from the original text: 45\n",
      "\n",
      "Numbers from the original text: 7895\n",
      "\n",
      "Numbers from the original text: 1\n",
      "\n",
      "Numbers from the original text: 222\n",
      "\n",
      "Numbers from the original text: 33\n"
     ]
    }
   ],
   "source": [
    "sample_text = '''\n",
    "123\\t45\\t7895\n",
    "1\\t222\\t33\n",
    "'''\n",
    "print('Sample Text:\\n', sample_text)\n",
    "regex = re.compile(r'\\s')\n",
    "matches = regex.finditer(sample_text)\n",
    "counter = 0\n",
    "for match in matches:    \n",
    "    if counter != 0:\n",
    "        start_idx = match.start()        \n",
    "        print('\\nNumbers from the original text:', sample_text[end_idx:start_idx])        \n",
    "    end_idx = match.end()\n",
    "    counter += 1"
   ]
  },
  {
   "cell_type": "code",
   "execution_count": 35,
   "metadata": {},
   "outputs": [
    {
     "data": {
      "text/plain": [
       "[]"
      ]
     },
     "execution_count": 35,
     "metadata": {},
     "output_type": "execute_result"
    }
   ],
   "source": [
    "list(matches)"
   ]
  },
  {
   "cell_type": "markdown",
   "metadata": {},
   "source": [
    "In the cell below, our `sample_text` consists of a multi-line string that contains three email addresses:\n",
    "\n",
    "```\n",
    "j.s@email.com\n",
    "a.w@email.com\n",
    "m.j@email.com\n",
    "```\n",
    "\n",
    "Notice, that all three email address have the same pattern, namely, the first name initial, followed by a dot (`.`), followed by the last name initial, and ending in ``` @email.com```. \n",
    "\n",
    "Take advantage of the fact that all three email addresses have the same pattern to write a single regular expression that can find all three email addresses in our `sample_text` string. As usual, save the regular expression object in a variable called `regex`. Then use the `.finditer()` method to search the `sample_text` string for the given regular expression. Finally, write a loop to print all the `matches` found by the `.finditer()` method."
   ]
  },
  {
   "cell_type": "code",
   "execution_count": 40,
   "metadata": {},
   "outputs": [
    {
     "name": "stdout",
     "output_type": "stream",
     "text": [
      "Sample Text:\n",
      " \n",
      "John Sanders: j.s@email.com\n",
      "Alice Walters: a.w@email.com\n",
      "Mary Jones: m.j@email.com\n",
      "\n",
      "<_sre.SRE_Match object; span=(15, 28), match='j.s@email.com'>\n",
      "<_sre.SRE_Match object; span=(44, 57), match='a.w@email.com'>\n",
      "<_sre.SRE_Match object; span=(70, 83), match='m.j@email.com'>\n"
     ]
    }
   ],
   "source": [
    "sample_text = '''\n",
    "John Sanders: j.s@email.com\n",
    "Alice Walters: a.w@email.com\n",
    "Mary Jones: m.j@email.com\n",
    "'''\n",
    "print('Sample Text:\\n', sample_text)\n",
    "regex = re.compile(r'\\w\\.\\w@email.com')\n",
    "matches = regex.finditer(sample_text)\n",
    "for match in matches:\n",
    "    print(match)"
   ]
  },
  {
   "cell_type": "markdown",
   "metadata": {},
   "source": [
    "# Word Boundaries\n",
    "\n",
    "We will now learn about another special sequence that you can create using the backslash:\n",
    "\n",
    "* `\\b`\n",
    "\n",
    "This special sequence doesn't really match a particular set of characters, but rather determines word boundaries. A word in this context is defined as a sequence of alphanumeric characters, while a boundary is defined as a white space, a non-alphanumeric character, or the beginning or end of a string. We can have boundaries either before or after a word. Let's see how this works with an example.\n",
    "\n",
    "In the code below, our `sample_text` string contains the following sentence:\n",
    "\n",
    "```\n",
    "The biology class will meet in the first floor classroom to learn about Theria, a subclass of mammals.\n",
    "```\n",
    "\n",
    "As we can see the word `class` appears in three different positions:\n",
    "\n",
    "1. As a stand-alone word: The word `class` has white spaces both before and after it.\n",
    "\n",
    "\n",
    "2. At the beginning of a word: The word `class`  in `classroom` has a white space before it.\n",
    "\n",
    "\n",
    "3. At the end of a word: The word `class`  in `subclass` has a whitespace after it.\n",
    "\n",
    "If we use `class` as our regular expression, we will match the word `class` in all three positions as shown in the code below:"
   ]
  },
  {
   "cell_type": "code",
   "execution_count": 42,
   "metadata": {},
   "outputs": [
    {
     "name": "stdout",
     "output_type": "stream",
     "text": [
      "<_sre.SRE_Match object; span=(12, 17), match='class'>\n",
      "<_sre.SRE_Match object; span=(51, 56), match='class'>\n"
     ]
    }
   ],
   "source": [
    "sample_text = 'The biology class will meet in the \\\n",
    "    first floor classroom to learn about Theria, a subclass of mammals.'\n",
    "regex = re.compile(r'\\bclass')\n",
    "matches = regex.finditer(sample_text)\n",
    "for match in matches:\n",
    "    print(match)"
   ]
  },
  {
   "cell_type": "code",
   "execution_count": 45,
   "metadata": {},
   "outputs": [
    {
     "name": "stdout",
     "output_type": "stream",
     "text": [
      "<_sre.SRE_Match object; span=(13, 16), match='the'>\n",
      "<_sre.SRE_Match object; span=(26, 29), match='his'>\n",
      "<_sre.SRE_Match object; span=(30, 33), match='car'>\n",
      "<_sre.SRE_Match object; span=(35, 38), match='but'>\n",
      "<_sre.SRE_Match object; span=(49, 52), match='buy'>\n"
     ]
    }
   ],
   "source": [
    "sample_text = 'John went to the store in his car, but forgot to buy bread.'\n",
    "regex = re.compile(r'\\b\\w{3}\\b')\n",
    "matches = regex.finditer(sample_text)\n",
    "for match in matches:\n",
    "    print(match)"
   ]
  },
  {
   "cell_type": "code",
   "execution_count": 46,
   "metadata": {},
   "outputs": [
    {
     "name": "stdout",
     "output_type": "stream",
     "text": [
      "<_sre.SRE_Match object; span=(12, 24), match='555-123-4567'>\n",
      "<_sre.SRE_Match object; span=(37, 49), match='455 555 4549'>\n",
      "<_sre.SRE_Match object; span=(63, 75), match='655-777-7346'>\n",
      "<_sre.SRE_Match object; span=(89, 101), match='555)999-8464'>\n"
     ]
    }
   ],
   "source": [
    "sample_text = '''\n",
    "Mr. Brown: 555-123-4567\n",
    "Mrs. Smith: 455 555 4549\n",
    "Mr. Jackson: 655-777-7346\n",
    "Ms. Wilson: (555)999-8464\n",
    "'''\n",
    "\n",
    "regex = re.compile(r'\\d{3}.\\d{3}.\\d{4}')\n",
    "matches = regex.finditer(sample_text)\n",
    "for match in matches:\n",
    "    print(match)"
   ]
  },
  {
   "cell_type": "markdown",
   "metadata": {},
   "source": [
    "# Finding Complicated Patterns\n",
    "\n",
    "In this lesson, we will learn how to use the remaining metacharacters in our list, namely:\n",
    "\n",
    "```python\n",
    "* + ? | ( )\n",
    "```\n",
    "We will employ these metacharacters to find more complicated patterns of text. \n",
    "\n",
    "### Finding Names\n",
    "\n",
    "In the code below, our `sample_text` consists of a multi-line string that contains the names and heights of the 4 highest mountains in the world according to Wikipedia:\n",
    "\n",
    "```\n",
    "Mt Everest: Height 8,848 m\n",
    "Mt. K2: Height 8,611 m\n",
    "Mt Kangchenjunga: Height 8,586 m\n",
    "Mt. Lhotse: Height 8,516 m\n",
    "```\n",
    "\n",
    "Let's create a regular expression that will allow us to find the names of these mountains. The first thing to notice is that the word mountain has been abbreviated in two different ways, as `Mt.` and as `Mt` (without the period). Therefore, if we want to find all the names of the mountains we need to indicate in our regular expression that the period (`.`) in the abbreviation is optional. We can do this by using the `?` metacharacter in our regular expression. The `?` will match 0 or 1 repetitions of the preceding regular expression. For example, the regular expression `ab?` will match either `a` or `ab`. In other words, the `?` after the `b` indicates that the `b` after the `a` is optional. Let’s see how this works.\n",
    "\n",
    "In the code below, we employ the `?` metacharacter to indicate that the period (`.`) after `Mt` is optional by using the regular expression `Mt\\.?`:"
   ]
  },
  {
   "cell_type": "code",
   "execution_count": 47,
   "metadata": {},
   "outputs": [
    {
     "name": "stdout",
     "output_type": "stream",
     "text": [
      "<_sre.SRE_Match object; span=(1, 3), match='Mt'>\n",
      "<_sre.SRE_Match object; span=(28, 31), match='Mt.'>\n",
      "<_sre.SRE_Match object; span=(51, 53), match='Mt'>\n",
      "<_sre.SRE_Match object; span=(84, 87), match='Mt.'>\n"
     ]
    }
   ],
   "source": [
    "sample_text = '''\n",
    "Mt Everest: Height 8,848 m\n",
    "Mt. K2: Height 8,611 m\n",
    "Mt Kangchenjunga: Height 8,586 m\n",
    "Mt. Lhotse: Height 8,516 m\n",
    "'''\n",
    "regex = re.compile(r'Mt\\.?')\n",
    "matches = regex.finditer(sample_text)\n",
    "for match in matches:\n",
    "    print(match)"
   ]
  },
  {
   "cell_type": "code",
   "execution_count": 48,
   "metadata": {},
   "outputs": [
    {
     "name": "stdout",
     "output_type": "stream",
     "text": [
      "<_sre.SRE_Match object; span=(1, 11), match='Mt Everest'>\n",
      "<_sre.SRE_Match object; span=(28, 34), match='Mt. K2'>\n",
      "<_sre.SRE_Match object; span=(51, 67), match='Mt Kangchenjunga'>\n",
      "<_sre.SRE_Match object; span=(84, 94), match='Mt. Lhotse'>\n"
     ]
    }
   ],
   "source": [
    "sample_text = '''\n",
    "Mt Everest: Height 8,848 m\n",
    "Mt. K2: Height 8,611 m\n",
    "Mt Kangchenjunga: Height 8,586 m\n",
    "Mt. Lhotse: Height 8,516 m\n",
    "'''\n",
    "\n",
    "# Create a regular expression object with a regular expression that can match all the\n",
    "# mountain names\n",
    "regex = re.compile(r'Mt\\.?\\s[A-Z]\\w*')\n",
    "\n",
    "# Search the sample_text for the regular expression\n",
    "matches = regex.finditer(sample_text)\n",
    "\n",
    "# Print all the matches\n",
    "for match in matches:\n",
    "    print(match)"
   ]
  },
  {
   "cell_type": "code",
   "execution_count": 49,
   "metadata": {},
   "outputs": [
    {
     "name": "stdout",
     "output_type": "stream",
     "text": [
      "<_sre.SRE_Match object; span=(1, 11), match='Mt Everest'>\n",
      "<_sre.SRE_Match object; span=(28, 34), match='Mt. K2'>\n",
      "<_sre.SRE_Match object; span=(51, 67), match='Mt Kangchenjunga'>\n",
      "<_sre.SRE_Match object; span=(84, 94), match='Mt. Lhotse'>\n",
      "<_sre.SRE_Match object; span=(111, 121), match='Mnt makalu'>\n"
     ]
    }
   ],
   "source": [
    "sample_text = '''\n",
    "Mt Everest: Height 8,848 m\n",
    "Mt. K2: Height 8,611 m\n",
    "Mt Kangchenjunga: Height 8,586 m\n",
    "Mt. Lhotse: Height 8,516 m\n",
    "Mnt makalu: Height 8,485 m\n",
    "'''\n",
    "\n",
    "# Create a regular expression object with a regular expression that can match all the\n",
    "# mountain names\n",
    "regex = re.compile(r'(Mt|Mnt)\\.?\\s[a-zA-Z]\\w*')\n",
    "\n",
    "# Search the sample_text for the regular expression\n",
    "matches = regex.finditer(sample_text)\n",
    "\n",
    "# Print all the matches\n",
    "for match in matches:\n",
    "    print(match)"
   ]
  },
  {
   "cell_type": "markdown",
   "metadata": {},
   "source": [
    "# Substitutions with Groups\n",
    "\n",
    "We can do more sophisticated substitutions by using groups. Let's see an example. In the code below we have a multi-line string that contains the names of 4 people. As we can see, some people have middle names but other don't. Let's use the `.sub()` method to replace all names in the string with just the first and last name. For example, the name `John David Smith` should be replaced by `John Smith` and `Alice Jackson` should stay the same.\n",
    "\n",
    "The first step is to create a regular expression that matches all the names in the list. Now, keeping in mind that we need to be able to make replacements later we will use groups to be able to distinguish between the first name, the middle name, and the last name. Since all names have a first name then we can use this group `([a-zA-z]+)` to match all the first names. Now, not all names have middle names, so having a middle name is optional. Since the first and middle name are separated by a whitespace we also need to indicate that the whitespace is also optional. So, to do indicate that the whitespace and middle name are optional we will include the `?` metacharacter after the whitespace and second group, `[ ]?([a-zA-z]+)?`. After the first or middle name we have a whitespace that we can match with `\\[  \\]`. Notice that in this case we didn't use the sequence `\\\\s` since this will match newlines as well and we don't what match those. Finally we make a third group to match the last name. Since all names have last names, we don't need to use the `?` metacharacter. Putting all together we get:"
   ]
  },
  {
   "cell_type": "code",
   "execution_count": 52,
   "metadata": {},
   "outputs": [
    {
     "name": "stdout",
     "output_type": "stream",
     "text": [
      "\n",
      "First Name: John\n",
      "Middle Name: David\n",
      "Last Name: Smith\n",
      "\n",
      "First Name: Alice\n",
      "Middle Name: None\n",
      "Last Name: Jackson\n",
      "\n",
      "First Name: Mary\n",
      "Middle Name: Elizabeth\n",
      "Last Name: Wilson\n",
      "\n",
      "First Name: Mike\n",
      "Middle Name: None\n",
      "Last Name: Brown\n"
     ]
    }
   ],
   "source": [
    "sample_text = '''\n",
    "John David Smith\n",
    "Alice Jackson\n",
    "Mary Elizabeth Wilson\n",
    "Mike Brown\n",
    "'''\n",
    "regex = re.compile(r'([a-zA-z]+)[ ]?([a-zA-z]+)?[ ]([a-zA-z]+)')\n",
    "matches = regex.finditer(sample_text)\n",
    "for match in matches:\n",
    "    print('\\nFirst Name: '+ match.group(1))\n",
    "    \n",
    "    if match.group(2) is None:\n",
    "        print('Middle Name: None')\n",
    "    else:\n",
    "        print('Middle Name: '+ match.group(2))\n",
    "    print('Last Name: '+ match.group(3))"
   ]
  },
  {
   "cell_type": "code",
   "execution_count": 53,
   "metadata": {},
   "outputs": [
    {
     "name": "stdout",
     "output_type": "stream",
     "text": [
      "\n",
      "John Smith\n",
      "Alice Jackson\n",
      "Mary Wilson\n",
      "Mike Brown\n",
      "\n"
     ]
    }
   ],
   "source": [
    "regex = re.compile(r'([a-zA-z]+)[ ]?([a-zA-z]+)?[ ]([a-zA-z]+)')\n",
    "\n",
    "# Substitute all names in the sample_text with the first and last name\n",
    "new_text = regex.sub(r'\\1 \\3', sample_text)\n",
    "\n",
    "# Print the modified text\n",
    "print(new_text)"
   ]
  },
  {
   "cell_type": "markdown",
   "metadata": {},
   "source": [
    "# Flags\n",
    "\n",
    "We saw at the beginning of this lesson that regexes are case sensitive, therefore we often have to use regexes with both uppercase and lower case letters. However, the `re.compile(pattern, flags)` function, has a `flag` keyword that can be used to allow more flexibility. For example, the `re.IGNORECASE` flag can be used to perform **case-insensitive** matching. In the code below we have a string that contains the name Walter written in two different combinations of upper and lower case letters. In order to be able to find this two renditions of Walter, we will probably have to use a long character set to be able to account for all possible combinations of lower and upper case letters. However, in this case we can use the `re.IGNORECASE` to indicate that we don't care about the case of the letters, we just want to find the name Walter no matter how it is written. Let's see how this works:"
   ]
  },
  {
   "cell_type": "code",
   "execution_count": 55,
   "metadata": {},
   "outputs": [
    {
     "name": "stdout",
     "output_type": "stream",
     "text": [
      "<_sre.SRE_Match object; span=(10, 16), match='WaLtEr'>\n",
      "<_sre.SRE_Match object; span=(40, 46), match='wAlTer'>\n"
     ]
    }
   ],
   "source": [
    "\n",
    "sample_text = 'Alice and WaLtEr Brown are talking with wAlTer Jackson.'\n",
    "\n",
    "# Create a regular expression object with the regular expression 'walter'\n",
    "# that ignores the case of the letters\n",
    "regex = re.compile(r'walter', re.IGNORECASE)\n",
    "\n",
    "# Search the sample_text for the regular expression\n",
    "matches = regex.finditer(sample_text)\n",
    "\n",
    "# Print all the matches\n",
    "for match in matches:\n",
    "    print(match)"
   ]
  },
  {
   "cell_type": "code",
   "execution_count": null,
   "metadata": {},
   "outputs": [],
   "source": []
  }
 ],
 "metadata": {
  "kernelspec": {
   "display_name": "Python 3",
   "language": "python",
   "name": "python3"
  },
  "language_info": {
   "codemirror_mode": {
    "name": "ipython",
    "version": 3
   },
   "file_extension": ".py",
   "mimetype": "text/x-python",
   "name": "python",
   "nbconvert_exporter": "python",
   "pygments_lexer": "ipython3",
   "version": "3.6.8"
  }
 },
 "nbformat": 4,
 "nbformat_minor": 2
}
