{
 "cells": [
  {
   "cell_type": "code",
   "execution_count": 46,
   "metadata": {},
   "outputs": [],
   "source": [
    "import requests\n",
    "from bs4 import BeautifulSoup\n",
    "import re"
   ]
  },
  {
   "cell_type": "code",
   "execution_count": 52,
   "metadata": {},
   "outputs": [],
   "source": [
    "import os\n",
    "import nltk\n",
    "nltk.data.path.append(os.path.join(os.getcwd(), \"nltk_data\"))"
   ]
  },
  {
   "cell_type": "code",
   "execution_count": 2,
   "metadata": {},
   "outputs": [],
   "source": [
    "web = 'https://twitter.com/realDonaldTrump'\n",
    "html_data = requests.get(web, params = {'count': 50}).text\n",
    "page_content = BeautifulSoup(html_data,'html.parser')\n",
    "tweets = page_content.find_all('div', class_='js-tweet-text-container')"
   ]
  },
  {
   "cell_type": "code",
   "execution_count": 36,
   "metadata": {},
   "outputs": [],
   "source": [
    "all_tweets = []\n",
    "for tweet in tweets:\n",
    "    all_tweets.append(tweet.p.get_text().strip())"
   ]
  },
  {
   "cell_type": "code",
   "execution_count": 35,
   "metadata": {},
   "outputs": [
    {
     "data": {
      "text/plain": [
       "'The people of Venezuela stand at the threshold of history, ready to reclaim their country – and their future....pic.twitter.com/ajxd1EN64c'"
      ]
     },
     "execution_count": 35,
     "metadata": {},
     "output_type": "execute_result"
    }
   ],
   "source": [
    "all_tweets[1]"
   ]
  },
  {
   "cell_type": "markdown",
   "metadata": {},
   "source": [
    "## Normalization"
   ]
  },
  {
   "cell_type": "markdown",
   "metadata": {},
   "source": [
    "#### Lower case conversion"
   ]
  },
  {
   "cell_type": "code",
   "execution_count": 41,
   "metadata": {},
   "outputs": [],
   "source": [
    "all_tweets = [tweet.lower() for tweet in all_tweets]"
   ]
  },
  {
   "cell_type": "code",
   "execution_count": 43,
   "metadata": {},
   "outputs": [
    {
     "data": {
      "text/plain": [
       "'74 years ago today, marines on iwo jima raised the flag atop mount suribachi.\\n\\nsemper fidelis.pic.twitter.com/usq2z344xp'"
      ]
     },
     "execution_count": 43,
     "metadata": {},
     "output_type": "execute_result"
    }
   ],
   "source": [
    "all_tweets[2]"
   ]
  },
  {
   "cell_type": "markdown",
   "metadata": {},
   "source": [
    "#### Remove punctuation Characters"
   ]
  },
  {
   "cell_type": "code",
   "execution_count": 48,
   "metadata": {},
   "outputs": [],
   "source": [
    "punc_pattern = re.compile(r'[^a-zA-Z0-9]')"
   ]
  },
  {
   "cell_type": "code",
   "execution_count": 50,
   "metadata": {},
   "outputs": [],
   "source": [
    "all_tweets = [re.sub(punc_pattern,' ',tweet) for tweet in all_tweets]"
   ]
  },
  {
   "cell_type": "code",
   "execution_count": 51,
   "metadata": {},
   "outputs": [
    {
     "data": {
      "text/plain": [
       "'74 years ago today  marines on iwo jima raised the flag atop mount suribachi   semper fidelis pic twitter com usq2z344xp'"
      ]
     },
     "execution_count": 51,
     "metadata": {},
     "output_type": "execute_result"
    }
   ],
   "source": [
    "all_tweets[2]"
   ]
  },
  {
   "cell_type": "markdown",
   "metadata": {},
   "source": [
    "## NLTK"
   ]
  },
  {
   "cell_type": "code",
   "execution_count": 53,
   "metadata": {},
   "outputs": [],
   "source": [
    "from nltk.tokenize import TweetTokenizer"
   ]
  },
  {
   "cell_type": "markdown",
   "metadata": {},
   "source": [
    "#### Tweet Toeknization"
   ]
  },
  {
   "cell_type": "code",
   "execution_count": 54,
   "metadata": {},
   "outputs": [],
   "source": [
    "tt = TweetTokenizer(preserve_case=False)"
   ]
  },
  {
   "cell_type": "code",
   "execution_count": 56,
   "metadata": {
    "scrolled": false
   },
   "outputs": [
    {
     "name": "stdout",
     "output_type": "stream",
     "text": [
      "['there', 's', 'not', 'one', 'shred', 'of', 'evidence', 'that', 'this', 'president', 's', 'done', 'anything', 'constitutionally', 'or', 'anything', 'else', 'wrong', 'graham', 'ledger', 'thank', 'you', 'graham', 'so', 'true']\n",
      "['the', 'people', 'of', 'venezuela', 'stand', 'at', 'the', 'threshold', 'of', 'history', 'ready', 'to', 'reclaim', 'their', 'country', 'and', 'their', 'future', 'pic', 'twitter', 'com', 'ajxd', '1en64c']\n",
      "['74', 'years', 'ago', 'today', 'marines', 'on', 'iwo', 'jima', 'raised', 'the', 'flag', 'atop', 'mount', 'suribachi', 'semper', 'fidelis', 'pic', 'twitter', 'com', 'usq', '2z344xp']\n",
      "['there', 'is', 'far', 'more', 'energy', 'on', 'the', 'right', 'than', 'there', 'is', 'on', 'the', 'left', 'that', 's', 'why', 'we', 'just', 'won', 'the', 'senate', 'and', 'why', 'we', 'will', 'win', 'big', 'in', '2020', 'the', 'fake', 'news', 'just', 'doesn', 't', 'want', 'to', 'report', 'the', 'facts', 'border', 'security', 'is', 'a', 'big', 'factor', 'the', 'under', 'construction', 'wall', 'will', 'stop', 'gangs', 'drugs', 'and', 'crime']\n",
      "['god', 'bless', 'the', 'people', 'of', 'venezuela']\n",
      "['great', 'new', 'book', 'the', 'case', 'for', 'trump', 'by', 'victor', 'davis', 'hanson', 'hoover', 'senior', 'fellow']\n",
      "['kelly', 'has', 'done', 'an', 'outstanding', 'job', 'representing', 'our', 'nation', 'and', 'i', 'have', 'no', 'doubt', 'that', 'under', 'her', 'leadership', 'our', 'country', 'will', 'be', 'represented', 'at', 'the', 'highest', 'level', 'congratulations', 'to', 'kelly', 'and', 'her', 'entire', 'family']\n",
      "['i', 'am', 'pleased', 'to', 'announce', 'that', 'kelly', 'knight', 'craft', 'our', 'current', 'ambassador', 'to', 'canada', 'is', 'being', 'nominated', 'to', 'be', 'united', 'states', 'ambassador', 'to', 'the', 'united', 'nations']\n",
      "['breaking', 'in', 'oval', 'office', 'meeting', 'today', 'the', 'chinese', 'committed', 'to', 'buy', 'an', 'additional', '10', 'million', 'metric', 'tons', 'of', 'u', 's', 'soybeans', 'hats', 'off', 'to', 'potus', 'for', 'bringing', 'china', 'to', 'the', 'table', 'strategy', 'is', 'working', 'show', 'of', 'good', 'faith', 'by', 'the', 'chinese', 'also', 'indications', 'of', 'more', 'good', 'news', 'to', 'come']\n",
      "['a', 'must', 'read', 'by', 'kimstrassel', 'https', 'twitter', 'com', 'kimstrassel', 'status', '10987485063', '6420300', '8']\n",
      "['fake', 'news', 'is', 'so', 'bad', 'for', 'our', 'country', 'https', 'twitter', 'com', 'wdunlap', 'status', '10989549428', '4321177', '7']\n",
      "['highly', 'respected', 'senator', 'richard', 'burr', 'head', 'of', 'senate', 'intelligence', 'said', 'after', 'interviewing', 'over', '200', 'witnesses', 'and', 'studying', 'over', '2', 'million', 'pages', 'of', 'documents', 'we', 'have', 'found', 'no', 'collusion', 'between', 'the', 'trump', 'campaign', 'and', 'russia', 'the', 'witch', 'hunt', 'so', 'bad', 'for', 'our', 'country', 'must', 'end']\n",
      "['wonderful', 'evening', 'at', 'whitehouse', 'celebrating', 'africanamericanhistorymonth', 'pic', 'twitter', 'com', 'zbjop', '8kxty']\n",
      "['we', 'are', 'here', 'to', 'honor', 'the', 'extraordinary', 'contributions', 'of', 'african', 'americans', 'to', 'every', 'aspect', 'of', 'american', 'life', 'history', 'and', 'culture', 'from', 'the', 'earliest', 'days', 'of', 'this', 'nation', 'african', 'american', 'leaders', 'pioneers', 'visionaries', 'have', 'uplifted', 'inspired', 'our', 'country', 'https', 'www', 'pscp', 'tv', 'w', 'bz84fjfvtlfstfjub1dwuxd8mw5bskv5wnzrevzktd', '9h6boj1bmjn10rm6rlsvhbibe5jmvdnylfw7jbjdd', 't', '15s']\n",
      "['senator', 'john', 'cornyn', 'has', 'done', 'an', 'outstanding', 'job', 'for', 'the', 'people', 'of', 'texas', 'he', 'is', 'strong', 'on', 'crime', 'the', 'border', 'the', 'second', 'amendment', 'and', 'loves', 'our', 'military', 'and', 'vets', 'john', 'has', 'my', 'complete', 'and', 'total', 'endorsement', 'make', 'america', 'great', 'again']\n",
      "['jussiesmollett', 'what', 'about', 'maga', 'and', 'the', 'tens', 'of', 'millions', 'of', 'people', 'you', 'insulted', 'with', 'your', 'racist', 'and', 'dangerous', 'comments', 'maga']\n",
      "['the', 'wall', 'is', 'under', 'construction', 'right', 'now', 'https', 'twitter', 'com', 'realdonaldtrump', 'status', '10982952288', '3704832', '5']\n",
      "['something', 'that', 'is', 'so', 'obviously', 'the', 'future', 'i', 'want', 'the', 'united', 'states', 'to', 'win', 'through', 'competition', 'not', 'by', 'blocking', 'out', 'currently', 'more', 'advanced', 'technologies', 'we', 'must', 'always', 'be', 'the', 'leader', 'in', 'everything', 'we', 'do', 'especially', 'when', 'it', 'comes', 'to', 'the', 'very', 'exciting', 'world', 'of', 'technology']\n",
      "['i', 'want', '5g', 'and', 'even', '6g', 'technology', 'in', 'the', 'united', 'states', 'as', 'soon', 'as', 'possible', 'it', 'is', 'far', 'more', 'powerful', 'faster', 'and', 'smarter', 'than', 'the', 'current', 'standard', 'american', 'companies', 'must', 'step', 'up', 'their', 'efforts', 'or', 'get', 'left', 'behind', 'there', 'is', 'no', 'reason', 'that', 'we', 'should', 'be', 'lagging', 'behind', 'on']\n",
      "['i', 'have', 'instructed', 'secretary', 'of', 'state', 'mike', 'pompeo', 'and', 'he', 'fully', 'agrees', 'not', 'to', 'allow', 'hoda', 'muthana', 'back', 'into', 'the', 'country']\n",
      "['we', 'have', 'just', 'built', 'this', 'powerful', 'wall', 'in', 'new', 'mexico', 'completed', 'on', 'january', '30', '2019', '47', 'days', 'ahead', 'of', 'schedule', 'many', 'miles', 'more', 'now', 'under', 'construction', 'finishthewallpic', 'twitter', 'com', 'tykj', '3krdoc']\n",
      "['california', 'now', 'wants', 'to', 'scale', 'back', 'their', 'already', 'failed', 'fast', 'train', 'project', 'by', 'substantially', 'shortening', 'the', 'distance', 'so', 'that', 'it', 'no', 'longer', 'goes', 'from', 'l', 'a', 'to', 'san', 'francisco', 'a', 'different', 'deal', 'and', 'record', 'cost', 'overruns', 'send', 'the', 'federal', 'government', 'back', 'the', 'billions', 'of', 'dollars', 'wasted']\n",
      "['the', 'new', 'york', 'times', 'reporting', 'is', 'false', 'they', 'are', 'a', 'true', 'enemy', 'of', 'the', 'people']\n",
      "['if', 'thinking', 'that', 'james', 'comey', 'is', 'not', 'a', 'good', 'fbi', 'director', 'is', 'tantamount', 'to', 'being', 'an', 'agent', 'of', 'russia', 'than', 'just', 'list', 'all', 'the', 'people', 'that', 'are', 'agents', 'of', 'russia', 'chuck', 'schumer', 'nancy', 'pelosi', 'rod', 'rosenstein', 'who', 'wrote', 'the', 'memo', 'to', 'get', 'rid', 'of', 'comey', 'the', 'inspector', 'general', 'trey', 'gowdy']\n",
      "['the', 'washington', 'post', 'ignored', 'basic', 'journalistic', 'standards', 'because', 'it', 'wanted', 'to', 'advance', 'its', 'well', 'known', 'and', 'easily', 'documented', 'biased', 'agenda', 'against', 'president', 'donald', 'j', 'trump', 'covington', 'student', 'suing', 'wapo', 'go', 'get', 'them', 'nick', 'fake', 'news']\n",
      "['the', 'press', 'has', 'never', 'been', 'more', 'dishonest', 'than', 'it', 'is', 'today', 'stories', 'are', 'written', 'that', 'have', 'absolutely', 'no', 'basis', 'in', 'fact', 'the', 'writers', 'don', 't', 'even', 'call', 'asking', 'for', 'verification', 'they', 'are', 'totally', 'out', 'of', 'control', 'sadly', 'i', 'kept', 'many', 'of', 'them', 'in', 'business', 'in', 'six', 'years', 'they', 'all', 'go', 'bust']\n",
      "['crazy', 'bernie', 'has', 'just', 'entered', 'the', 'race', 'i', 'wish', 'him', 'well']\n",
      "['andrew', 'mccabe', 'gave', 'absolutely', 'no', 'evidence', 'of', 'any', 'threat', 'to', 'substantiate', 'his', 'absurd', 'claim', 'loudobbs']\n",
      "['this', 'is', 'crazy', 'scary', 'a', 'cabal', 'of', 'unelected', 'bureaucrats', 'angered', 'upset', 'that', 'realdonaldtrump', 'fired', 'their', 'boss', 'whispered', 'about', 'overthrowing', 'him', 'has', 'this', 'ever', 'happened', 'why', 'isn', 't', 'the', 'mainstream', 'seeing', 'this', 'for', 'what', 'it', 'is', 'this', 'is', 'malignant', 'arrogance', 'from', 'a', 'man', 'fired', 'for', 'lying', 'https', 'twitter', 'com', 'mediaite', 'status', '10973075809', '9150438', '4']\n",
      "['pic', 'twitter', 'com', 'xrbxkni', '4nf']\n",
      "['i', 'never', 'said', 'anything', 'bad', 'about', 'andrew', 'mccabe', 's', 'wife', 'other', 'than', 'she', 'they', 'should', 'not', 'have', 'taken', 'large', 'amounts', 'of', 'campaign', 'money', 'from', 'a', 'crooked', 'hillary', 'source', 'when', 'clinton', 'was', 'under', 'investigation', 'by', 'the', 'fbi', 'i', 'never', 'called', 'his', 'wife', 'a', 'loser', 'to', 'him', 'another', 'mccabe', 'made', 'up', 'lie']\n",
      "['the', 'washington', 'post', 'is', 'a', 'fact', 'checker', 'only', 'for', 'the', 'democrats', 'for', 'the', 'republicans', 'and', 'for', 'your', 'all', 'time', 'favorite', 'president', 'it', 'is', 'a', 'fake', 'fact', 'checker']\n",
      "['the', 'failed', 'fast', 'train', 'project', 'in', 'california', 'where', 'the', 'cost', 'overruns', 'are', 'becoming', 'world', 'record', 'setting', 'is', 'hundreds', 'of', 'times', 'more', 'expensive', 'than', 'the', 'desperately', 'needed', 'wall']\n",
      "['as', 'i', 'predicted', '16', 'states', 'led', 'mostly', 'by', 'open', 'border', 'democrats', 'and', 'the', 'radical', 'left', 'have', 'filed', 'a', 'lawsuit', 'in', 'of', 'course', 'the', '9th', 'circuit', 'california', 'the', 'state', 'that', 'has', 'wasted', 'billions', 'of', 'dollars', 'on', 'their', 'out', 'of', 'control', 'fast', 'train', 'with', 'no', 'hope', 'of', 'completion', 'seems', 'in', 'charge']\n",
      "['had', 'the', 'opposition', 'party', 'no', 'not', 'the', 'media', 'won', 'the', 'election', 'the', 'stock', 'market', 'would', 'be', 'down', 'at', 'least', '10', '000', 'points', 'by', 'now', 'we', 'are', 'heading', 'up', 'up', 'up']\n",
      "['the', 'witch', 'hunt', 'in', 'time', 'likely', 'will', 'become', 'recognized', 'as', 'the', 'greatest', 'scandal', 'in', 'american', 'political', 'history', 'marking', 'the', 'first', 'occasion', 'in', 'which', 'the', 'u', 's', 'government', 'bureaucrats', 'sought', 'to', 'overturn', 'an', 'election', 'presidential', 'victor', 'davis', 'hanson', 'and', 'got', 'caught', 'foxnews']\n",
      "['remember', 'this', 'andrew', 'mccabe', 'didn', 't', 'go', 'to', 'the', 'bathroom', 'without', 'the', 'approval', 'of', 'leakin', 'james', 'comey']\n",
      "['our', 'country', 'is', 'making', 'unprecedented', 'progress', 'thanks', 'to', 'the', 'fact', 'that', 'we', 'finally', 'have', 'a', 'president', 'who', 'is', 'keeping', 'his', 'promises', 'and', 'putting', 'america', 'first']\n",
      "['thank', 'you', 'andrew', 'we', 'all', 'miss', 'beautiful', 'meadow', 'https', 'twitter', 'com', 'andrewpollackfl', 'status', '10961226812', '15324168']\n",
      "['thank', 'you', 'jt', 'https', 'twitter', 'com', 'thejtlewis', 'status', '10787347685', '9283456', '1']\n",
      "['amazing', 'https', 'twitter', 'com', 'akinsawyerr', 'status', '10968295885', '5717683', '2']\n",
      "['the', 'biggest', 'abuse', 'of', 'power', 'and', 'corruption', 'scandal', 'in', 'our', 'history', 'and', 'it', 's', 'much', 'worse', 'than', 'we', 'thought', 'andrew', 'mccabe', 'fbi', 'admitted', 'to', 'plotting', 'a', 'coup', 'government', 'overthrow', 'when', 'he', 'was', 'serving', 'in', 'the', 'fbi', 'before', 'he', 'was', 'fired', 'for', 'lying', 'leaking', 'seanhannity', 'foxnews', 'treason']\n",
      "['today', 'more', 'than', '50', 'countries', 'around', 'the', 'world', 'now', 'recognize', 'the', 'rightful', 'government', 'of', 'venezuela', 'the', 'venezuelan', 'people', 'have', 'spoken', 'and', 'the', 'world', 'has', 'heard', 'their', 'voice', 'they', 'are', 'turning', 'the', 'page', 'on', 'socialism', 'and', 'dictatorship', 'and', 'there', 'will', 'be', 'no', 'going', 'back', 'pic', 'twitter', 'com', 'c3dl5rffie']\n",
      "['i', 'ask', 'every', 'member', 'of', 'the', 'maduro', 'regime', 'end', 'this', 'nightmare', 'of', 'poverty', 'hunger', 'and', 'death', 'let', 'your', 'people', 'go', 'set', 'your', 'country', 'free', 'now', 'is', 'the', 'time', 'for', 'all', 'venezuelan', 'patriots', 'to', 'act', 'together', 'as', 'one', 'united', 'people', 'nothing', 'could', 'be', 'better', 'for', 'the', 'future', 'of', 'venezuela']\n",
      "['the', 'people', 'of', 'venezuela', 'are', 'standing', 'for', 'freedom', 'and', 'democracy', 'and', 'the', 'united', 'states', 'of', 'america', 'is', 'standing', 'right', 'by', 'their', 'side']\n",
      "['we', 'are', 'here', 'to', 'proclaim', 'that', 'a', 'new', 'day', 'is', 'coming', 'in', 'latin', 'america', 'in', 'venezuela', 'and', 'across', 'the', 'western', 'hemisphere', 'socialism', 'is', 'dying', 'and', 'liberty', 'prosperity', 'and', 'democracy', 'are', 'being', 'reborn', 'https', 'www', 'pscp', 'tv', 'w', 'bzsn', '2dfvtlfstfjub1dwuxd8mxzbr1j5v0xauwflbewm9lju950ah', 'yiukkndqcynkcotpavyl', '5orutuzowt', 't', '2s']\n",
      "['a', 'beautiful', 'ceremony', 'at', 'nicklaus', '4kids', 'hospital', 'today', 'to', 'celebrate', 'their', 'new', 'changes', 'i', 'hope', 'the', 'garden', 'nurtures', 'heals', 'all', 'the', 'young', 'patients', 'who', 'visit', 'thank', 'you', 'to', 'the', 'generous', 'donors', 'to', 'nicklaus', '4kids', 'for', 'all', 'the', 'important', 'work', 'you', 'are', 'doing', 'bebestpic', 'twitter', 'com', 'qrxxgogwkr']\n",
      "['hope', 'you', 'are', 'enjoying', 'your', 'president', 's', 'day', 'our', 'country', 'is', 'making', 'unprecedented', 'progress']\n",
      "['this', 'was', 'an', 'illegal', 'coup', 'attempt', 'on', 'the', 'president', 'of', 'the', 'united', 'states', 'dan', 'bongino', 'on', 'foxandfriends', 'true']\n",
      "['great', 'analysis', 'by', 'foxandfriends']\n"
     ]
    }
   ],
   "source": [
    "for tweet in all_tweets:\n",
    "    print(tt.tokenize(tweet))"
   ]
  },
  {
   "cell_type": "markdown",
   "metadata": {},
   "source": [
    "#### Stop Words"
   ]
  },
  {
   "cell_type": "code",
   "execution_count": 57,
   "metadata": {},
   "outputs": [
    {
     "name": "stderr",
     "output_type": "stream",
     "text": [
      "[nltk_data] Downloading package stopwords to\n",
      "[nltk_data]     /Users/amiteshsinha/nltk_data...\n",
      "[nltk_data]   Package stopwords is already up-to-date!\n"
     ]
    },
    {
     "data": {
      "text/plain": [
       "True"
      ]
     },
     "execution_count": 57,
     "metadata": {},
     "output_type": "execute_result"
    }
   ],
   "source": [
    "from nltk.corpus import stopwords\n",
    "nltk.download(\"stopwords\")"
   ]
  },
  {
   "cell_type": "code",
   "execution_count": 58,
   "metadata": {},
   "outputs": [
    {
     "name": "stdout",
     "output_type": "stream",
     "text": [
      "['i', 'me', 'my', 'myself', 'we', 'our', 'ours', 'ourselves', 'you', \"you're\", \"you've\", \"you'll\", \"you'd\", 'your', 'yours', 'yourself', 'yourselves', 'he', 'him', 'his', 'himself', 'she', \"she's\", 'her', 'hers', 'herself', 'it', \"it's\", 'its', 'itself', 'they', 'them', 'their', 'theirs', 'themselves', 'what', 'which', 'who', 'whom', 'this', 'that', \"that'll\", 'these', 'those', 'am', 'is', 'are', 'was', 'were', 'be', 'been', 'being', 'have', 'has', 'had', 'having', 'do', 'does', 'did', 'doing', 'a', 'an', 'the', 'and', 'but', 'if', 'or', 'because', 'as', 'until', 'while', 'of', 'at', 'by', 'for', 'with', 'about', 'against', 'between', 'into', 'through', 'during', 'before', 'after', 'above', 'below', 'to', 'from', 'up', 'down', 'in', 'out', 'on', 'off', 'over', 'under', 'again', 'further', 'then', 'once', 'here', 'there', 'when', 'where', 'why', 'how', 'all', 'any', 'both', 'each', 'few', 'more', 'most', 'other', 'some', 'such', 'no', 'nor', 'not', 'only', 'own', 'same', 'so', 'than', 'too', 'very', 's', 't', 'can', 'will', 'just', 'don', \"don't\", 'should', \"should've\", 'now', 'd', 'll', 'm', 'o', 're', 've', 'y', 'ain', 'aren', \"aren't\", 'couldn', \"couldn't\", 'didn', \"didn't\", 'doesn', \"doesn't\", 'hadn', \"hadn't\", 'hasn', \"hasn't\", 'haven', \"haven't\", 'isn', \"isn't\", 'ma', 'mightn', \"mightn't\", 'mustn', \"mustn't\", 'needn', \"needn't\", 'shan', \"shan't\", 'shouldn', \"shouldn't\", 'wasn', \"wasn't\", 'weren', \"weren't\", 'won', \"won't\", 'wouldn', \"wouldn't\"]\n"
     ]
    }
   ],
   "source": [
    "print(stopwords.words('english'))"
   ]
  },
  {
   "cell_type": "code",
   "execution_count": 59,
   "metadata": {},
   "outputs": [],
   "source": [
    "## Remove Stop words"
   ]
  },
  {
   "cell_type": "code",
   "execution_count": 60,
   "metadata": {
    "scrolled": false
   },
   "outputs": [
    {
     "name": "stdout",
     "output_type": "stream",
     "text": [
      "['one', 'shred', 'evidence', 'president', 'done', 'anything', 'constitutionally', 'anything', 'else', 'wrong', 'graham', 'ledger', 'thank', 'graham', 'true']\n",
      "['people', 'venezuela', 'stand', 'threshold', 'history', 'ready', 'reclaim', 'country', 'future', 'pic', 'twitter', 'com', 'ajxd1en64c']\n",
      "['74', 'years', 'ago', 'today', 'marines', 'iwo', 'jima', 'raised', 'flag', 'atop', 'mount', 'suribachi', 'semper', 'fidelis', 'pic', 'twitter', 'com', 'usq2z344xp']\n",
      "['far', 'energy', 'right', 'left', 'senate', 'win', 'big', '2020', 'fake', 'news', 'want', 'report', 'facts', 'border', 'security', 'big', 'factor', 'construction', 'wall', 'stop', 'gangs', 'drugs', 'crime']\n",
      "['god', 'bless', 'people', 'venezuela']\n",
      "['great', 'new', 'book', 'case', 'trump', 'victor', 'davis', 'hanson', 'hoover', 'senior', 'fellow']\n",
      "['kelly', 'done', 'outstanding', 'job', 'representing', 'nation', 'doubt', 'leadership', 'country', 'represented', 'highest', 'level', 'congratulations', 'kelly', 'entire', 'family']\n",
      "['pleased', 'announce', 'kelly', 'knight', 'craft', 'current', 'ambassador', 'canada', 'nominated', 'united', 'states', 'ambassador', 'united', 'nations']\n",
      "['breaking', 'oval', 'office', 'meeting', 'today', 'chinese', 'committed', 'buy', 'additional', '10', 'million', 'metric', 'tons', 'u', 'soybeans', 'hats', 'potus', 'bringing', 'china', 'table', 'strategy', 'working', 'show', 'good', 'faith', 'chinese', 'also', 'indications', 'good', 'news', 'come']\n",
      "['must', 'read', 'kimstrassel', 'https', 'twitter', 'com', 'kimstrassel', 'status', '1098748506364203008']\n",
      "['fake', 'news', 'bad', 'country', 'https', 'twitter', 'com', 'wdunlap', 'status', '1098954942843211777']\n",
      "['highly', 'respected', 'senator', 'richard', 'burr', 'head', 'senate', 'intelligence', 'said', 'interviewing', '200', 'witnesses', 'studying', '2', 'million', 'pages', 'documents', 'found', 'collusion', 'trump', 'campaign', 'russia', 'witch', 'hunt', 'bad', 'country', 'must', 'end']\n",
      "['wonderful', 'evening', 'whitehouse', 'celebrating', 'africanamericanhistorymonth', 'pic', 'twitter', 'com', 'zbjop8kxty']\n",
      "['honor', 'extraordinary', 'contributions', 'african', 'americans', 'every', 'aspect', 'american', 'life', 'history', 'culture', 'earliest', 'days', 'nation', 'african', 'american', 'leaders', 'pioneers', 'visionaries', 'uplifted', 'inspired', 'country', 'https', 'www', 'pscp', 'tv', 'w', 'bz84fjfvtlfstfjub1dwuxd8mw5bskv5wnzrevzktd', '9h6boj1bmjn10rm6rlsvhbibe5jmvdnylfw7jbjdd', '15s']\n",
      "['senator', 'john', 'cornyn', 'done', 'outstanding', 'job', 'people', 'texas', 'strong', 'crime', 'border', 'second', 'amendment', 'loves', 'military', 'vets', 'john', 'complete', 'total', 'endorsement', 'make', 'america', 'great']\n",
      "['jussiesmollett', 'maga', 'tens', 'millions', 'people', 'insulted', 'racist', 'dangerous', 'comments', 'maga']\n",
      "['wall', 'construction', 'right', 'https', 'twitter', 'com', 'realdonaldtrump', 'status', '1098295228837048325']\n",
      "['something', 'obviously', 'future', 'want', 'united', 'states', 'win', 'competition', 'blocking', 'currently', 'advanced', 'technologies', 'must', 'always', 'leader', 'everything', 'especially', 'comes', 'exciting', 'world', 'technology']\n",
      "['want', '5g', 'even', '6g', 'technology', 'united', 'states', 'soon', 'possible', 'far', 'powerful', 'faster', 'smarter', 'current', 'standard', 'american', 'companies', 'must', 'step', 'efforts', 'get', 'left', 'behind', 'reason', 'lagging', 'behind']\n",
      "['instructed', 'secretary', 'state', 'mike', 'pompeo', 'fully', 'agrees', 'allow', 'hoda', 'muthana', 'back', 'country']\n",
      "['built', 'powerful', 'wall', 'new', 'mexico', 'completed', 'january', '30', '2019', '47', 'days', 'ahead', 'schedule', 'many', 'miles', 'construction', 'finishthewallpic', 'twitter', 'com', 'tykj3krdoc']\n",
      "['california', 'wants', 'scale', 'back', 'already', 'failed', 'fast', 'train', 'project', 'substantially', 'shortening', 'distance', 'longer', 'goes', 'l', 'san', 'francisco', 'different', 'deal', 'record', 'cost', 'overruns', 'send', 'federal', 'government', 'back', 'billions', 'dollars', 'wasted']\n",
      "['new', 'york', 'times', 'reporting', 'false', 'true', 'enemy', 'people']\n",
      "['thinking', 'james', 'comey', 'good', 'fbi', 'director', 'tantamount', 'agent', 'russia', 'list', 'people', 'agents', 'russia', 'chuck', 'schumer', 'nancy', 'pelosi', 'rod', 'rosenstein', 'wrote', 'memo', 'get', 'rid', 'comey', 'inspector', 'general', 'trey', 'gowdy']\n",
      "['washington', 'post', 'ignored', 'basic', 'journalistic', 'standards', 'wanted', 'advance', 'well', 'known', 'easily', 'documented', 'biased', 'agenda', 'president', 'donald', 'j', 'trump', 'covington', 'student', 'suing', 'wapo', 'go', 'get', 'nick', 'fake', 'news']\n",
      "['press', 'never', 'dishonest', 'today', 'stories', 'written', 'absolutely', 'basis', 'fact', 'writers', 'even', 'call', 'asking', 'verification', 'totally', 'control', 'sadly', 'kept', 'many', 'business', 'six', 'years', 'go', 'bust']\n",
      "['crazy', 'bernie', 'entered', 'race', 'wish', 'well']\n",
      "['andrew', 'mccabe', 'gave', 'absolutely', 'evidence', 'threat', 'substantiate', 'absurd', 'claim', 'loudobbs']\n",
      "['crazy', 'scary', 'cabal', 'unelected', 'bureaucrats', 'angered', 'upset', 'realdonaldtrump', 'fired', 'boss', 'whispered', 'overthrowing', 'ever', 'happened', 'mainstream', 'seeing', 'malignant', 'arrogance', 'man', 'fired', 'lying', 'https', 'twitter', 'com', 'mediaite', 'status', '1097307580991504384']\n",
      "['pic', 'twitter', 'com', 'xrbxkni4nf']\n",
      "['never', 'said', 'anything', 'bad', 'andrew', 'mccabe', 'wife', 'taken', 'large', 'amounts', 'campaign', 'money', 'crooked', 'hillary', 'source', 'clinton', 'investigation', 'fbi', 'never', 'called', 'wife', 'loser', 'another', 'mccabe', 'made', 'lie']\n",
      "['washington', 'post', 'fact', 'checker', 'democrats', 'republicans', 'time', 'favorite', 'president', 'fake', 'fact', 'checker']\n",
      "['failed', 'fast', 'train', 'project', 'california', 'cost', 'overruns', 'becoming', 'world', 'record', 'setting', 'hundreds', 'times', 'expensive', 'desperately', 'needed', 'wall']\n",
      "['predicted', '16', 'states', 'led', 'mostly', 'open', 'border', 'democrats', 'radical', 'left', 'filed', 'lawsuit', 'course', '9th', 'circuit', 'california', 'state', 'wasted', 'billions', 'dollars', 'control', 'fast', 'train', 'hope', 'completion', 'seems', 'charge']\n",
      "['opposition', 'party', 'media', 'election', 'stock', 'market', 'would', 'least', '10', '000', 'points', 'heading']\n",
      "['witch', 'hunt', 'time', 'likely', 'become', 'recognized', 'greatest', 'scandal', 'american', 'political', 'history', 'marking', 'first', 'occasion', 'u', 'government', 'bureaucrats', 'sought', 'overturn', 'election', 'presidential', 'victor', 'davis', 'hanson', 'got', 'caught', 'foxnews']\n",
      "['remember', 'andrew', 'mccabe', 'go', 'bathroom', 'without', 'approval', 'leakin', 'james', 'comey']\n",
      "['country', 'making', 'unprecedented', 'progress', 'thanks', 'fact', 'finally', 'president', 'keeping', 'promises', 'putting', 'america', 'first']\n",
      "['thank', 'andrew', 'miss', 'beautiful', 'meadow', 'https', 'twitter', 'com', 'andrewpollackfl', 'status', '1096122681215324168']\n",
      "['thank', 'jt', 'https', 'twitter', 'com', 'thejtlewis', 'status', '1078734768592834561']\n",
      "['amazing', 'https', 'twitter', 'com', 'akinsawyerr', 'status', '1096829588557176832']\n",
      "['biggest', 'abuse', 'power', 'corruption', 'scandal', 'history', 'much', 'worse', 'thought', 'andrew', 'mccabe', 'fbi', 'admitted', 'plotting', 'coup', 'government', 'overthrow', 'serving', 'fbi', 'fired', 'lying', 'leaking', 'seanhannity', 'foxnews', 'treason']\n",
      "['today', '50', 'countries', 'around', 'world', 'recognize', 'rightful', 'government', 'venezuela', 'venezuelan', 'people', 'spoken', 'world', 'heard', 'voice', 'turning', 'page', 'socialism', 'dictatorship', 'going', 'back', 'pic', 'twitter', 'com', 'c3dl5rffie']\n",
      "['ask', 'every', 'member', 'maduro', 'regime', 'end', 'nightmare', 'poverty', 'hunger', 'death', 'let', 'people', 'go', 'set', 'country', 'free', 'time', 'venezuelan', 'patriots', 'act', 'together', 'one', 'united', 'people', 'nothing', 'could', 'better', 'future', 'venezuela']\n",
      "['people', 'venezuela', 'standing', 'freedom', 'democracy', 'united', 'states', 'america', 'standing', 'right', 'side']\n",
      "['proclaim', 'new', 'day', 'coming', 'latin', 'america', 'venezuela', 'across', 'western', 'hemisphere', 'socialism', 'dying', 'liberty', 'prosperity', 'democracy', 'reborn', 'https', 'www', 'pscp', 'tv', 'w', 'bzsn2dfvtlfstfjub1dwuxd8mxzbr1j5v0xauwflbewm9lju950ah', 'yiukkndqcynkcotpavyl5orutuzowt', '2s']\n",
      "['beautiful', 'ceremony', 'nicklaus4kids', 'hospital', 'today', 'celebrate', 'new', 'changes', 'hope', 'garden', 'nurtures', 'heals', 'young', 'patients', 'visit', 'thank', 'generous', 'donors', 'nicklaus4kids', 'important', 'work', 'bebestpic', 'twitter', 'com', 'qrxxgogwkr']\n"
     ]
    },
    {
     "name": "stdout",
     "output_type": "stream",
     "text": [
      "['hope', 'enjoying', 'president', 'day', 'country', 'making', 'unprecedented', 'progress']\n",
      "['illegal', 'coup', 'attempt', 'president', 'united', 'states', 'dan', 'bongino', 'foxandfriends', 'true']\n",
      "['great', 'analysis', 'foxandfriends']\n"
     ]
    }
   ],
   "source": [
    "for tweet in all_tweets:\n",
    "    words = tweet.split()\n",
    "    non_stopWords = [w for w in words if w not in stopwords.words('english')]\n",
    "    print(non_stopWords)"
   ]
  },
  {
   "cell_type": "markdown",
   "metadata": {},
   "source": [
    "#### Stemming"
   ]
  },
  {
   "cell_type": "code",
   "execution_count": 61,
   "metadata": {},
   "outputs": [],
   "source": [
    "from nltk.stem.porter import PorterStemmer"
   ]
  },
  {
   "cell_type": "code",
   "execution_count": 62,
   "metadata": {
    "scrolled": false
   },
   "outputs": [
    {
     "name": "stdout",
     "output_type": "stream",
     "text": [
      "['one', 'shred', 'evid', 'presid', 'done', 'anyth', 'constitut', 'anyth', 'els', 'wrong', 'graham', 'ledger', 'thank', 'graham', 'true']\n",
      "['peopl', 'venezuela', 'stand', 'threshold', 'histori', 'readi', 'reclaim', 'countri', 'futur', 'pic', 'twitter', 'com', 'ajxd1en64c']\n",
      "['74', 'year', 'ago', 'today', 'marin', 'iwo', 'jima', 'rais', 'flag', 'atop', 'mount', 'suribachi', 'semper', 'fide', 'pic', 'twitter', 'com', 'usq2z344xp']\n",
      "['far', 'energi', 'right', 'left', 'senat', 'win', 'big', '2020', 'fake', 'news', 'want', 'report', 'fact', 'border', 'secur', 'big', 'factor', 'construct', 'wall', 'stop', 'gang', 'drug', 'crime']\n",
      "['god', 'bless', 'peopl', 'venezuela']\n",
      "['great', 'new', 'book', 'case', 'trump', 'victor', 'davi', 'hanson', 'hoover', 'senior', 'fellow']\n",
      "['kelli', 'done', 'outstand', 'job', 'repres', 'nation', 'doubt', 'leadership', 'countri', 'repres', 'highest', 'level', 'congratul', 'kelli', 'entir', 'famili']\n",
      "['pleas', 'announc', 'kelli', 'knight', 'craft', 'current', 'ambassador', 'canada', 'nomin', 'unit', 'state', 'ambassador', 'unit', 'nation']\n",
      "['break', 'oval', 'offic', 'meet', 'today', 'chines', 'commit', 'buy', 'addit', '10', 'million', 'metric', 'ton', 'u', 'soybean', 'hat', 'potu', 'bring', 'china', 'tabl', 'strategi', 'work', 'show', 'good', 'faith', 'chines', 'also', 'indic', 'good', 'news', 'come']\n",
      "['must', 'read', 'kimstrassel', 'http', 'twitter', 'com', 'kimstrassel', 'statu', '1098748506364203008']\n",
      "['fake', 'news', 'bad', 'countri', 'http', 'twitter', 'com', 'wdunlap', 'statu', '1098954942843211777']\n",
      "['highli', 'respect', 'senat', 'richard', 'burr', 'head', 'senat', 'intellig', 'said', 'interview', '200', 'wit', 'studi', '2', 'million', 'page', 'document', 'found', 'collus', 'trump', 'campaign', 'russia', 'witch', 'hunt', 'bad', 'countri', 'must', 'end']\n",
      "['wonder', 'even', 'whitehous', 'celebr', 'africanamericanhistorymonth', 'pic', 'twitter', 'com', 'zbjop8kxti']\n",
      "['honor', 'extraordinari', 'contribut', 'african', 'american', 'everi', 'aspect', 'american', 'life', 'histori', 'cultur', 'earliest', 'day', 'nation', 'african', 'american', 'leader', 'pioneer', 'visionari', 'uplift', 'inspir', 'countri', 'http', 'www', 'pscp', 'tv', 'w', 'bz84fjfvtlfstfjub1dwuxd8mw5bskv5wnzrevzktd', '9h6boj1bmjn10rm6rlsvhbibe5jmvdnylfw7jbjdd', '15']\n",
      "['senat', 'john', 'cornyn', 'done', 'outstand', 'job', 'peopl', 'texa', 'strong', 'crime', 'border', 'second', 'amend', 'love', 'militari', 'vet', 'john', 'complet', 'total', 'endors', 'make', 'america', 'great']\n",
      "['jussiesmollett', 'maga', 'ten', 'million', 'peopl', 'insult', 'racist', 'danger', 'comment', 'maga']\n",
      "['wall', 'construct', 'right', 'http', 'twitter', 'com', 'realdonaldtrump', 'statu', '1098295228837048325']\n",
      "['someth', 'obvious', 'futur', 'want', 'unit', 'state', 'win', 'competit', 'block', 'current', 'advanc', 'technolog', 'must', 'alway', 'leader', 'everyth', 'especi', 'come', 'excit', 'world', 'technolog']\n",
      "['want', '5g', 'even', '6g', 'technolog', 'unit', 'state', 'soon', 'possibl', 'far', 'power', 'faster', 'smarter', 'current', 'standard', 'american', 'compani', 'must', 'step', 'effort', 'get', 'left', 'behind', 'reason', 'lag', 'behind']\n",
      "['instruct', 'secretari', 'state', 'mike', 'pompeo', 'fulli', 'agre', 'allow', 'hoda', 'muthana', 'back', 'countri']\n",
      "['built', 'power', 'wall', 'new', 'mexico', 'complet', 'januari', '30', '2019', '47', 'day', 'ahead', 'schedul', 'mani', 'mile', 'construct', 'finishthewallp', 'twitter', 'com', 'tykj3krdoc']\n",
      "['california', 'want', 'scale', 'back', 'alreadi', 'fail', 'fast', 'train', 'project', 'substanti', 'shorten', 'distanc', 'longer', 'goe', 'l', 'san', 'francisco', 'differ', 'deal', 'record', 'cost', 'overrun', 'send', 'feder', 'govern', 'back', 'billion', 'dollar', 'wast']\n",
      "['new', 'york', 'time', 'report', 'fals', 'true', 'enemi', 'peopl']\n",
      "['think', 'jame', 'comey', 'good', 'fbi', 'director', 'tantamount', 'agent', 'russia', 'list', 'peopl', 'agent', 'russia', 'chuck', 'schumer', 'nanci', 'pelosi', 'rod', 'rosenstein', 'wrote', 'memo', 'get', 'rid', 'comey', 'inspector', 'gener', 'trey', 'gowdi']\n",
      "['washington', 'post', 'ignor', 'basic', 'journalist', 'standard', 'want', 'advanc', 'well', 'known', 'easili', 'document', 'bias', 'agenda', 'presid', 'donald', 'j', 'trump', 'covington', 'student', 'su', 'wapo', 'go', 'get', 'nick', 'fake', 'news']\n",
      "['press', 'never', 'dishonest', 'today', 'stori', 'written', 'absolut', 'basi', 'fact', 'writer', 'even', 'call', 'ask', 'verif', 'total', 'control', 'sadli', 'kept', 'mani', 'busi', 'six', 'year', 'go', 'bust']\n",
      "['crazi', 'berni', 'enter', 'race', 'wish', 'well']\n",
      "['andrew', 'mccabe', 'gave', 'absolut', 'evid', 'threat', 'substanti', 'absurd', 'claim', 'loudobb']\n",
      "['crazi', 'scari', 'cabal', 'unelect', 'bureaucrat', 'anger', 'upset', 'realdonaldtrump', 'fire', 'boss', 'whisper', 'overthrow', 'ever', 'happen', 'mainstream', 'see', 'malign', 'arrog', 'man', 'fire', 'lie', 'http', 'twitter', 'com', 'mediait', 'statu', '1097307580991504384']\n",
      "['pic', 'twitter', 'com', 'xrbxkni4nf']\n",
      "['never', 'said', 'anyth', 'bad', 'andrew', 'mccabe', 'wife', 'taken', 'larg', 'amount', 'campaign', 'money', 'crook', 'hillari', 'sourc', 'clinton', 'investig', 'fbi', 'never', 'call', 'wife', 'loser', 'anoth', 'mccabe', 'made', 'lie']\n",
      "['washington', 'post', 'fact', 'checker', 'democrat', 'republican', 'time', 'favorit', 'presid', 'fake', 'fact', 'checker']\n",
      "['fail', 'fast', 'train', 'project', 'california', 'cost', 'overrun', 'becom', 'world', 'record', 'set', 'hundr', 'time', 'expens', 'desper', 'need', 'wall']\n",
      "['predict', '16', 'state', 'led', 'mostli', 'open', 'border', 'democrat', 'radic', 'left', 'file', 'lawsuit', 'cours', '9th', 'circuit', 'california', 'state', 'wast', 'billion', 'dollar', 'control', 'fast', 'train', 'hope', 'complet', 'seem', 'charg']\n",
      "['opposit', 'parti', 'media', 'elect', 'stock', 'market', 'would', 'least', '10', '000', 'point', 'head']\n",
      "['witch', 'hunt', 'time', 'like', 'becom', 'recogn', 'greatest', 'scandal', 'american', 'polit', 'histori', 'mark', 'first', 'occas', 'u', 'govern', 'bureaucrat', 'sought', 'overturn', 'elect', 'presidenti', 'victor', 'davi', 'hanson', 'got', 'caught', 'foxnew']\n",
      "['rememb', 'andrew', 'mccabe', 'go', 'bathroom', 'without', 'approv', 'leakin', 'jame', 'comey']\n",
      "['countri', 'make', 'unpreced', 'progress', 'thank', 'fact', 'final', 'presid', 'keep', 'promis', 'put', 'america', 'first']\n",
      "['thank', 'andrew', 'miss', 'beauti', 'meadow', 'http', 'twitter', 'com', 'andrewpollackfl', 'statu', '1096122681215324168']\n",
      "['thank', 'jt', 'http', 'twitter', 'com', 'thejtlewi', 'statu', '1078734768592834561']\n",
      "['amaz', 'http', 'twitter', 'com', 'akinsawyerr', 'statu', '1096829588557176832']\n",
      "['biggest', 'abus', 'power', 'corrupt', 'scandal', 'histori', 'much', 'wors', 'thought', 'andrew', 'mccabe', 'fbi', 'admit', 'plot', 'coup', 'govern', 'overthrow', 'serv', 'fbi', 'fire', 'lie', 'leak', 'seanhann', 'foxnew', 'treason']\n",
      "['today', '50', 'countri', 'around', 'world', 'recogn', 'right', 'govern', 'venezuela', 'venezuelan', 'peopl', 'spoken', 'world', 'heard', 'voic', 'turn', 'page', 'social', 'dictatorship', 'go', 'back', 'pic', 'twitter', 'com', 'c3dl5rffie']\n",
      "['ask', 'everi', 'member', 'maduro', 'regim', 'end', 'nightmar', 'poverti', 'hunger', 'death', 'let', 'peopl', 'go', 'set', 'countri', 'free', 'time', 'venezuelan', 'patriot', 'act', 'togeth', 'one', 'unit', 'peopl', 'noth', 'could', 'better', 'futur', 'venezuela']\n",
      "['peopl', 'venezuela', 'stand', 'freedom', 'democraci', 'unit', 'state', 'america', 'stand', 'right', 'side']\n",
      "['proclaim', 'new', 'day', 'come', 'latin', 'america', 'venezuela', 'across', 'western', 'hemispher', 'social', 'die', 'liberti', 'prosper', 'democraci', 'reborn', 'http', 'www', 'pscp', 'tv', 'w', 'bzsn2dfvtlfstfjub1dwuxd8mxzbr1j5v0xauwflbewm9lju950ah', 'yiukkndqcynkcotpavyl5orutuzowt', '2s']\n",
      "['beauti', 'ceremoni', 'nicklaus4kid', 'hospit', 'today', 'celebr', 'new', 'chang', 'hope', 'garden', 'nurtur', 'heal', 'young', 'patient', 'visit', 'thank', 'gener', 'donor', 'nicklaus4kid', 'import', 'work', 'bebestp', 'twitter', 'com', 'qrxxgogwkr']\n",
      "['hope', 'enjoy', 'presid', 'day', 'countri', 'make', 'unpreced', 'progress']\n",
      "['illeg', 'coup', 'attempt', 'presid', 'unit', 'state', 'dan', 'bongino', 'foxandfriend', 'true']\n",
      "['great', 'analysi', 'foxandfriend']\n"
     ]
    }
   ],
   "source": [
    "for tweet in all_tweets:\n",
    "    words = tweet.split()\n",
    "    new_words = [w for w in words if w not in stopwords.words(\"english\")]\n",
    "    print([PorterStemmer().stem(w) for w in new_words])"
   ]
  },
  {
   "cell_type": "markdown",
   "metadata": {},
   "source": [
    "#### Lemmatization\n",
    "https://www.nltk.org/api/nltk.stem.html  \n",
    "https://nlp.stanford.edu/IR-book/html/htmledition/stemming-and-lemmatization-1.html"
   ]
  },
  {
   "cell_type": "code",
   "execution_count": 64,
   "metadata": {},
   "outputs": [
    {
     "name": "stderr",
     "output_type": "stream",
     "text": [
      "[nltk_data] Downloading package wordnet to\n",
      "[nltk_data]     /Users/amiteshsinha/nltk_data...\n",
      "[nltk_data]   Package wordnet is already up-to-date!\n"
     ]
    },
    {
     "data": {
      "text/plain": [
       "True"
      ]
     },
     "execution_count": 64,
     "metadata": {},
     "output_type": "execute_result"
    }
   ],
   "source": [
    "nltk.download('wordnet')"
   ]
  },
  {
   "cell_type": "code",
   "execution_count": 65,
   "metadata": {},
   "outputs": [],
   "source": [
    "from nltk.stem.wordnet import WordNetLemmatizer"
   ]
  },
  {
   "cell_type": "code",
   "execution_count": 67,
   "metadata": {},
   "outputs": [],
   "source": [
    "wlem = WordNetLemmatizer()"
   ]
  },
  {
   "cell_type": "markdown",
   "metadata": {},
   "source": [
    "#### <span style='color:green'> Below uses default argument pos = 'n'</span>"
   ]
  },
  {
   "cell_type": "code",
   "execution_count": 70,
   "metadata": {
    "scrolled": false
   },
   "outputs": [
    {
     "name": "stdout",
     "output_type": "stream",
     "text": [
      "['one', 'shred', 'evidence', 'president', 'done', 'anything', 'constitutionally', 'anything', 'else', 'wrong', 'graham', 'ledger', 'thank', 'graham', 'true']\n",
      "['people', 'venezuela', 'stand', 'threshold', 'history', 'ready', 'reclaim', 'country', 'future', 'pic', 'twitter', 'com', 'ajxd', '1en64c']\n",
      "['74', 'year', 'ago', 'today', 'marine', 'iwo', 'jima', 'raised', 'flag', 'atop', 'mount', 'suribachi', 'semper', 'fidelis', 'pic', 'twitter', 'com', 'usq', '2z344xp']\n",
      "['far', 'energy', 'right', 'left', 'senate', 'win', 'big', '2020', 'fake', 'news', 'want', 'report', 'fact', 'border', 'security', 'big', 'factor', 'construction', 'wall', 'stop', 'gang', 'drug', 'crime']\n",
      "['god', 'bless', 'people', 'venezuela']\n",
      "['great', 'new', 'book', 'case', 'trump', 'victor', 'davis', 'hanson', 'hoover', 'senior', 'fellow']\n",
      "['kelly', 'done', 'outstanding', 'job', 'representing', 'nation', 'doubt', 'leadership', 'country', 'represented', 'highest', 'level', 'congratulation', 'kelly', 'entire', 'family']\n",
      "['pleased', 'announce', 'kelly', 'knight', 'craft', 'current', 'ambassador', 'canada', 'nominated', 'united', 'state', 'ambassador', 'united', 'nation']\n",
      "['breaking', 'oval', 'office', 'meeting', 'today', 'chinese', 'committed', 'buy', 'additional', '10', 'million', 'metric', 'ton', 'u', 'soybean', 'hat', 'potus', 'bringing', 'china', 'table', 'strategy', 'working', 'show', 'good', 'faith', 'chinese', 'also', 'indication', 'good', 'news', 'come']\n",
      "['must', 'read', 'kimstrassel', 'http', 'twitter', 'com', 'kimstrassel', 'status', '10987485063', '6420300', '8']\n",
      "['fake', 'news', 'bad', 'country', 'http', 'twitter', 'com', 'wdunlap', 'status', '10989549428', '4321177', '7']\n",
      "['highly', 'respected', 'senator', 'richard', 'burr', 'head', 'senate', 'intelligence', 'said', 'interviewing', '200', 'witness', 'studying', '2', 'million', 'page', 'document', 'found', 'collusion', 'trump', 'campaign', 'russia', 'witch', 'hunt', 'bad', 'country', 'must', 'end']\n",
      "['wonderful', 'evening', 'whitehouse', 'celebrating', 'africanamericanhistorymonth', 'pic', 'twitter', 'com', 'zbjop', '8kxty']\n",
      "['honor', 'extraordinary', 'contribution', 'african', 'american', 'every', 'aspect', 'american', 'life', 'history', 'culture', 'earliest', 'day', 'nation', 'african', 'american', 'leader', 'pioneer', 'visionary', 'uplifted', 'inspired', 'country', 'http', 'www', 'pscp', 'tv', 'w', 'bz84fjfvtlfstfjub1dwuxd8mw5bskv5wnzrevzktd', '9h6boj1bmjn10rm6rlsvhbibe5jmvdnylfw7jbjdd', '15']\n",
      "['senator', 'john', 'cornyn', 'done', 'outstanding', 'job', 'people', 'texas', 'strong', 'crime', 'border', 'second', 'amendment', 'love', 'military', 'vet', 'john', 'complete', 'total', 'endorsement', 'make', 'america', 'great']\n",
      "['jussiesmollett', 'maga', 'ten', 'million', 'people', 'insulted', 'racist', 'dangerous', 'comment', 'maga']\n",
      "['wall', 'construction', 'right', 'http', 'twitter', 'com', 'realdonaldtrump', 'status', '10982952288', '3704832', '5']\n",
      "['something', 'obviously', 'future', 'want', 'united', 'state', 'win', 'competition', 'blocking', 'currently', 'advanced', 'technology', 'must', 'always', 'leader', 'everything', 'especially', 'come', 'exciting', 'world', 'technology']\n",
      "['want', '5g', 'even', '6g', 'technology', 'united', 'state', 'soon', 'possible', 'far', 'powerful', 'faster', 'smarter', 'current', 'standard', 'american', 'company', 'must', 'step', 'effort', 'get', 'left', 'behind', 'reason', 'lagging', 'behind']\n",
      "['instructed', 'secretary', 'state', 'mike', 'pompeo', 'fully', 'agrees', 'allow', 'hoda', 'muthana', 'back', 'country']\n",
      "['built', 'powerful', 'wall', 'new', 'mexico', 'completed', 'january', '30', '2019', '47', 'day', 'ahead', 'schedule', 'many', 'mile', 'construction', 'finishthewallpic', 'twitter', 'com', 'tykj', '3krdoc']\n",
      "['california', 'want', 'scale', 'back', 'already', 'failed', 'fast', 'train', 'project', 'substantially', 'shortening', 'distance', 'longer', 'go', 'l', 'san', 'francisco', 'different', 'deal', 'record', 'cost', 'overrun', 'send', 'federal', 'government', 'back', 'billion', 'dollar', 'wasted']\n",
      "['new', 'york', 'time', 'reporting', 'false', 'true', 'enemy', 'people']\n",
      "['thinking', 'james', 'comey', 'good', 'fbi', 'director', 'tantamount', 'agent', 'russia', 'list', 'people', 'agent', 'russia', 'chuck', 'schumer', 'nancy', 'pelosi', 'rod', 'rosenstein', 'wrote', 'memo', 'get', 'rid', 'comey', 'inspector', 'general', 'trey', 'gowdy']\n",
      "['washington', 'post', 'ignored', 'basic', 'journalistic', 'standard', 'wanted', 'advance', 'well', 'known', 'easily', 'documented', 'biased', 'agenda', 'president', 'donald', 'j', 'trump', 'covington', 'student', 'suing', 'wapo', 'go', 'get', 'nick', 'fake', 'news']\n",
      "['press', 'never', 'dishonest', 'today', 'story', 'written', 'absolutely', 'basis', 'fact', 'writer', 'even', 'call', 'asking', 'verification', 'totally', 'control', 'sadly', 'kept', 'many', 'business', 'six', 'year', 'go', 'bust']\n",
      "['crazy', 'bernie', 'entered', 'race', 'wish', 'well']\n",
      "['andrew', 'mccabe', 'gave', 'absolutely', 'evidence', 'threat', 'substantiate', 'absurd', 'claim', 'loudobbs']\n",
      "['crazy', 'scary', 'cabal', 'unelected', 'bureaucrat', 'angered', 'upset', 'realdonaldtrump', 'fired', 'bos', 'whispered', 'overthrowing', 'ever', 'happened', 'mainstream', 'seeing', 'malignant', 'arrogance', 'man', 'fired', 'lying', 'http', 'twitter', 'com', 'mediaite', 'status', '10973075809', '9150438', '4']\n",
      "['pic', 'twitter', 'com', 'xrbxkni', '4nf']\n",
      "['never', 'said', 'anything', 'bad', 'andrew', 'mccabe', 'wife', 'taken', 'large', 'amount', 'campaign', 'money', 'crooked', 'hillary', 'source', 'clinton', 'investigation', 'fbi', 'never', 'called', 'wife', 'loser', 'another', 'mccabe', 'made', 'lie']\n",
      "['washington', 'post', 'fact', 'checker', 'democrat', 'republican', 'time', 'favorite', 'president', 'fake', 'fact', 'checker']\n",
      "['failed', 'fast', 'train', 'project', 'california', 'cost', 'overrun', 'becoming', 'world', 'record', 'setting', 'hundred', 'time', 'expensive', 'desperately', 'needed', 'wall']\n",
      "['predicted', '16', 'state', 'led', 'mostly', 'open', 'border', 'democrat', 'radical', 'left', 'filed', 'lawsuit', 'course', '9th', 'circuit', 'california', 'state', 'wasted', 'billion', 'dollar', 'control', 'fast', 'train', 'hope', 'completion', 'seems', 'charge']\n",
      "['opposition', 'party', 'medium', 'election', 'stock', 'market', 'would', 'least', '10', '000', 'point', 'heading']\n",
      "['witch', 'hunt', 'time', 'likely', 'become', 'recognized', 'greatest', 'scandal', 'american', 'political', 'history', 'marking', 'first', 'occasion', 'u', 'government', 'bureaucrat', 'sought', 'overturn', 'election', 'presidential', 'victor', 'davis', 'hanson', 'got', 'caught', 'foxnews']\n",
      "['remember', 'andrew', 'mccabe', 'go', 'bathroom', 'without', 'approval', 'leakin', 'james', 'comey']\n",
      "['country', 'making', 'unprecedented', 'progress', 'thanks', 'fact', 'finally', 'president', 'keeping', 'promise', 'putting', 'america', 'first']\n",
      "['thank', 'andrew', 'miss', 'beautiful', 'meadow', 'http', 'twitter', 'com', 'andrewpollackfl', 'status', '10961226812', '15324168']\n",
      "['thank', 'jt', 'http', 'twitter', 'com', 'thejtlewis', 'status', '10787347685', '9283456', '1']\n",
      "['amazing', 'http', 'twitter', 'com', 'akinsawyerr', 'status', '10968295885', '5717683', '2']\n",
      "['biggest', 'abuse', 'power', 'corruption', 'scandal', 'history', 'much', 'worse', 'thought', 'andrew', 'mccabe', 'fbi', 'admitted', 'plotting', 'coup', 'government', 'overthrow', 'serving', 'fbi', 'fired', 'lying', 'leaking', 'seanhannity', 'foxnews', 'treason']\n",
      "['today', '50', 'country', 'around', 'world', 'recognize', 'rightful', 'government', 'venezuela', 'venezuelan', 'people', 'spoken', 'world', 'heard', 'voice', 'turning', 'page', 'socialism', 'dictatorship', 'going', 'back', 'pic', 'twitter', 'com', 'c3dl5rffie']\n",
      "['ask', 'every', 'member', 'maduro', 'regime', 'end', 'nightmare', 'poverty', 'hunger', 'death', 'let', 'people', 'go', 'set', 'country', 'free', 'time', 'venezuelan', 'patriot', 'act', 'together', 'one', 'united', 'people', 'nothing', 'could', 'better', 'future', 'venezuela']\n",
      "['people', 'venezuela', 'standing', 'freedom', 'democracy', 'united', 'state', 'america', 'standing', 'right', 'side']\n",
      "['proclaim', 'new', 'day', 'coming', 'latin', 'america', 'venezuela', 'across', 'western', 'hemisphere', 'socialism', 'dying', 'liberty', 'prosperity', 'democracy', 'reborn', 'http', 'www', 'pscp', 'tv', 'w', 'bzsn', '2dfvtlfstfjub1dwuxd8mxzbr1j5v0xauwflbewm9lju950ah', 'yiukkndqcynkcotpavyl', '5orutuzowt', '2']\n",
      "['beautiful', 'ceremony', 'nicklaus', '4kids', 'hospital', 'today', 'celebrate', 'new', 'change', 'hope', 'garden', 'nurture', 'heals', 'young', 'patient', 'visit', 'thank', 'generous', 'donor', 'nicklaus', '4kids', 'important', 'work', 'bebestpic', 'twitter', 'com', 'qrxxgogwkr']\n",
      "['hope', 'enjoying', 'president', 'day', 'country', 'making', 'unprecedented', 'progress']\n",
      "['illegal', 'coup', 'attempt', 'president', 'united', 'state', 'dan', 'bongino', 'foxandfriends', 'true']\n",
      "['great', 'analysis', 'foxandfriends']\n"
     ]
    }
   ],
   "source": [
    "for tweet in all_tweets:\n",
    "    words = tt.tokenize(tweet)\n",
    "    non_stop_words = [w for w in words if w not in stopwords.words('english')]\n",
    "    lem_words = [wlem.lemmatize(w) for w in non_stop_words]\n",
    "    print(lem_words)"
   ]
  },
  {
   "cell_type": "markdown",
   "metadata": {},
   "source": [
    "#### <span style='color:purple'> Below uses default argument pos = 'v'</span>"
   ]
  },
  {
   "cell_type": "code",
   "execution_count": 71,
   "metadata": {
    "scrolled": false
   },
   "outputs": [
    {
     "name": "stdout",
     "output_type": "stream",
     "text": [
      "['one', 'shred', 'evidence', 'president', 'do', 'anything', 'constitutionally', 'anything', 'else', 'wrong', 'graham', 'ledger', 'thank', 'graham', 'true']\n",
      "['people', 'venezuela', 'stand', 'threshold', 'history', 'ready', 'reclaim', 'country', 'future', 'pic', 'twitter', 'com', 'ajxd', '1en64c']\n",
      "['74', 'years', 'ago', 'today', 'marines', 'iwo', 'jima', 'raise', 'flag', 'atop', 'mount', 'suribachi', 'semper', 'fidelis', 'pic', 'twitter', 'com', 'usq', '2z344xp']\n",
      "['far', 'energy', 'right', 'leave', 'senate', 'win', 'big', '2020', 'fake', 'news', 'want', 'report', 'facts', 'border', 'security', 'big', 'factor', 'construction', 'wall', 'stop', 'gang', 'drug', 'crime']\n",
      "['god', 'bless', 'people', 'venezuela']\n",
      "['great', 'new', 'book', 'case', 'trump', 'victor', 'davis', 'hanson', 'hoover', 'senior', 'fellow']\n",
      "['kelly', 'do', 'outstanding', 'job', 'represent', 'nation', 'doubt', 'leadership', 'country', 'represent', 'highest', 'level', 'congratulations', 'kelly', 'entire', 'family']\n",
      "['please', 'announce', 'kelly', 'knight', 'craft', 'current', 'ambassador', 'canada', 'nominate', 'unite', 'state', 'ambassador', 'unite', 'nations']\n",
      "['break', 'oval', 'office', 'meet', 'today', 'chinese', 'commit', 'buy', 'additional', '10', 'million', 'metric', 'tons', 'u', 'soybeans', 'hat', 'potus', 'bring', 'china', 'table', 'strategy', 'work', 'show', 'good', 'faith', 'chinese', 'also', 'indications', 'good', 'news', 'come']\n",
      "['must', 'read', 'kimstrassel', 'https', 'twitter', 'com', 'kimstrassel', 'status', '10987485063', '6420300', '8']\n",
      "['fake', 'news', 'bad', 'country', 'https', 'twitter', 'com', 'wdunlap', 'status', '10989549428', '4321177', '7']\n",
      "['highly', 'respect', 'senator', 'richard', 'burr', 'head', 'senate', 'intelligence', 'say', 'interview', '200', 'witness', 'study', '2', 'million', 'page', 'document', 'find', 'collusion', 'trump', 'campaign', 'russia', 'witch', 'hunt', 'bad', 'country', 'must', 'end']\n",
      "['wonderful', 'even', 'whitehouse', 'celebrate', 'africanamericanhistorymonth', 'pic', 'twitter', 'com', 'zbjop', '8kxty']\n",
      "['honor', 'extraordinary', 'contributions', 'african', 'americans', 'every', 'aspect', 'american', 'life', 'history', 'culture', 'earliest', 'days', 'nation', 'african', 'american', 'leaders', 'pioneer', 'visionaries', 'uplift', 'inspire', 'country', 'https', 'www', 'pscp', 'tv', 'w', 'bz84fjfvtlfstfjub1dwuxd8mw5bskv5wnzrevzktd', '9h6boj1bmjn10rm6rlsvhbibe5jmvdnylfw7jbjdd', '15s']\n",
      "['senator', 'john', 'cornyn', 'do', 'outstanding', 'job', 'people', 'texas', 'strong', 'crime', 'border', 'second', 'amendment', 'love', 'military', 'vet', 'john', 'complete', 'total', 'endorsement', 'make', 'america', 'great']\n",
      "['jussiesmollett', 'maga', 'tens', 'millions', 'people', 'insult', 'racist', 'dangerous', 'comment', 'maga']\n",
      "['wall', 'construction', 'right', 'https', 'twitter', 'com', 'realdonaldtrump', 'status', '10982952288', '3704832', '5']\n",
      "['something', 'obviously', 'future', 'want', 'unite', 'state', 'win', 'competition', 'block', 'currently', 'advance', 'technologies', 'must', 'always', 'leader', 'everything', 'especially', 'come', 'excite', 'world', 'technology']\n",
      "['want', '5g', 'even', '6g', 'technology', 'unite', 'state', 'soon', 'possible', 'far', 'powerful', 'faster', 'smarter', 'current', 'standard', 'american', 'company', 'must', 'step', 'efforts', 'get', 'leave', 'behind', 'reason', 'lag', 'behind']\n",
      "['instruct', 'secretary', 'state', 'mike', 'pompeo', 'fully', 'agree', 'allow', 'hoda', 'muthana', 'back', 'country']\n",
      "['build', 'powerful', 'wall', 'new', 'mexico', 'complete', 'january', '30', '2019', '47', 'days', 'ahead', 'schedule', 'many', 'miles', 'construction', 'finishthewallpic', 'twitter', 'com', 'tykj', '3krdoc']\n",
      "['california', 'want', 'scale', 'back', 'already', 'fail', 'fast', 'train', 'project', 'substantially', 'shorten', 'distance', 'longer', 'go', 'l', 'san', 'francisco', 'different', 'deal', 'record', 'cost', 'overrun', 'send', 'federal', 'government', 'back', 'billions', 'dollars', 'waste']\n",
      "['new', 'york', 'time', 'report', 'false', 'true', 'enemy', 'people']\n",
      "['think', 'jam', 'comey', 'good', 'fbi', 'director', 'tantamount', 'agent', 'russia', 'list', 'people', 'agents', 'russia', 'chuck', 'schumer', 'nancy', 'pelosi', 'rod', 'rosenstein', 'write', 'memo', 'get', 'rid', 'comey', 'inspector', 'general', 'trey', 'gowdy']\n",
      "['washington', 'post', 'ignore', 'basic', 'journalistic', 'standards', 'want', 'advance', 'well', 'know', 'easily', 'document', 'bias', 'agenda', 'president', 'donald', 'j', 'trump', 'covington', 'student', 'sue', 'wapo', 'go', 'get', 'nick', 'fake', 'news']\n",
      "['press', 'never', 'dishonest', 'today', 'stories', 'write', 'absolutely', 'basis', 'fact', 'writers', 'even', 'call', 'ask', 'verification', 'totally', 'control', 'sadly', 'keep', 'many', 'business', 'six', 'years', 'go', 'bust']\n",
      "['crazy', 'bernie', 'enter', 'race', 'wish', 'well']\n",
      "['andrew', 'mccabe', 'give', 'absolutely', 'evidence', 'threat', 'substantiate', 'absurd', 'claim', 'loudobbs']\n",
      "['crazy', 'scary', 'cabal', 'unelected', 'bureaucrats', 'anger', 'upset', 'realdonaldtrump', 'fire', 'boss', 'whisper', 'overthrow', 'ever', 'happen', 'mainstream', 'see', 'malignant', 'arrogance', 'man', 'fire', 'lie', 'https', 'twitter', 'com', 'mediaite', 'status', '10973075809', '9150438', '4']\n",
      "['pic', 'twitter', 'com', 'xrbxkni', '4nf']\n",
      "['never', 'say', 'anything', 'bad', 'andrew', 'mccabe', 'wife', 'take', 'large', 'amount', 'campaign', 'money', 'crook', 'hillary', 'source', 'clinton', 'investigation', 'fbi', 'never', 'call', 'wife', 'loser', 'another', 'mccabe', 'make', 'lie']\n",
      "['washington', 'post', 'fact', 'checker', 'democrats', 'republicans', 'time', 'favorite', 'president', 'fake', 'fact', 'checker']\n",
      "['fail', 'fast', 'train', 'project', 'california', 'cost', 'overrun', 'become', 'world', 'record', 'set', 'hundreds', 'time', 'expensive', 'desperately', 'need', 'wall']\n",
      "['predict', '16', 'state', 'lead', 'mostly', 'open', 'border', 'democrats', 'radical', 'leave', 'file', 'lawsuit', 'course', '9th', 'circuit', 'california', 'state', 'waste', 'billions', 'dollars', 'control', 'fast', 'train', 'hope', 'completion', 'seem', 'charge']\n",
      "['opposition', 'party', 'media', 'election', 'stock', 'market', 'would', 'least', '10', '000', 'point', 'head']\n",
      "['witch', 'hunt', 'time', 'likely', 'become', 'recognize', 'greatest', 'scandal', 'american', 'political', 'history', 'mark', 'first', 'occasion', 'u', 'government', 'bureaucrats', 'seek', 'overturn', 'election', 'presidential', 'victor', 'davis', 'hanson', 'get', 'catch', 'foxnews']\n",
      "['remember', 'andrew', 'mccabe', 'go', 'bathroom', 'without', 'approval', 'leakin', 'jam', 'comey']\n",
      "['country', 'make', 'unprecedented', 'progress', 'thank', 'fact', 'finally', 'president', 'keep', 'promise', 'put', 'america', 'first']\n",
      "['thank', 'andrew', 'miss', 'beautiful', 'meadow', 'https', 'twitter', 'com', 'andrewpollackfl', 'status', '10961226812', '15324168']\n",
      "['thank', 'jt', 'https', 'twitter', 'com', 'thejtlewis', 'status', '10787347685', '9283456', '1']\n",
      "['amaze', 'https', 'twitter', 'com', 'akinsawyerr', 'status', '10968295885', '5717683', '2']\n",
      "['biggest', 'abuse', 'power', 'corruption', 'scandal', 'history', 'much', 'worse', 'think', 'andrew', 'mccabe', 'fbi', 'admit', 'plot', 'coup', 'government', 'overthrow', 'serve', 'fbi', 'fire', 'lie', 'leak', 'seanhannity', 'foxnews', 'treason']\n",
      "['today', '50', 'countries', 'around', 'world', 'recognize', 'rightful', 'government', 'venezuela', 'venezuelan', 'people', 'speak', 'world', 'hear', 'voice', 'turn', 'page', 'socialism', 'dictatorship', 'go', 'back', 'pic', 'twitter', 'com', 'c3dl5rffie']\n",
      "['ask', 'every', 'member', 'maduro', 'regime', 'end', 'nightmare', 'poverty', 'hunger', 'death', 'let', 'people', 'go', 'set', 'country', 'free', 'time', 'venezuelan', 'patriots', 'act', 'together', 'one', 'unite', 'people', 'nothing', 'could', 'better', 'future', 'venezuela']\n",
      "['people', 'venezuela', 'stand', 'freedom', 'democracy', 'unite', 'state', 'america', 'stand', 'right', 'side']\n",
      "['proclaim', 'new', 'day', 'come', 'latin', 'america', 'venezuela', 'across', 'western', 'hemisphere', 'socialism', 'die', 'liberty', 'prosperity', 'democracy', 'reborn', 'https', 'www', 'pscp', 'tv', 'w', 'bzsn', '2dfvtlfstfjub1dwuxd8mxzbr1j5v0xauwflbewm9lju950ah', 'yiukkndqcynkcotpavyl', '5orutuzowt', '2s']\n",
      "['beautiful', 'ceremony', 'nicklaus', '4kids', 'hospital', 'today', 'celebrate', 'new', 'change', 'hope', 'garden', 'nurture', 'heal', 'young', 'patients', 'visit', 'thank', 'generous', 'donors', 'nicklaus', '4kids', 'important', 'work', 'bebestpic', 'twitter', 'com', 'qrxxgogwkr']\n",
      "['hope', 'enjoy', 'president', 'day', 'country', 'make', 'unprecedented', 'progress']\n",
      "['illegal', 'coup', 'attempt', 'president', 'unite', 'state', 'dan', 'bongino', 'foxandfriends', 'true']\n",
      "['great', 'analysis', 'foxandfriends']\n"
     ]
    }
   ],
   "source": [
    "for tweet in all_tweets:\n",
    "    words = tt.tokenize(tweet)\n",
    "    non_stop_words = [w for w in words if w not in stopwords.words('english')]\n",
    "    lem_words = [wlem.lemmatize(w,pos = 'v') for w in non_stop_words]\n",
    "    print(lem_words)"
   ]
  },
  {
   "cell_type": "code",
   "execution_count": null,
   "metadata": {},
   "outputs": [],
   "source": []
  }
 ],
 "metadata": {
  "kernelspec": {
   "display_name": "Python 3",
   "language": "python",
   "name": "python3"
  },
  "language_info": {
   "codemirror_mode": {
    "name": "ipython",
    "version": 3
   },
   "file_extension": ".py",
   "mimetype": "text/x-python",
   "name": "python",
   "nbconvert_exporter": "python",
   "pygments_lexer": "ipython3",
   "version": "3.6.8"
  }
 },
 "nbformat": 4,
 "nbformat_minor": 2
}
