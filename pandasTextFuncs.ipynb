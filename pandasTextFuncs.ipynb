{
 "cells": [
  {
   "cell_type": "markdown",
   "metadata": {},
   "source": [
    "## [Working with Text Data in Pandas](https://pandas.pydata.org/pandas-docs/stable/user_guide/text.html)"
   ]
  },
  {
   "cell_type": "code",
   "execution_count": 43,
   "metadata": {},
   "outputs": [],
   "source": [
    "import pandas as pd\n",
    "import numpy as np\n",
    "\n",
    "import re"
   ]
  },
  {
   "cell_type": "code",
   "execution_count": 3,
   "metadata": {},
   "outputs": [],
   "source": [
    "s = pd.Series(['A','B','C','Asba','Baca',np.nan, 'CABA','cat'])"
   ]
  },
  {
   "cell_type": "code",
   "execution_count": 4,
   "metadata": {},
   "outputs": [
    {
     "data": {
      "text/plain": [
       "0       A\n",
       "1       B\n",
       "2       C\n",
       "3    Asba\n",
       "4    Baca\n",
       "5     NaN\n",
       "6    CABA\n",
       "7     cat\n",
       "dtype: object"
      ]
     },
     "execution_count": 4,
     "metadata": {},
     "output_type": "execute_result"
    }
   ],
   "source": [
    "s"
   ]
  },
  {
   "cell_type": "code",
   "execution_count": 6,
   "metadata": {},
   "outputs": [
    {
     "data": {
      "text/plain": [
       "0       A\n",
       "1       B\n",
       "2       C\n",
       "3    ASBA\n",
       "4    BACA\n",
       "5     NaN\n",
       "6    CABA\n",
       "7     CAT\n",
       "dtype: object"
      ]
     },
     "execution_count": 6,
     "metadata": {},
     "output_type": "execute_result"
    }
   ],
   "source": [
    "s.str.upper()"
   ]
  },
  {
   "cell_type": "code",
   "execution_count": 8,
   "metadata": {},
   "outputs": [
    {
     "data": {
      "text/plain": [
       "0       a\n",
       "1       b\n",
       "2       c\n",
       "3    asba\n",
       "4    baca\n",
       "5     NaN\n",
       "6    caba\n",
       "7     cat\n",
       "dtype: object"
      ]
     },
     "execution_count": 8,
     "metadata": {},
     "output_type": "execute_result"
    }
   ],
   "source": [
    "s.str.lower()"
   ]
  },
  {
   "cell_type": "code",
   "execution_count": 10,
   "metadata": {},
   "outputs": [
    {
     "data": {
      "text/plain": [
       "0    1.0\n",
       "1    1.0\n",
       "2    1.0\n",
       "3    4.0\n",
       "4    4.0\n",
       "5    NaN\n",
       "6    4.0\n",
       "7    3.0\n",
       "dtype: float64"
      ]
     },
     "execution_count": 10,
     "metadata": {},
     "output_type": "execute_result"
    }
   ],
   "source": [
    "s.str.len()"
   ]
  },
  {
   "cell_type": "code",
   "execution_count": 13,
   "metadata": {},
   "outputs": [],
   "source": [
    "idx = pd.Index([' jack','jill ',' jesse ','frank'])"
   ]
  },
  {
   "cell_type": "code",
   "execution_count": 15,
   "metadata": {},
   "outputs": [
    {
     "data": {
      "text/plain": [
       "Index(['jack', 'jill', 'jesse', 'frank'], dtype='object')"
      ]
     },
     "execution_count": 15,
     "metadata": {},
     "output_type": "execute_result"
    }
   ],
   "source": [
    "idx.str.strip()"
   ]
  },
  {
   "cell_type": "code",
   "execution_count": 21,
   "metadata": {},
   "outputs": [],
   "source": [
    "df = pd.DataFrame(data = np.random.randn(3,2),\\\n",
    "        columns=[' Column A ', ' Column B '], index = range(3))"
   ]
  },
  {
   "cell_type": "code",
   "execution_count": 22,
   "metadata": {},
   "outputs": [
    {
     "data": {
      "text/html": [
       "<div>\n",
       "<style scoped>\n",
       "    .dataframe tbody tr th:only-of-type {\n",
       "        vertical-align: middle;\n",
       "    }\n",
       "\n",
       "    .dataframe tbody tr th {\n",
       "        vertical-align: top;\n",
       "    }\n",
       "\n",
       "    .dataframe thead th {\n",
       "        text-align: right;\n",
       "    }\n",
       "</style>\n",
       "<table border=\"1\" class=\"dataframe\">\n",
       "  <thead>\n",
       "    <tr style=\"text-align: right;\">\n",
       "      <th></th>\n",
       "      <th>Column A</th>\n",
       "      <th>Column B</th>\n",
       "    </tr>\n",
       "  </thead>\n",
       "  <tbody>\n",
       "    <tr>\n",
       "      <th>0</th>\n",
       "      <td>0.013063</td>\n",
       "      <td>-1.026454</td>\n",
       "    </tr>\n",
       "    <tr>\n",
       "      <th>1</th>\n",
       "      <td>1.255923</td>\n",
       "      <td>0.266052</td>\n",
       "    </tr>\n",
       "    <tr>\n",
       "      <th>2</th>\n",
       "      <td>1.045978</td>\n",
       "      <td>-1.205609</td>\n",
       "    </tr>\n",
       "  </tbody>\n",
       "</table>\n",
       "</div>"
      ],
      "text/plain": [
       "    Column A    Column B \n",
       "0    0.013063   -1.026454\n",
       "1    1.255923    0.266052\n",
       "2    1.045978   -1.205609"
      ]
     },
     "execution_count": 22,
     "metadata": {},
     "output_type": "execute_result"
    }
   ],
   "source": [
    "df.head()"
   ]
  },
  {
   "cell_type": "code",
   "execution_count": 24,
   "metadata": {},
   "outputs": [
    {
     "data": {
      "text/plain": [
       "Index(['Column A', 'Column B'], dtype='object')"
      ]
     },
     "execution_count": 24,
     "metadata": {},
     "output_type": "execute_result"
    }
   ],
   "source": [
    "df.columns.str.strip()"
   ]
  },
  {
   "cell_type": "code",
   "execution_count": 26,
   "metadata": {},
   "outputs": [
    {
     "data": {
      "text/plain": [
       "Index([' column a ', ' column b '], dtype='object')"
      ]
     },
     "execution_count": 26,
     "metadata": {},
     "output_type": "execute_result"
    }
   ],
   "source": [
    "df.columns.str.lower()"
   ]
  },
  {
   "cell_type": "code",
   "execution_count": 27,
   "metadata": {},
   "outputs": [],
   "source": [
    " df.columns = df.columns.str.strip().str.lower().str.replace(' ', '_')"
   ]
  },
  {
   "cell_type": "code",
   "execution_count": 29,
   "metadata": {},
   "outputs": [
    {
     "data": {
      "text/html": [
       "<div>\n",
       "<style scoped>\n",
       "    .dataframe tbody tr th:only-of-type {\n",
       "        vertical-align: middle;\n",
       "    }\n",
       "\n",
       "    .dataframe tbody tr th {\n",
       "        vertical-align: top;\n",
       "    }\n",
       "\n",
       "    .dataframe thead th {\n",
       "        text-align: right;\n",
       "    }\n",
       "</style>\n",
       "<table border=\"1\" class=\"dataframe\">\n",
       "  <thead>\n",
       "    <tr style=\"text-align: right;\">\n",
       "      <th></th>\n",
       "      <th>column_a</th>\n",
       "      <th>column_b</th>\n",
       "    </tr>\n",
       "  </thead>\n",
       "  <tbody>\n",
       "    <tr>\n",
       "      <th>0</th>\n",
       "      <td>0.013063</td>\n",
       "      <td>-1.026454</td>\n",
       "    </tr>\n",
       "    <tr>\n",
       "      <th>1</th>\n",
       "      <td>1.255923</td>\n",
       "      <td>0.266052</td>\n",
       "    </tr>\n",
       "    <tr>\n",
       "      <th>2</th>\n",
       "      <td>1.045978</td>\n",
       "      <td>-1.205609</td>\n",
       "    </tr>\n",
       "  </tbody>\n",
       "</table>\n",
       "</div>"
      ],
      "text/plain": [
       "   column_a  column_b\n",
       "0  0.013063 -1.026454\n",
       "1  1.255923  0.266052\n",
       "2  1.045978 -1.205609"
      ]
     },
     "execution_count": 29,
     "metadata": {},
     "output_type": "execute_result"
    }
   ],
   "source": [
    "df"
   ]
  },
  {
   "cell_type": "markdown",
   "metadata": {},
   "source": [
    "### Splitting and Replacing Strings"
   ]
  },
  {
   "cell_type": "code",
   "execution_count": 30,
   "metadata": {},
   "outputs": [],
   "source": [
    "s2 = pd.Series(['a_b_c', 'c_d_e', np.nan, 'f_g_h'])"
   ]
  },
  {
   "cell_type": "code",
   "execution_count": 31,
   "metadata": {},
   "outputs": [
    {
     "data": {
      "text/plain": [
       "0    a_b_c\n",
       "1    c_d_e\n",
       "2      NaN\n",
       "3    f_g_h\n",
       "dtype: object"
      ]
     },
     "execution_count": 31,
     "metadata": {},
     "output_type": "execute_result"
    }
   ],
   "source": [
    "s2"
   ]
  },
  {
   "cell_type": "code",
   "execution_count": 33,
   "metadata": {},
   "outputs": [
    {
     "data": {
      "text/plain": [
       "0    [a, b, c]\n",
       "1    [c, d, e]\n",
       "2          NaN\n",
       "3    [f, g, h]\n",
       "dtype: object"
      ]
     },
     "execution_count": 33,
     "metadata": {},
     "output_type": "execute_result"
    }
   ],
   "source": [
    "s2.str.split('_')"
   ]
  },
  {
   "cell_type": "code",
   "execution_count": 35,
   "metadata": {},
   "outputs": [
    {
     "data": {
      "text/plain": [
       "['c', 'd', 'e']"
      ]
     },
     "execution_count": 35,
     "metadata": {},
     "output_type": "execute_result"
    }
   ],
   "source": [
    "s2.str.split('_').get(1)"
   ]
  },
  {
   "cell_type": "code",
   "execution_count": 36,
   "metadata": {},
   "outputs": [
    {
     "data": {
      "text/html": [
       "<div>\n",
       "<style scoped>\n",
       "    .dataframe tbody tr th:only-of-type {\n",
       "        vertical-align: middle;\n",
       "    }\n",
       "\n",
       "    .dataframe tbody tr th {\n",
       "        vertical-align: top;\n",
       "    }\n",
       "\n",
       "    .dataframe thead th {\n",
       "        text-align: right;\n",
       "    }\n",
       "</style>\n",
       "<table border=\"1\" class=\"dataframe\">\n",
       "  <thead>\n",
       "    <tr style=\"text-align: right;\">\n",
       "      <th></th>\n",
       "      <th>0</th>\n",
       "      <th>1</th>\n",
       "      <th>2</th>\n",
       "    </tr>\n",
       "  </thead>\n",
       "  <tbody>\n",
       "    <tr>\n",
       "      <th>0</th>\n",
       "      <td>a</td>\n",
       "      <td>b</td>\n",
       "      <td>c</td>\n",
       "    </tr>\n",
       "    <tr>\n",
       "      <th>1</th>\n",
       "      <td>c</td>\n",
       "      <td>d</td>\n",
       "      <td>e</td>\n",
       "    </tr>\n",
       "    <tr>\n",
       "      <th>2</th>\n",
       "      <td>NaN</td>\n",
       "      <td>NaN</td>\n",
       "      <td>NaN</td>\n",
       "    </tr>\n",
       "    <tr>\n",
       "      <th>3</th>\n",
       "      <td>f</td>\n",
       "      <td>g</td>\n",
       "      <td>h</td>\n",
       "    </tr>\n",
       "  </tbody>\n",
       "</table>\n",
       "</div>"
      ],
      "text/plain": [
       "     0    1    2\n",
       "0    a    b    c\n",
       "1    c    d    e\n",
       "2  NaN  NaN  NaN\n",
       "3    f    g    h"
      ]
     },
     "execution_count": 36,
     "metadata": {},
     "output_type": "execute_result"
    }
   ],
   "source": [
    "s2.str.split('_',expand = True)"
   ]
  },
  {
   "cell_type": "code",
   "execution_count": 39,
   "metadata": {},
   "outputs": [
    {
     "data": {
      "text/html": [
       "<div>\n",
       "<style scoped>\n",
       "    .dataframe tbody tr th:only-of-type {\n",
       "        vertical-align: middle;\n",
       "    }\n",
       "\n",
       "    .dataframe tbody tr th {\n",
       "        vertical-align: top;\n",
       "    }\n",
       "\n",
       "    .dataframe thead th {\n",
       "        text-align: right;\n",
       "    }\n",
       "</style>\n",
       "<table border=\"1\" class=\"dataframe\">\n",
       "  <thead>\n",
       "    <tr style=\"text-align: right;\">\n",
       "      <th></th>\n",
       "      <th>0</th>\n",
       "      <th>1</th>\n",
       "    </tr>\n",
       "  </thead>\n",
       "  <tbody>\n",
       "    <tr>\n",
       "      <th>0</th>\n",
       "      <td>a</td>\n",
       "      <td>b_c</td>\n",
       "    </tr>\n",
       "    <tr>\n",
       "      <th>1</th>\n",
       "      <td>c</td>\n",
       "      <td>d_e</td>\n",
       "    </tr>\n",
       "    <tr>\n",
       "      <th>2</th>\n",
       "      <td>NaN</td>\n",
       "      <td>NaN</td>\n",
       "    </tr>\n",
       "    <tr>\n",
       "      <th>3</th>\n",
       "      <td>f</td>\n",
       "      <td>g_h</td>\n",
       "    </tr>\n",
       "  </tbody>\n",
       "</table>\n",
       "</div>"
      ],
      "text/plain": [
       "     0    1\n",
       "0    a  b_c\n",
       "1    c  d_e\n",
       "2  NaN  NaN\n",
       "3    f  g_h"
      ]
     },
     "execution_count": 39,
     "metadata": {},
     "output_type": "execute_result"
    }
   ],
   "source": [
    "s2.str.split('_',expand = True, n = 1)"
   ]
  },
  {
   "cell_type": "code",
   "execution_count": 54,
   "metadata": {},
   "outputs": [],
   "source": [
    "tmp = 'Pragya is an artist'"
   ]
  },
  {
   "cell_type": "code",
   "execution_count": 58,
   "metadata": {},
   "outputs": [
    {
     "name": "stdout",
     "output_type": "stream",
     "text": [
      "<_sre.SRE_Match object; span=(13, 19), match='artist'>\n"
     ]
    }
   ],
   "source": [
    "pattern = re.compile(r'artist')\n",
    "res = re.finditer(pattern,tmp)\n",
    "for tomato in res:\n",
    "    print(tomato)"
   ]
  },
  {
   "cell_type": "code",
   "execution_count": 41,
   "metadata": {},
   "outputs": [],
   "source": [
    "s3 = pd.Series(['A', 'B', 'C', 'Aaba', 'Baca', '', np.nan, 'CABA', 'dog', 'cat'])"
   ]
  },
  {
   "cell_type": "code",
   "execution_count": 42,
   "metadata": {},
   "outputs": [
    {
     "data": {
      "text/plain": [
       "0       A\n",
       "1       B\n",
       "2       C\n",
       "3    Aaba\n",
       "4    Baca\n",
       "5        \n",
       "6     NaN\n",
       "7    CABA\n",
       "8     dog\n",
       "9     cat\n",
       "dtype: object"
      ]
     },
     "execution_count": 42,
     "metadata": {},
     "output_type": "execute_result"
    }
   ],
   "source": [
    "s3"
   ]
  },
  {
   "cell_type": "code",
   "execution_count": 65,
   "metadata": {},
   "outputs": [
    {
     "data": {
      "text/plain": [
       "0           A\n",
       "1           B\n",
       "2           C\n",
       "3    XX-XX ba\n",
       "4    XX-XX ca\n",
       "5            \n",
       "6         NaN\n",
       "7    XX-XX BA\n",
       "8      XX-XX \n",
       "9     XX-XX t\n",
       "dtype: object"
      ]
     },
     "execution_count": 65,
     "metadata": {},
     "output_type": "execute_result"
    }
   ],
   "source": [
    "s3.str.replace('^.a|dog', 'XX-XX ', case=False)"
   ]
  },
  {
   "cell_type": "markdown",
   "metadata": {},
   "source": [
    "#### Be careful using $"
   ]
  },
  {
   "cell_type": "code",
   "execution_count": 66,
   "metadata": {},
   "outputs": [],
   "source": [
    "dollars = pd.Series(['12', '-$10', '$10,000'])"
   ]
  },
  {
   "cell_type": "code",
   "execution_count": 67,
   "metadata": {},
   "outputs": [
    {
     "data": {
      "text/plain": [
       "0         12\n",
       "1       -$10\n",
       "2    $10,000\n",
       "dtype: object"
      ]
     },
     "execution_count": 67,
     "metadata": {},
     "output_type": "execute_result"
    }
   ],
   "source": [
    "dollars"
   ]
  },
  {
   "cell_type": "code",
   "execution_count": 69,
   "metadata": {},
   "outputs": [
    {
     "data": {
      "text/plain": [
       "0        12\n",
       "1       -10\n",
       "2    10,000\n",
       "dtype: object"
      ]
     },
     "execution_count": 69,
     "metadata": {},
     "output_type": "execute_result"
    }
   ],
   "source": [
    "dollars.str.replace('$','')"
   ]
  },
  {
   "cell_type": "code",
   "execution_count": 70,
   "metadata": {},
   "outputs": [
    {
     "data": {
      "text/plain": [
       "0         12\n",
       "1         10\n",
       "2    $10,000\n",
       "dtype: object"
      ]
     },
     "execution_count": 70,
     "metadata": {},
     "output_type": "execute_result"
    }
   ],
   "source": [
    "dollars.str.replace('-\\$','')"
   ]
  },
  {
   "cell_type": "markdown",
   "metadata": {},
   "source": [
    "<span style='color:red'> This creates problem at it searches for $ at end</span>"
   ]
  },
  {
   "cell_type": "code",
   "execution_count": 71,
   "metadata": {},
   "outputs": [
    {
     "data": {
      "text/plain": [
       "0         12\n",
       "1       -$10\n",
       "2    $10,000\n",
       "dtype: object"
      ]
     },
     "execution_count": 71,
     "metadata": {},
     "output_type": "execute_result"
    }
   ],
   "source": [
    "dollars.str.replace('-$','')"
   ]
  },
  {
   "cell_type": "markdown",
   "metadata": {},
   "source": [
    "### Concatenation"
   ]
  },
  {
   "cell_type": "code",
   "execution_count": 73,
   "metadata": {},
   "outputs": [],
   "source": [
    "s = pd.Series(['a', 'b', 'c', 'd'])"
   ]
  },
  {
   "cell_type": "code",
   "execution_count": 75,
   "metadata": {},
   "outputs": [
    {
     "data": {
      "text/plain": [
       "'a_b_c_d'"
      ]
     },
     "execution_count": 75,
     "metadata": {},
     "output_type": "execute_result"
    }
   ],
   "source": [
    "s.str.cat(sep='_')"
   ]
  },
  {
   "cell_type": "markdown",
   "metadata": {},
   "source": [
    "### Extracting Substrings"
   ]
  },
  {
   "cell_type": "code",
   "execution_count": 83,
   "metadata": {},
   "outputs": [
    {
     "data": {
      "text/html": [
       "<div>\n",
       "<style scoped>\n",
       "    .dataframe tbody tr th:only-of-type {\n",
       "        vertical-align: middle;\n",
       "    }\n",
       "\n",
       "    .dataframe tbody tr th {\n",
       "        vertical-align: top;\n",
       "    }\n",
       "\n",
       "    .dataframe thead th {\n",
       "        text-align: right;\n",
       "    }\n",
       "</style>\n",
       "<table border=\"1\" class=\"dataframe\">\n",
       "  <thead>\n",
       "    <tr style=\"text-align: right;\">\n",
       "      <th></th>\n",
       "      <th>0</th>\n",
       "      <th>1</th>\n",
       "    </tr>\n",
       "  </thead>\n",
       "  <tbody>\n",
       "    <tr>\n",
       "      <th>0</th>\n",
       "      <td>a</td>\n",
       "      <td>1</td>\n",
       "    </tr>\n",
       "    <tr>\n",
       "      <th>1</th>\n",
       "      <td>b</td>\n",
       "      <td>2</td>\n",
       "    </tr>\n",
       "    <tr>\n",
       "      <th>2</th>\n",
       "      <td>NaN</td>\n",
       "      <td>NaN</td>\n",
       "    </tr>\n",
       "  </tbody>\n",
       "</table>\n",
       "</div>"
      ],
      "text/plain": [
       "     0    1\n",
       "0    a    1\n",
       "1    b    2\n",
       "2  NaN  NaN"
      ]
     },
     "execution_count": 83,
     "metadata": {},
     "output_type": "execute_result"
    }
   ],
   "source": [
    "pd.Series(['a1', 'b2', 'c3']).str.extract(r'([ab])(\\d)')"
   ]
  },
  {
   "cell_type": "code",
   "execution_count": 84,
   "metadata": {},
   "outputs": [
    {
     "data": {
      "text/html": [
       "<div>\n",
       "<style scoped>\n",
       "    .dataframe tbody tr th:only-of-type {\n",
       "        vertical-align: middle;\n",
       "    }\n",
       "\n",
       "    .dataframe tbody tr th {\n",
       "        vertical-align: top;\n",
       "    }\n",
       "\n",
       "    .dataframe thead th {\n",
       "        text-align: right;\n",
       "    }\n",
       "</style>\n",
       "<table border=\"1\" class=\"dataframe\">\n",
       "  <thead>\n",
       "    <tr style=\"text-align: right;\">\n",
       "      <th></th>\n",
       "      <th>letter</th>\n",
       "      <th>digit</th>\n",
       "    </tr>\n",
       "  </thead>\n",
       "  <tbody>\n",
       "    <tr>\n",
       "      <th>0</th>\n",
       "      <td>a</td>\n",
       "      <td>1</td>\n",
       "    </tr>\n",
       "    <tr>\n",
       "      <th>1</th>\n",
       "      <td>b</td>\n",
       "      <td>2</td>\n",
       "    </tr>\n",
       "    <tr>\n",
       "      <th>2</th>\n",
       "      <td>NaN</td>\n",
       "      <td>NaN</td>\n",
       "    </tr>\n",
       "  </tbody>\n",
       "</table>\n",
       "</div>"
      ],
      "text/plain": [
       "  letter digit\n",
       "0      a     1\n",
       "1      b     2\n",
       "2    NaN   NaN"
      ]
     },
     "execution_count": 84,
     "metadata": {},
     "output_type": "execute_result"
    }
   ],
   "source": [
    " pd.Series(['a1', 'b2', 'c3']).str.extract(r'(?P<letter>[ab])(?P<digit>\\d)')"
   ]
  },
  {
   "cell_type": "markdown",
   "metadata": {},
   "source": [
    "## Method Summary"
   ]
  },
  {
   "cell_type": "markdown",
   "metadata": {},
   "source": [
    "<table border=\"1\" class=\"colwidths-given docutils\" id=\"text-summary\">\n",
    "<colgroup>\n",
    "<col width=\"20%\">\n",
    "<col width=\"80%\">\n",
    "</colgroup>\n",
    "<thead valign=\"bottom\">\n",
    "<tr class=\"row-odd\"><th class=\"head\">Method</th>\n",
    "<th class=\"head\">Description</th>\n",
    "</tr>\n",
    "</thead>\n",
    "<tbody valign=\"top\">\n",
    "<tr class=\"row-even\"><td><a class=\"reference internal\" href=\"../reference/api/pandas.Series.str.cat.html#pandas.Series.str.cat\" title=\"pandas.Series.str.cat\"><code class=\"xref py py-meth docutils literal notranslate\"><span class=\"pre\">cat()</span></code></a></td>\n",
    "<td>Concatenate strings</td>\n",
    "</tr>\n",
    "<tr class=\"row-odd\"><td><a class=\"reference internal\" href=\"../reference/api/pandas.Series.str.split.html#pandas.Series.str.split\" title=\"pandas.Series.str.split\"><code class=\"xref py py-meth docutils literal notranslate\"><span class=\"pre\">split()</span></code></a></td>\n",
    "<td>Split strings on delimiter</td>\n",
    "</tr>\n",
    "<tr class=\"row-even\"><td><a class=\"reference internal\" href=\"../reference/api/pandas.Series.str.rsplit.html#pandas.Series.str.rsplit\" title=\"pandas.Series.str.rsplit\"><code class=\"xref py py-meth docutils literal notranslate\"><span class=\"pre\">rsplit()</span></code></a></td>\n",
    "<td>Split strings on delimiter working from the end of the string</td>\n",
    "</tr>\n",
    "<tr class=\"row-odd\"><td><a class=\"reference internal\" href=\"../reference/api/pandas.Series.str.get.html#pandas.Series.str.get\" title=\"pandas.Series.str.get\"><code class=\"xref py py-meth docutils literal notranslate\"><span class=\"pre\">get()</span></code></a></td>\n",
    "<td>Index into each element (retrieve i-th element)</td>\n",
    "</tr>\n",
    "<tr class=\"row-even\"><td><a class=\"reference internal\" href=\"../reference/api/pandas.Series.str.join.html#pandas.Series.str.join\" title=\"pandas.Series.str.join\"><code class=\"xref py py-meth docutils literal notranslate\"><span class=\"pre\">join()</span></code></a></td>\n",
    "<td>Join strings in each element of the Series with passed separator</td>\n",
    "</tr>\n",
    "<tr class=\"row-odd\"><td><a class=\"reference internal\" href=\"../reference/api/pandas.Series.str.get_dummies.html#pandas.Series.str.get_dummies\" title=\"pandas.Series.str.get_dummies\"><code class=\"xref py py-meth docutils literal notranslate\"><span class=\"pre\">get_dummies()</span></code></a></td>\n",
    "<td>Split strings on the delimiter returning DataFrame of dummy variables</td>\n",
    "</tr>\n",
    "<tr class=\"row-even\"><td><a class=\"reference internal\" href=\"../reference/api/pandas.Series.str.contains.html#pandas.Series.str.contains\" title=\"pandas.Series.str.contains\"><code class=\"xref py py-meth docutils literal notranslate\"><span class=\"pre\">contains()</span></code></a></td>\n",
    "<td>Return boolean array if each string contains pattern/regex</td>\n",
    "</tr>\n",
    "<tr class=\"row-odd\"><td><a class=\"reference internal\" href=\"../reference/api/pandas.Series.str.replace.html#pandas.Series.str.replace\" title=\"pandas.Series.str.replace\"><code class=\"xref py py-meth docutils literal notranslate\"><span class=\"pre\">replace()</span></code></a></td>\n",
    "<td>Replace occurrences of pattern/regex/string with some other string or the return value of a callable given the occurrence</td>\n",
    "</tr>\n",
    "<tr class=\"row-even\"><td><a class=\"reference internal\" href=\"../reference/api/pandas.Series.str.repeat.html#pandas.Series.str.repeat\" title=\"pandas.Series.str.repeat\"><code class=\"xref py py-meth docutils literal notranslate\"><span class=\"pre\">repeat()</span></code></a></td>\n",
    "<td>Duplicate values (<code class=\"docutils literal notranslate\"><span class=\"pre\">s.str.repeat(3)</span></code> equivalent to <code class=\"docutils literal notranslate\"><span class=\"pre\">x</span> <span class=\"pre\">*</span> <span class=\"pre\">3</span></code>)</td>\n",
    "</tr>\n",
    "<tr class=\"row-odd\"><td><a class=\"reference internal\" href=\"../reference/api/pandas.Series.str.pad.html#pandas.Series.str.pad\" title=\"pandas.Series.str.pad\"><code class=\"xref py py-meth docutils literal notranslate\"><span class=\"pre\">pad()</span></code></a></td>\n",
    "<td>Add whitespace to left, right, or both sides of strings</td>\n",
    "</tr>\n",
    "<tr class=\"row-even\"><td><a class=\"reference internal\" href=\"../reference/api/pandas.Series.str.center.html#pandas.Series.str.center\" title=\"pandas.Series.str.center\"><code class=\"xref py py-meth docutils literal notranslate\"><span class=\"pre\">center()</span></code></a></td>\n",
    "<td>Equivalent to <code class=\"docutils literal notranslate\"><span class=\"pre\">str.center</span></code></td>\n",
    "</tr>\n",
    "<tr class=\"row-odd\"><td><a class=\"reference internal\" href=\"../reference/api/pandas.Series.str.ljust.html#pandas.Series.str.ljust\" title=\"pandas.Series.str.ljust\"><code class=\"xref py py-meth docutils literal notranslate\"><span class=\"pre\">ljust()</span></code></a></td>\n",
    "<td>Equivalent to <code class=\"docutils literal notranslate\"><span class=\"pre\">str.ljust</span></code></td>\n",
    "</tr>\n",
    "<tr class=\"row-even\"><td><a class=\"reference internal\" href=\"../reference/api/pandas.Series.str.rjust.html#pandas.Series.str.rjust\" title=\"pandas.Series.str.rjust\"><code class=\"xref py py-meth docutils literal notranslate\"><span class=\"pre\">rjust()</span></code></a></td>\n",
    "<td>Equivalent to <code class=\"docutils literal notranslate\"><span class=\"pre\">str.rjust</span></code></td>\n",
    "</tr>\n",
    "<tr class=\"row-odd\"><td><a class=\"reference internal\" href=\"../reference/api/pandas.Series.str.zfill.html#pandas.Series.str.zfill\" title=\"pandas.Series.str.zfill\"><code class=\"xref py py-meth docutils literal notranslate\"><span class=\"pre\">zfill()</span></code></a></td>\n",
    "<td>Equivalent to <code class=\"docutils literal notranslate\"><span class=\"pre\">str.zfill</span></code></td>\n",
    "</tr>\n",
    "<tr class=\"row-even\"><td><a class=\"reference internal\" href=\"../reference/api/pandas.Series.str.wrap.html#pandas.Series.str.wrap\" title=\"pandas.Series.str.wrap\"><code class=\"xref py py-meth docutils literal notranslate\"><span class=\"pre\">wrap()</span></code></a></td>\n",
    "<td>Split long strings into lines with length less than a given width</td>\n",
    "</tr>\n",
    "<tr class=\"row-odd\"><td><a class=\"reference internal\" href=\"../reference/api/pandas.Series.str.slice.html#pandas.Series.str.slice\" title=\"pandas.Series.str.slice\"><code class=\"xref py py-meth docutils literal notranslate\"><span class=\"pre\">slice()</span></code></a></td>\n",
    "<td>Slice each string in the Series</td>\n",
    "</tr>\n",
    "<tr class=\"row-even\"><td><a class=\"reference internal\" href=\"../reference/api/pandas.Series.str.slice_replace.html#pandas.Series.str.slice_replace\" title=\"pandas.Series.str.slice_replace\"><code class=\"xref py py-meth docutils literal notranslate\"><span class=\"pre\">slice_replace()</span></code></a></td>\n",
    "<td>Replace slice in each string with passed value</td>\n",
    "</tr>\n",
    "<tr class=\"row-odd\"><td><a class=\"reference internal\" href=\"../reference/api/pandas.Series.str.count.html#pandas.Series.str.count\" title=\"pandas.Series.str.count\"><code class=\"xref py py-meth docutils literal notranslate\"><span class=\"pre\">count()</span></code></a></td>\n",
    "<td>Count occurrences of pattern</td>\n",
    "</tr>\n",
    "<tr class=\"row-even\"><td><a class=\"reference internal\" href=\"../reference/api/pandas.Series.str.startswith.html#pandas.Series.str.startswith\" title=\"pandas.Series.str.startswith\"><code class=\"xref py py-meth docutils literal notranslate\"><span class=\"pre\">startswith()</span></code></a></td>\n",
    "<td>Equivalent to <code class=\"docutils literal notranslate\"><span class=\"pre\">str.startswith(pat)</span></code> for each element</td>\n",
    "</tr>\n",
    "<tr class=\"row-odd\"><td><a class=\"reference internal\" href=\"../reference/api/pandas.Series.str.endswith.html#pandas.Series.str.endswith\" title=\"pandas.Series.str.endswith\"><code class=\"xref py py-meth docutils literal notranslate\"><span class=\"pre\">endswith()</span></code></a></td>\n",
    "<td>Equivalent to <code class=\"docutils literal notranslate\"><span class=\"pre\">str.endswith(pat)</span></code> for each element</td>\n",
    "</tr>\n",
    "<tr class=\"row-even\"><td><a class=\"reference internal\" href=\"../reference/api/pandas.Series.str.findall.html#pandas.Series.str.findall\" title=\"pandas.Series.str.findall\"><code class=\"xref py py-meth docutils literal notranslate\"><span class=\"pre\">findall()</span></code></a></td>\n",
    "<td>Compute list of all occurrences of pattern/regex for each string</td>\n",
    "</tr>\n",
    "<tr class=\"row-odd\"><td><a class=\"reference internal\" href=\"../reference/api/pandas.Series.str.match.html#pandas.Series.str.match\" title=\"pandas.Series.str.match\"><code class=\"xref py py-meth docutils literal notranslate\"><span class=\"pre\">match()</span></code></a></td>\n",
    "<td>Call <code class=\"docutils literal notranslate\"><span class=\"pre\">re.match</span></code> on each element, returning matched groups as list</td>\n",
    "</tr>\n",
    "<tr class=\"row-even\"><td><a class=\"reference internal\" href=\"../reference/api/pandas.Series.str.extract.html#pandas.Series.str.extract\" title=\"pandas.Series.str.extract\"><code class=\"xref py py-meth docutils literal notranslate\"><span class=\"pre\">extract()</span></code></a></td>\n",
    "<td>Call <code class=\"docutils literal notranslate\"><span class=\"pre\">re.search</span></code> on each element, returning DataFrame with one row for each element and one column for each regex capture group</td>\n",
    "</tr>\n",
    "<tr class=\"row-odd\"><td><a class=\"reference internal\" href=\"../reference/api/pandas.Series.str.extractall.html#pandas.Series.str.extractall\" title=\"pandas.Series.str.extractall\"><code class=\"xref py py-meth docutils literal notranslate\"><span class=\"pre\">extractall()</span></code></a></td>\n",
    "<td>Call <code class=\"docutils literal notranslate\"><span class=\"pre\">re.findall</span></code> on each element, returning DataFrame with one row for each match and one column for each regex capture group</td>\n",
    "</tr>\n",
    "<tr class=\"row-even\"><td><a class=\"reference internal\" href=\"../reference/api/pandas.Series.str.len.html#pandas.Series.str.len\" title=\"pandas.Series.str.len\"><code class=\"xref py py-meth docutils literal notranslate\"><span class=\"pre\">len()</span></code></a></td>\n",
    "<td>Compute string lengths</td>\n",
    "</tr>\n",
    "<tr class=\"row-odd\"><td><a class=\"reference internal\" href=\"../reference/api/pandas.Series.str.strip.html#pandas.Series.str.strip\" title=\"pandas.Series.str.strip\"><code class=\"xref py py-meth docutils literal notranslate\"><span class=\"pre\">strip()</span></code></a></td>\n",
    "<td>Equivalent to <code class=\"docutils literal notranslate\"><span class=\"pre\">str.strip</span></code></td>\n",
    "</tr>\n",
    "<tr class=\"row-even\"><td><a class=\"reference internal\" href=\"../reference/api/pandas.Series.str.rstrip.html#pandas.Series.str.rstrip\" title=\"pandas.Series.str.rstrip\"><code class=\"xref py py-meth docutils literal notranslate\"><span class=\"pre\">rstrip()</span></code></a></td>\n",
    "<td>Equivalent to <code class=\"docutils literal notranslate\"><span class=\"pre\">str.rstrip</span></code></td>\n",
    "</tr>\n",
    "<tr class=\"row-odd\"><td><a class=\"reference internal\" href=\"../reference/api/pandas.Series.str.lstrip.html#pandas.Series.str.lstrip\" title=\"pandas.Series.str.lstrip\"><code class=\"xref py py-meth docutils literal notranslate\"><span class=\"pre\">lstrip()</span></code></a></td>\n",
    "<td>Equivalent to <code class=\"docutils literal notranslate\"><span class=\"pre\">str.lstrip</span></code></td>\n",
    "</tr>\n",
    "<tr class=\"row-even\"><td><a class=\"reference internal\" href=\"../reference/api/pandas.Series.str.partition.html#pandas.Series.str.partition\" title=\"pandas.Series.str.partition\"><code class=\"xref py py-meth docutils literal notranslate\"><span class=\"pre\">partition()</span></code></a></td>\n",
    "<td>Equivalent to <code class=\"docutils literal notranslate\"><span class=\"pre\">str.partition</span></code></td>\n",
    "</tr>\n",
    "<tr class=\"row-odd\"><td><a class=\"reference internal\" href=\"../reference/api/pandas.Series.str.rpartition.html#pandas.Series.str.rpartition\" title=\"pandas.Series.str.rpartition\"><code class=\"xref py py-meth docutils literal notranslate\"><span class=\"pre\">rpartition()</span></code></a></td>\n",
    "<td>Equivalent to <code class=\"docutils literal notranslate\"><span class=\"pre\">str.rpartition</span></code></td>\n",
    "</tr>\n",
    "<tr class=\"row-even\"><td><a class=\"reference internal\" href=\"../reference/api/pandas.Series.str.lower.html#pandas.Series.str.lower\" title=\"pandas.Series.str.lower\"><code class=\"xref py py-meth docutils literal notranslate\"><span class=\"pre\">lower()</span></code></a></td>\n",
    "<td>Equivalent to <code class=\"docutils literal notranslate\"><span class=\"pre\">str.lower</span></code></td>\n",
    "</tr>\n",
    "<tr class=\"row-odd\"><td><a class=\"reference internal\" href=\"../reference/api/pandas.Series.str.upper.html#pandas.Series.str.upper\" title=\"pandas.Series.str.upper\"><code class=\"xref py py-meth docutils literal notranslate\"><span class=\"pre\">upper()</span></code></a></td>\n",
    "<td>Equivalent to <code class=\"docutils literal notranslate\"><span class=\"pre\">str.upper</span></code></td>\n",
    "</tr>\n",
    "<tr class=\"row-even\"><td><a class=\"reference internal\" href=\"../reference/api/pandas.Series.str.find.html#pandas.Series.str.find\" title=\"pandas.Series.str.find\"><code class=\"xref py py-meth docutils literal notranslate\"><span class=\"pre\">find()</span></code></a></td>\n",
    "<td>Equivalent to <code class=\"docutils literal notranslate\"><span class=\"pre\">str.find</span></code></td>\n",
    "</tr>\n",
    "<tr class=\"row-odd\"><td><a class=\"reference internal\" href=\"../reference/api/pandas.Series.str.rfind.html#pandas.Series.str.rfind\" title=\"pandas.Series.str.rfind\"><code class=\"xref py py-meth docutils literal notranslate\"><span class=\"pre\">rfind()</span></code></a></td>\n",
    "<td>Equivalent to <code class=\"docutils literal notranslate\"><span class=\"pre\">str.rfind</span></code></td>\n",
    "</tr>\n",
    "<tr class=\"row-even\"><td><a class=\"reference internal\" href=\"../reference/api/pandas.Series.str.index.html#pandas.Series.str.index\" title=\"pandas.Series.str.index\"><code class=\"xref py py-meth docutils literal notranslate\"><span class=\"pre\">index()</span></code></a></td>\n",
    "<td>Equivalent to <code class=\"docutils literal notranslate\"><span class=\"pre\">str.index</span></code></td>\n",
    "</tr>\n",
    "<tr class=\"row-odd\"><td><a class=\"reference internal\" href=\"../reference/api/pandas.Series.str.rindex.html#pandas.Series.str.rindex\" title=\"pandas.Series.str.rindex\"><code class=\"xref py py-meth docutils literal notranslate\"><span class=\"pre\">rindex()</span></code></a></td>\n",
    "<td>Equivalent to <code class=\"docutils literal notranslate\"><span class=\"pre\">str.rindex</span></code></td>\n",
    "</tr>\n",
    "<tr class=\"row-even\"><td><a class=\"reference internal\" href=\"../reference/api/pandas.Series.str.capitalize.html#pandas.Series.str.capitalize\" title=\"pandas.Series.str.capitalize\"><code class=\"xref py py-meth docutils literal notranslate\"><span class=\"pre\">capitalize()</span></code></a></td>\n",
    "<td>Equivalent to <code class=\"docutils literal notranslate\"><span class=\"pre\">str.capitalize</span></code></td>\n",
    "</tr>\n",
    "<tr class=\"row-odd\"><td><a class=\"reference internal\" href=\"../reference/api/pandas.Series.str.swapcase.html#pandas.Series.str.swapcase\" title=\"pandas.Series.str.swapcase\"><code class=\"xref py py-meth docutils literal notranslate\"><span class=\"pre\">swapcase()</span></code></a></td>\n",
    "<td>Equivalent to <code class=\"docutils literal notranslate\"><span class=\"pre\">str.swapcase</span></code></td>\n",
    "</tr>\n",
    "<tr class=\"row-even\"><td><a class=\"reference internal\" href=\"../reference/api/pandas.Series.str.normalize.html#pandas.Series.str.normalize\" title=\"pandas.Series.str.normalize\"><code class=\"xref py py-meth docutils literal notranslate\"><span class=\"pre\">normalize()</span></code></a></td>\n",
    "<td>Return Unicode normal form. Equivalent to <code class=\"docutils literal notranslate\"><span class=\"pre\">unicodedata.normalize</span></code></td>\n",
    "</tr>\n",
    "<tr class=\"row-odd\"><td><a class=\"reference internal\" href=\"../reference/api/pandas.Series.str.translate.html#pandas.Series.str.translate\" title=\"pandas.Series.str.translate\"><code class=\"xref py py-meth docutils literal notranslate\"><span class=\"pre\">translate()</span></code></a></td>\n",
    "<td>Equivalent to <code class=\"docutils literal notranslate\"><span class=\"pre\">str.translate</span></code></td>\n",
    "</tr>\n",
    "<tr class=\"row-even\"><td><a class=\"reference internal\" href=\"../reference/api/pandas.Series.str.isalnum.html#pandas.Series.str.isalnum\" title=\"pandas.Series.str.isalnum\"><code class=\"xref py py-meth docutils literal notranslate\"><span class=\"pre\">isalnum()</span></code></a></td>\n",
    "<td>Equivalent to <code class=\"docutils literal notranslate\"><span class=\"pre\">str.isalnum</span></code></td>\n",
    "</tr>\n",
    "<tr class=\"row-odd\"><td><a class=\"reference internal\" href=\"../reference/api/pandas.Series.str.isalpha.html#pandas.Series.str.isalpha\" title=\"pandas.Series.str.isalpha\"><code class=\"xref py py-meth docutils literal notranslate\"><span class=\"pre\">isalpha()</span></code></a></td>\n",
    "<td>Equivalent to <code class=\"docutils literal notranslate\"><span class=\"pre\">str.isalpha</span></code></td>\n",
    "</tr>\n",
    "<tr class=\"row-even\"><td><a class=\"reference internal\" href=\"../reference/api/pandas.Series.str.isdigit.html#pandas.Series.str.isdigit\" title=\"pandas.Series.str.isdigit\"><code class=\"xref py py-meth docutils literal notranslate\"><span class=\"pre\">isdigit()</span></code></a></td>\n",
    "<td>Equivalent to <code class=\"docutils literal notranslate\"><span class=\"pre\">str.isdigit</span></code></td>\n",
    "</tr>\n",
    "<tr class=\"row-odd\"><td><a class=\"reference internal\" href=\"../reference/api/pandas.Series.str.isspace.html#pandas.Series.str.isspace\" title=\"pandas.Series.str.isspace\"><code class=\"xref py py-meth docutils literal notranslate\"><span class=\"pre\">isspace()</span></code></a></td>\n",
    "<td>Equivalent to <code class=\"docutils literal notranslate\"><span class=\"pre\">str.isspace</span></code></td>\n",
    "</tr>\n",
    "<tr class=\"row-even\"><td><a class=\"reference internal\" href=\"../reference/api/pandas.Series.str.islower.html#pandas.Series.str.islower\" title=\"pandas.Series.str.islower\"><code class=\"xref py py-meth docutils literal notranslate\"><span class=\"pre\">islower()</span></code></a></td>\n",
    "<td>Equivalent to <code class=\"docutils literal notranslate\"><span class=\"pre\">str.islower</span></code></td>\n",
    "</tr>\n",
    "<tr class=\"row-odd\"><td><a class=\"reference internal\" href=\"../reference/api/pandas.Series.str.isupper.html#pandas.Series.str.isupper\" title=\"pandas.Series.str.isupper\"><code class=\"xref py py-meth docutils literal notranslate\"><span class=\"pre\">isupper()</span></code></a></td>\n",
    "<td>Equivalent to <code class=\"docutils literal notranslate\"><span class=\"pre\">str.isupper</span></code></td>\n",
    "</tr>\n",
    "<tr class=\"row-even\"><td><a class=\"reference internal\" href=\"../reference/api/pandas.Series.str.istitle.html#pandas.Series.str.istitle\" title=\"pandas.Series.str.istitle\"><code class=\"xref py py-meth docutils literal notranslate\"><span class=\"pre\">istitle()</span></code></a></td>\n",
    "<td>Equivalent to <code class=\"docutils literal notranslate\"><span class=\"pre\">str.istitle</span></code></td>\n",
    "</tr>\n",
    "<tr class=\"row-odd\"><td><a class=\"reference internal\" href=\"../reference/api/pandas.Series.str.isnumeric.html#pandas.Series.str.isnumeric\" title=\"pandas.Series.str.isnumeric\"><code class=\"xref py py-meth docutils literal notranslate\"><span class=\"pre\">isnumeric()</span></code></a></td>\n",
    "<td>Equivalent to <code class=\"docutils literal notranslate\"><span class=\"pre\">str.isnumeric</span></code></td>\n",
    "</tr>\n",
    "<tr class=\"row-even\"><td><a class=\"reference internal\" href=\"../reference/api/pandas.Series.str.isdecimal.html#pandas.Series.str.isdecimal\" title=\"pandas.Series.str.isdecimal\"><code class=\"xref py py-meth docutils literal notranslate\"><span class=\"pre\">isdecimal()</span></code></a></td>\n",
    "<td>Equivalent to <code class=\"docutils literal notranslate\"><span class=\"pre\">str.isdecimal</span></code></td>\n",
    "</tr>\n",
    "</tbody>\n",
    "</table>"
   ]
  },
  {
   "cell_type": "code",
   "execution_count": null,
   "metadata": {},
   "outputs": [],
   "source": []
  }
 ],
 "metadata": {
  "kernelspec": {
   "display_name": "Python 3",
   "language": "python",
   "name": "python3"
  },
  "language_info": {
   "codemirror_mode": {
    "name": "ipython",
    "version": 3
   },
   "file_extension": ".py",
   "mimetype": "text/x-python",
   "name": "python",
   "nbconvert_exporter": "python",
   "pygments_lexer": "ipython3",
   "version": "3.6.8"
  }
 },
 "nbformat": 4,
 "nbformat_minor": 2
}
