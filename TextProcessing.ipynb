{
 "cells": [
  {
   "cell_type": "code",
   "execution_count": 22,
   "metadata": {},
   "outputs": [],
   "source": [
    "import os\n",
    "import requests\n",
    "from bs4 import BeautifulSoup\n",
    "import zipfile\n",
    "import io\n",
    "import json\n",
    "import re"
   ]
  },
  {
   "cell_type": "code",
   "execution_count": 3,
   "metadata": {},
   "outputs": [],
   "source": [
    "import pandas as pd\n",
    "import numpy as np"
   ]
  },
  {
   "cell_type": "code",
   "execution_count": null,
   "metadata": {},
   "outputs": [],
   "source": [
    "import os\n",
    "import nltk\n",
    "nltk.data.path.append(os.path.join(os.getcwd(), \"nltk_data\"))\n",
    "from nltk.tokenize import word_tokenize\n",
    "from nltk.tokenize import sent_tokenize\n",
    "from nltk.corpus import stopwords\n",
    "from nltk.stem.porter import PorterStemmer"
   ]
  },
  {
   "cell_type": "markdown",
   "metadata": {},
   "source": [
    "## Import a zipfile from web and reading it into pandas"
   ]
  },
  {
   "cell_type": "code",
   "execution_count": 4,
   "metadata": {},
   "outputs": [],
   "source": [
    "news_uci = 'https://archive.ics.uci.edu/ml/machine-learning-databases/00359/NewsAggregatorDataset.zip'"
   ]
  },
  {
   "cell_type": "code",
   "execution_count": 5,
   "metadata": {},
   "outputs": [],
   "source": [
    "file = requests.get(news_uci).content"
   ]
  },
  {
   "cell_type": "code",
   "execution_count": 7,
   "metadata": {},
   "outputs": [
    {
     "name": "stdout",
     "output_type": "stream",
     "text": [
      "   1 Fed official says weak data caused by weather, should not slow taper  \\\n",
      "0  2  Fed's Charles Plosser sees high bar for change...                     \n",
      "1  3  US open: Stocks fall after Fed official hints ...                     \n",
      "2  4  Fed risks falling 'behind the curve', Charles ...                     \n",
      "3  5  Fed's Plosser: Nasty Weather Has Curbed Job Gr...                     \n",
      "4  6  Plosser: Fed May Have to Accelerate Tapering Pace                     \n",
      "\n",
      "  http://www.latimes.com/business/money/la-fi-mo-federal-reserve-plosser-stimulus-economy-20140310,0,1312750.story\\?track=rss  \\\n",
      "0  http://www.livemint.com/Politics/H2EvwJSK2VE6O...                                                                            \n",
      "1  http://www.ifamagazine.com/news/us-open-stocks...                                                                            \n",
      "2  http://www.ifamagazine.com/news/fed-risks-fall...                                                                            \n",
      "3  http://www.moneynews.com/Economy/federal-reser...                                                                            \n",
      "4  http://www.nasdaq.com/article/plosser-fed-may-...                                                                            \n",
      "\n",
      "  Los Angeles Times  b  ddUyU0VZz0BRneMioxUPQVP6sIxvM      www.latimes.com  \\\n",
      "0          Livemint  b  ddUyU0VZz0BRneMioxUPQVP6sIxvM     www.livemint.com   \n",
      "1      IFA Magazine  b  ddUyU0VZz0BRneMioxUPQVP6sIxvM  www.ifamagazine.com   \n",
      "2      IFA Magazine  b  ddUyU0VZz0BRneMioxUPQVP6sIxvM  www.ifamagazine.com   \n",
      "3         Moneynews  b  ddUyU0VZz0BRneMioxUPQVP6sIxvM    www.moneynews.com   \n",
      "4            NASDAQ  b  ddUyU0VZz0BRneMioxUPQVP6sIxvM       www.nasdaq.com   \n",
      "\n",
      "   1394470370698  \n",
      "0  1394470371207  \n",
      "1  1394470371550  \n",
      "2  1394470371793  \n",
      "3  1394470372027  \n",
      "4  1394470372212  \n"
     ]
    }
   ],
   "source": [
    "with zipfile.ZipFile(io.BytesIO(file)) as z:\n",
    "    with z.open('newsCorpora.csv', mode = 'r') as f:\n",
    "        train = pd.read_csv(f, header = 0, delimiter=\"\\t\")\n",
    "        print(train.head())    # print the fir"
   ]
  },
  {
   "cell_type": "markdown",
   "metadata": {},
   "source": [
    "## Online Resources"
   ]
  },
  {
   "cell_type": "code",
   "execution_count": 9,
   "metadata": {},
   "outputs": [],
   "source": [
    "r = requests.get(\"https://quotes.rest/qod.json\").json()"
   ]
  },
  {
   "cell_type": "code",
   "execution_count": 11,
   "metadata": {
    "scrolled": false
   },
   "outputs": [
    {
     "name": "stdout",
     "output_type": "stream",
     "text": [
      "{\n",
      "    \"success\": {\n",
      "        \"total\": 1\n",
      "    },\n",
      "    \"contents\": {\n",
      "        \"quotes\": [\n",
      "            {\n",
      "                \"quote\": \"Great things are done by a series of small things brought together.\",\n",
      "                \"author\": \"Vincent Van Gogh\",\n",
      "                \"length\": \"67\",\n",
      "                \"tags\": [\n",
      "                    \"inspire\",\n",
      "                    \"small-things\",\n",
      "                    \"tso-art\"\n",
      "                ],\n",
      "                \"category\": \"inspire\",\n",
      "                \"title\": \"Inspiring Quote of the day\",\n",
      "                \"date\": \"2019-02-24\",\n",
      "                \"id\": null\n",
      "            }\n",
      "        ],\n",
      "        \"copyright\": \"2017-19 theysaidso.com\"\n",
      "    }\n",
      "}\n"
     ]
    }
   ],
   "source": [
    "print(json.dumps(r, indent=4))"
   ]
  },
  {
   "cell_type": "code",
   "execution_count": 18,
   "metadata": {},
   "outputs": [],
   "source": [
    "q = r['contents']['quotes'][0]['author']"
   ]
  },
  {
   "cell_type": "code",
   "execution_count": 19,
   "metadata": {},
   "outputs": [
    {
     "data": {
      "text/plain": [
       "'Vincent Van Gogh'"
      ]
     },
     "execution_count": 19,
     "metadata": {},
     "output_type": "execute_result"
    }
   ],
   "source": [
    "q"
   ]
  },
  {
   "cell_type": "markdown",
   "metadata": {},
   "source": [
    "## Cleaning"
   ]
  },
  {
   "cell_type": "code",
   "execution_count": 20,
   "metadata": {},
   "outputs": [],
   "source": [
    "r = requests.get(\"https://news.ycombinator.com\").text"
   ]
  },
  {
   "cell_type": "code",
   "execution_count": 21,
   "metadata": {
    "scrolled": false
   },
   "outputs": [
    {
     "name": "stdout",
     "output_type": "stream",
     "text": [
      "<html op=\"news\"><head><meta name=\"referrer\" content=\"origin\"><meta name=\"viewport\" content=\"width=device-width, initial-scale=1.0\"><link rel=\"stylesheet\" type=\"text/css\" href=\"news.css?Swdnfjd2lvQXPAqH2Hs6\">\n",
      "            <link rel=\"shortcut icon\" href=\"favicon.ico\">\n",
      "          <link rel=\"alternate\" type=\"application/rss+xml\" title=\"RSS\" href=\"rss\">\n",
      "        <title>Hacker News</title></head><body><center><table id=\"hnmain\" border=\"0\" cellpadding=\"0\" cellspacing=\"0\" width=\"85%\" bgcolor=\"#f6f6ef\">\n",
      "        <tr><td bgcolor=\"#ff6600\"><table border=\"0\" cellpadding=\"0\" cellspacing=\"0\" width=\"100%\" style=\"padding:2px\"><tr><td style=\"width:18px;padding-right:4px\"><a href=\"https://news.ycombinator.com\"><img src=\"y18.gif\" width=\"18\" height=\"18\" style=\"border:1px white solid;\"></a></td>\n",
      "                  <td style=\"line-height:12pt; height:10px;\"><span class=\"pagetop\"><b class=\"hnname\"><a href=\"news\">Hacker News</a></b>\n",
      "              <a href=\"newest\">new</a> | <a href=\"front\">past</a> | <a href=\"newcomments\">comments</a> | <a href=\"ask\">ask</a> | <a href=\"show\">show</a> | <a href=\"jobs\">jobs</a> | <a href=\"submit\">submit</a>            </span></td><td style=\"text-align:right;padding-right:4px;\"><span class=\"pagetop\">\n",
      "                              <a href=\"login?goto=news\">login</a>\n",
      "                          </span></td>\n",
      "              </tr></table></td></tr>\n",
      "<tr id=\"pagespace\" title=\"\" style=\"height:10px\"></tr><tr><td><table border=\"0\" cellpadding=\"0\" cellspacing=\"0\" class=\"itemlist\">\n",
      "              <tr class='athing' id='19238340'>\n",
      "      <td align=\"right\" valign=\"top\" class=\"title\"><span class=\"rank\">1.</span></td>      <td valign=\"top\" class=\"votelinks\"><center><a id='up_19238340' href='vote?id=19238340&amp;how=up&amp;goto=news'><div class='votearrow' title='upvote'></div></a></center></td><td class=\"title\"><a href=\"https://keithclark.co.uk/labs/css-fps/\" class=\"storylink\">CSS Powered 3D Engine</a><span class=\"sitebit comhead\"> (<a href=\"from?site=keithclark.co.uk\"><span class=\"sitestr\">keithclark.co.uk</span></a>)</span></td></tr><tr><td colspan=\"2\"></td><td class=\"subtext\">\n",
      "        <span class=\"score\" id=\"score_19238340\">59 points</span> by <a href=\"user?id=Zagitta\" class=\"hnuser\">Zagitta</a> <span class=\"age\"><a href=\"item?id=19238340\">1 hour ago</a></span> <span id=\"unv_19238340\"></span> | <a href=\"hide?id=19238340&amp;goto=news\">hide</a> | <a href=\"item?id=19238340\">4&nbsp;comments</a>              </td></tr>\n",
      "      <tr class=\"spacer\" style=\"height:5px\"></tr>\n",
      "                <tr class='athing' id='19238221'>\n",
      "      <td align=\"right\" valign=\"top\" class=\"title\"><span class=\"rank\">2.</span></td>      <td valign=\"top\" class=\"votelinks\"><center><a id='up_19238221' href='vote?id=19238221&amp;how=up&amp;goto=news'><div class='votearrow' title='upvote'></div></a></center></td><td class=\"title\"><a href=\"https://blog.discordapp.com/scaling-elixir-f9b8e1e7c29b\" class=\"storylink\">Discord Scaled Elixir to 5M Concurrent Users (2017)</a><span class=\"sitebit comhead\"> (<a href=\"from?site=discordapp.com\"><span class=\"sitestr\">discordapp.com</span></a>)</span></td></tr><tr><td colspan=\"2\"></td><td class=\"subtext\">\n",
      "        <span class=\"score\" id=\"score_19238221\">43 points</span> by <a href=\"user?id=lelf\" class=\"hnuser\">lelf</a> <span class=\"age\"><a href=\"item?id=19238221\">1 hour ago</a></span> <span id=\"unv_19238221\"></span> | <a href=\"hide?id=19238221&amp;goto=news\">hide</a> | <a href=\"item?id=19238221\">3&nbsp;comments</a>              </td></tr>\n",
      "      <tr class=\"spacer\" style=\"height:5px\"></tr>\n",
      "                <tr class='athing' id='19237608'>\n",
      "      <td align=\"right\" valign=\"top\" class=\"title\"><span class=\"rank\">3.</span></td>      <td valign=\"top\" class=\"votelinks\"><center><a id='up_19237608' href='vote?id=19237608&amp;how=up&amp;goto=news'><div class='votearrow' title='upvote'></div></a></center></td><td class=\"title\"><a href=\"https://www.reddit.com/r/IAmA/comments/au2rjb/i_am_steven_pruitt_the_wikipedian_with_over_3/\" class=\"storylink\">AMA: Steven Pruitt, Wikipedian with over 3 million edits</a><span class=\"sitebit comhead\"> (<a href=\"from?site=reddit.com\"><span class=\"sitestr\">reddit.com</span></a>)</span></td></tr><tr><td colspan=\"2\"></td><td class=\"subtext\">\n",
      "        <span class=\"score\" id=\"score_19237608\">131 points</span> by <a href=\"user?id=aboutruby\" class=\"hnuser\">aboutruby</a> <span class=\"age\"><a href=\"item?id=19237608\">5 hours ago</a></span> <span id=\"unv_19237608\"></span> | <a href=\"hide?id=19237608&amp;goto=news\">hide</a> | <a href=\"item?id=19237608\">19&nbsp;comments</a>              </td></tr>\n",
      "      <tr class=\"spacer\" style=\"height:5px\"></tr>\n",
      "                <tr class='athing' id='19237969'>\n",
      "      <td align=\"right\" valign=\"top\" class=\"title\"><span class=\"rank\">4.</span></td>      <td valign=\"top\" class=\"votelinks\"><center><a id='up_19237969' href='vote?id=19237969&amp;how=up&amp;goto=news'><div class='votearrow' title='upvote'></div></a></center></td><td class=\"title\"><a href=\"https://kushaldas.in/posts/tracking-my-phone-s-silent-connections.html\" class=\"storylink\">Tracking my phone's silent connections</a><span class=\"sitebit comhead\"> (<a href=\"from?site=kushaldas.in\"><span class=\"sitestr\">kushaldas.in</span></a>)</span></td></tr><tr><td colspan=\"2\"></td><td class=\"subtext\">\n",
      "        <span class=\"score\" id=\"score_19237969\">56 points</span> by <a href=\"user?id=jaclaz\" class=\"hnuser\">jaclaz</a> <span class=\"age\"><a href=\"item?id=19237969\">3 hours ago</a></span> <span id=\"unv_19237969\"></span> | <a href=\"hide?id=19237969&amp;goto=news\">hide</a> | <a href=\"item?id=19237969\">26&nbsp;comments</a>              </td></tr>\n",
      "      <tr class=\"spacer\" style=\"height:5px\"></tr>\n",
      "                <tr class='athing' id='19238121'>\n",
      "      <td align=\"right\" valign=\"top\" class=\"title\"><span class=\"rank\">5.</span></td>      <td valign=\"top\" class=\"votelinks\"><center><a id='up_19238121' href='vote?id=19238121&amp;how=up&amp;goto=news'><div class='votearrow' title='upvote'></div></a></center></td><td class=\"title\"><a href=\"https://www.percona.com/blog/2019/02/22/postgresql-fsync-failure-fixed-minor-versions-released-feb-14-2019/#FSYNC-ERRORS-ARE-NOW-DETECTED\" class=\"storylink\">Linux Fsync Issue for Buffered IO and Its Preliminary Fix for PostgreSQL</a><span class=\"sitebit comhead\"> (<a href=\"from?site=percona.com\"><span class=\"sitestr\">percona.com</span></a>)</span></td></tr><tr><td colspan=\"2\"></td><td class=\"subtext\">\n",
      "        <span class=\"score\" id=\"score_19238121\">17 points</span> by <a href=\"user?id=avivallssa\" class=\"hnuser\">avivallssa</a> <span class=\"age\"><a href=\"item?id=19238121\">2 hours ago</a></span> <span id=\"unv_19238121\"></span> | <a href=\"hide?id=19238121&amp;goto=news\">hide</a> | <a href=\"item?id=19238121\">1&nbsp;comment</a>              </td></tr>\n",
      "      <tr class=\"spacer\" style=\"height:5px\"></tr>\n",
      "                <tr class='athing' id='19237052'>\n",
      "      <td align=\"right\" valign=\"top\" class=\"title\"><span class=\"rank\">6.</span></td>      <td valign=\"top\" class=\"votelinks\"><center><a id='up_19237052' href='vote?id=19237052&amp;how=up&amp;goto=news'><div class='votearrow' title='upvote'></div></a></center></td><td class=\"title\"><a href=\"http://hypercardadventures.com\" class=\"storylink\">HyperCard Adventures</a><span class=\"sitebit comhead\"> (<a href=\"from?site=hypercardadventures.com\"><span class=\"sitestr\">hypercardadventures.com</span></a>)</span></td></tr><tr><td colspan=\"2\"></td><td class=\"subtext\">\n",
      "        <span class=\"score\" id=\"score_19237052\">146 points</span> by <a href=\"user?id=vmbrasseur\" class=\"hnuser\">vmbrasseur</a> <span class=\"age\"><a href=\"item?id=19237052\">9 hours ago</a></span> <span id=\"unv_19237052\"></span> | <a href=\"hide?id=19237052&amp;goto=news\">hide</a> | <a href=\"item?id=19237052\">22&nbsp;comments</a>              </td></tr>\n",
      "      <tr class=\"spacer\" style=\"height:5px\"></tr>\n",
      "                <tr class='athing' id='19237527'>\n",
      "      <td align=\"right\" valign=\"top\" class=\"title\"><span class=\"rank\">7.</span></td>      <td valign=\"top\" class=\"votelinks\"><center><a id='up_19237527' href='vote?id=19237527&amp;how=up&amp;goto=news'><div class='votearrow' title='upvote'></div></a></center></td><td class=\"title\"><a href=\"https://homepages.cwi.nl/~steven/enquire.html\" class=\"storylink\">Enquire: Everything you wanted to know about your C Compiler and Machine</a><span class=\"sitebit comhead\"> (<a href=\"from?site=cwi.nl\"><span class=\"sitestr\">cwi.nl</span></a>)</span></td></tr><tr><td colspan=\"2\"></td><td class=\"subtext\">\n",
      "        <span class=\"score\" id=\"score_19237527\">57 points</span> by <a href=\"user?id=Tomte\" class=\"hnuser\">Tomte</a> <span class=\"age\"><a href=\"item?id=19237527\">6 hours ago</a></span> <span id=\"unv_19237527\"></span> | <a href=\"hide?id=19237527&amp;goto=news\">hide</a> | <a href=\"item?id=19237527\">17&nbsp;comments</a>              </td></tr>\n",
      "      <tr class=\"spacer\" style=\"height:5px\"></tr>\n",
      "                <tr class='athing' id='19236990'>\n",
      "      <td align=\"right\" valign=\"top\" class=\"title\"><span class=\"rank\">8.</span></td>      <td valign=\"top\" class=\"votelinks\"><center><a id='up_19236990' href='vote?id=19236990&amp;how=up&amp;goto=news'><div class='votearrow' title='upvote'></div></a></center></td><td class=\"title\"><a href=\"https://gizmodo.com/how-an-investigation-of-fake-fcc-comments-snared-a-prom-1832788658\" class=\"storylink\">Prominent D.C. media firm implicated in fake FCC comments</a><span class=\"sitebit comhead\"> (<a href=\"from?site=gizmodo.com\"><span class=\"sitestr\">gizmodo.com</span></a>)</span></td></tr><tr><td colspan=\"2\"></td><td class=\"subtext\">\n",
      "        <span class=\"score\" id=\"score_19236990\">111 points</span> by <a href=\"user?id=spac\" class=\"hnuser\">spac</a> <span class=\"age\"><a href=\"item?id=19236990\">9 hours ago</a></span> <span id=\"unv_19236990\"></span> | <a href=\"hide?id=19236990&amp;goto=news\">hide</a> | <a href=\"item?id=19236990\">14&nbsp;comments</a>              </td></tr>\n",
      "      <tr class=\"spacer\" style=\"height:5px\"></tr>\n",
      "                <tr class='athing' id='19236249'>\n",
      "      <td align=\"right\" valign=\"top\" class=\"title\"><span class=\"rank\">9.</span></td>      <td valign=\"top\" class=\"votelinks\"><center><a id='up_19236249' href='vote?id=19236249&amp;how=up&amp;goto=news'><div class='votearrow' title='upvote'></div></a></center></td><td class=\"title\"><a href=\"http://bramlambrecht.com/tmp/jamieberard-brickstress-bf06.pdf\" class=\"storylink\">“Illegal” Lego Builds (2006) [pdf]</a><span class=\"sitebit comhead\"> (<a href=\"from?site=bramlambrecht.com\"><span class=\"sitestr\">bramlambrecht.com</span></a>)</span></td></tr><tr><td colspan=\"2\"></td><td class=\"subtext\">\n",
      "        <span class=\"score\" id=\"score_19236249\">270 points</span> by <a href=\"user?id=nvr219\" class=\"hnuser\">nvr219</a> <span class=\"age\"><a href=\"item?id=19236249\">13 hours ago</a></span> <span id=\"unv_19236249\"></span> | <a href=\"hide?id=19236249&amp;goto=news\">hide</a> | <a href=\"item?id=19236249\">38&nbsp;comments</a>              </td></tr>\n",
      "      <tr class=\"spacer\" style=\"height:5px\"></tr>\n",
      "                <tr class='athing' id='19236245'>\n",
      "      <td align=\"right\" valign=\"top\" class=\"title\"><span class=\"rank\">10.</span></td>      <td valign=\"top\" class=\"votelinks\"><center><a id='up_19236245' href='vote?id=19236245&amp;how=up&amp;goto=news'><div class='votearrow' title='upvote'></div></a></center></td><td class=\"title\"><a href=\"https://www.cbsnews.com/news/chevy-volt-discontinued-chevrolets-last-volt-rolls-off-the-assembly-line/\" class=\"storylink\">Chevy Volt discontinued: Chevrolet's last Volt rolls off the assembly line</a><span class=\"sitebit comhead\"> (<a href=\"from?site=cbsnews.com\"><span class=\"sitestr\">cbsnews.com</span></a>)</span></td></tr><tr><td colspan=\"2\"></td><td class=\"subtext\">\n",
      "        <span class=\"score\" id=\"score_19236245\">196 points</span> by <a href=\"user?id=curtis\" class=\"hnuser\">curtis</a> <span class=\"age\"><a href=\"item?id=19236245\">11 hours ago</a></span> <span id=\"unv_19236245\"></span> | <a href=\"hide?id=19236245&amp;goto=news\">hide</a> | <a href=\"item?id=19236245\">183&nbsp;comments</a>              </td></tr>\n",
      "      <tr class=\"spacer\" style=\"height:5px\"></tr>\n",
      "                <tr class='athing' id='19235158'>\n",
      "      <td align=\"right\" valign=\"top\" class=\"title\"><span class=\"rank\">11.</span></td>      <td valign=\"top\" class=\"votelinks\"><center><a id='up_19235158' href='vote?id=19235158&amp;how=up&amp;goto=news'><div class='votearrow' title='upvote'></div></a></center></td><td class=\"title\"><a href=\"https://zenodo.org/record/2565243#.XHGlbrqYWc0\" class=\"storylink\">Stream Ring Theory – A Turing-Complete Stream Algebra</a><span class=\"sitebit comhead\"> (<a href=\"from?site=zenodo.org\"><span class=\"sitestr\">zenodo.org</span></a>)</span></td></tr><tr><td colspan=\"2\"></td><td class=\"subtext\">\n",
      "        <span class=\"score\" id=\"score_19235158\">9 points</span> by <a href=\"user?id=espeed\" class=\"hnuser\">espeed</a> <span class=\"age\"><a href=\"item?id=19235158\">3 hours ago</a></span> <span id=\"unv_19235158\"></span> | <a href=\"hide?id=19235158&amp;goto=news\">hide</a> | <a href=\"item?id=19235158\">discuss</a>              </td></tr>\n",
      "      <tr class=\"spacer\" style=\"height:5px\"></tr>\n",
      "                <tr class='athing' id='19237592'>\n",
      "      <td align=\"right\" valign=\"top\" class=\"title\"><span class=\"rank\">12.</span></td>      <td valign=\"top\" class=\"votelinks\"><center><a id='up_19237592' href='vote?id=19237592&amp;how=up&amp;goto=news'><div class='votearrow' title='upvote'></div></a></center></td><td class=\"title\"><a href=\"http://250bpm.com/blog:86\" class=\"storylink\">The Cost of Abstraction (2016)</a><span class=\"sitebit comhead\"> (<a href=\"from?site=250bpm.com\"><span class=\"sitestr\">250bpm.com</span></a>)</span></td></tr><tr><td colspan=\"2\"></td><td class=\"subtext\">\n",
      "        <span class=\"score\" id=\"score_19237592\">25 points</span> by <a href=\"user?id=wheresvic1\" class=\"hnuser\">wheresvic1</a> <span class=\"age\"><a href=\"item?id=19237592\">6 hours ago</a></span> <span id=\"unv_19237592\"></span> | <a href=\"hide?id=19237592&amp;goto=news\">hide</a> | <a href=\"item?id=19237592\">15&nbsp;comments</a>              </td></tr>\n",
      "      <tr class=\"spacer\" style=\"height:5px\"></tr>\n",
      "                <tr class='athing' id='19237704'>\n",
      "      <td align=\"right\" valign=\"top\" class=\"title\"><span class=\"rank\">13.</span></td>      <td valign=\"top\" class=\"votelinks\"><center><a id='up_19237704' href='vote?id=19237704&amp;how=up&amp;goto=news'><div class='votearrow' title='upvote'></div></a></center></td><td class=\"title\"><a href=\"https://www.nytimes.com/2019/02/23/business/cell-phone-addiction.html\" class=\"storylink\">I Ditched My Phone and Unbroke My Brain</a><span class=\"sitebit comhead\"> (<a href=\"from?site=nytimes.com\"><span class=\"sitestr\">nytimes.com</span></a>)</span></td></tr><tr><td colspan=\"2\"></td><td class=\"subtext\">\n",
      "        <span class=\"score\" id=\"score_19237704\">15 points</span> by <a href=\"user?id=imartin2k\" class=\"hnuser\">imartin2k</a> <span class=\"age\"><a href=\"item?id=19237704\">5 hours ago</a></span> <span id=\"unv_19237704\"></span> | <a href=\"hide?id=19237704&amp;goto=news\">hide</a> | <a href=\"item?id=19237704\">4&nbsp;comments</a>              </td></tr>\n",
      "      <tr class=\"spacer\" style=\"height:5px\"></tr>\n",
      "                <tr class='athing' id='19223436'>\n",
      "      <td align=\"right\" valign=\"top\" class=\"title\"><span class=\"rank\">14.</span></td>      <td valign=\"top\" class=\"votelinks\"><center><a id='up_19223436' href='vote?id=19223436&amp;how=up&amp;goto=news'><div class='votearrow' title='upvote'></div></a></center></td><td class=\"title\"><a href=\"https://blog.evjang.com/2019/02/maml-jax.html\" class=\"storylink\">Meta-Learning in 50 Lines of JAX</a><span class=\"sitebit comhead\"> (<a href=\"from?site=evjang.com\"><span class=\"sitestr\">evjang.com</span></a>)</span></td></tr><tr><td colspan=\"2\"></td><td class=\"subtext\">\n",
      "        <span class=\"score\" id=\"score_19223436\">17 points</span> by <a href=\"user?id=hardmaru\" class=\"hnuser\">hardmaru</a> <span class=\"age\"><a href=\"item?id=19223436\">5 hours ago</a></span> <span id=\"unv_19223436\"></span> | <a href=\"hide?id=19223436&amp;goto=news\">hide</a> | <a href=\"item?id=19223436\">discuss</a>              </td></tr>\n",
      "      <tr class=\"spacer\" style=\"height:5px\"></tr>\n",
      "                <tr class='athing' id='19236487'>\n",
      "      <td align=\"right\" valign=\"top\" class=\"title\"><span class=\"rank\">15.</span></td>      <td valign=\"top\" class=\"votelinks\"><center><a id='up_19236487' href='vote?id=19236487&amp;how=up&amp;goto=news'><div class='votearrow' title='upvote'></div></a></center></td><td class=\"title\"><a href=\"item?id=19236487\" class=\"storylink\">Ask HN: Pros and cons of working at a startup in 2019?</a></td></tr><tr><td colspan=\"2\"></td><td class=\"subtext\">\n",
      "        <span class=\"score\" id=\"score_19236487\">67 points</span> by <a href=\"user?id=askafriend\" class=\"hnuser\">askafriend</a> <span class=\"age\"><a href=\"item?id=19236487\">12 hours ago</a></span> <span id=\"unv_19236487\"></span> | <a href=\"hide?id=19236487&amp;goto=news\">hide</a> | <a href=\"item?id=19236487\">25&nbsp;comments</a>              </td></tr>\n",
      "      <tr class=\"spacer\" style=\"height:5px\"></tr>\n",
      "                <tr class='athing' id='19236025'>\n",
      "      <td align=\"right\" valign=\"top\" class=\"title\"><span class=\"rank\">16.</span></td>      <td valign=\"top\" class=\"votelinks\"><center><a id='up_19236025' href='vote?id=19236025&amp;how=up&amp;goto=news'><div class='votearrow' title='upvote'></div></a></center></td><td class=\"title\"><a href=\"http://www.erynnbrook.com/when-twitter-threads-fly-away/\" class=\"storylink\">Twitter Thread Compiler Apps and Copyright Ethics</a><span class=\"sitebit comhead\"> (<a href=\"from?site=erynnbrook.com\"><span class=\"sitestr\">erynnbrook.com</span></a>)</span></td></tr><tr><td colspan=\"2\"></td><td class=\"subtext\">\n",
      "        <span class=\"score\" id=\"score_19236025\">94 points</span> by <a href=\"user?id=DoreenMichele\" class=\"hnuser\">DoreenMichele</a> <span class=\"age\"><a href=\"item?id=19236025\">14 hours ago</a></span> <span id=\"unv_19236025\"></span> | <a href=\"hide?id=19236025&amp;goto=news\">hide</a> | <a href=\"item?id=19236025\">56&nbsp;comments</a>              </td></tr>\n",
      "      <tr class=\"spacer\" style=\"height:5px\"></tr>\n",
      "                <tr class='athing' id='19231973'>\n",
      "      <td align=\"right\" valign=\"top\" class=\"title\"><span class=\"rank\">17.</span></td>      <td valign=\"top\" class=\"votelinks\"><center><a id='up_19231973' href='vote?id=19231973&amp;how=up&amp;goto=news'><div class='votearrow' title='upvote'></div></a></center></td><td class=\"title\"><a href=\"http://www.kwasstuff.altervista.org/RIP/\" class=\"storylink\">RIP Graphics (2005-2015)</a><span class=\"sitebit comhead\"> (<a href=\"from?site=altervista.org\"><span class=\"sitestr\">altervista.org</span></a>)</span></td></tr><tr><td colspan=\"2\"></td><td class=\"subtext\">\n",
      "        <span class=\"score\" id=\"score_19231973\">84 points</span> by <a href=\"user?id=bane\" class=\"hnuser\">bane</a> <span class=\"age\"><a href=\"item?id=19231973\">14 hours ago</a></span> <span id=\"unv_19231973\"></span> | <a href=\"hide?id=19231973&amp;goto=news\">hide</a> | <a href=\"item?id=19231973\">16&nbsp;comments</a>              </td></tr>\n",
      "      <tr class=\"spacer\" style=\"height:5px\"></tr>\n",
      "                <tr class='athing' id='19232073'>\n",
      "      <td align=\"right\" valign=\"top\" class=\"title\"><span class=\"rank\">18.</span></td>      <td valign=\"top\" class=\"votelinks\"><center><a id='up_19232073' href='vote?id=19232073&amp;how=up&amp;goto=news'><div class='votearrow' title='upvote'></div></a></center></td><td class=\"title\"><a href=\"https://nmbx.newmusicusa.org/hearing-the-hammond-organ/\" class=\"storylink\">“Hearing” the Hammond Organ</a><span class=\"sitebit comhead\"> (<a href=\"from?site=newmusicusa.org\"><span class=\"sitestr\">newmusicusa.org</span></a>)</span></td></tr><tr><td colspan=\"2\"></td><td class=\"subtext\">\n",
      "        <span class=\"score\" id=\"score_19232073\">59 points</span> by <a href=\"user?id=mr_golyadkin\" class=\"hnuser\">mr_golyadkin</a> <span class=\"age\"><a href=\"item?id=19232073\">15 hours ago</a></span> <span id=\"unv_19232073\"></span> | <a href=\"hide?id=19232073&amp;goto=news\">hide</a> | <a href=\"item?id=19232073\">28&nbsp;comments</a>              </td></tr>\n",
      "      <tr class=\"spacer\" style=\"height:5px\"></tr>\n",
      "                <tr class='athing' id='19237724'>\n",
      "      <td align=\"right\" valign=\"top\" class=\"title\"><span class=\"rank\">19.</span></td>      <td valign=\"top\" class=\"votelinks\"><center><a id='up_19237724' href='vote?id=19237724&amp;how=up&amp;goto=news'><div class='votearrow' title='upvote'></div></a></center></td><td class=\"title\"><a href=\"https://lwn.net/SubscriberLink/780364/51230bfb2f59ce05/\" class=\"storylink\" rel=\"nofollow\">Containers as Kernel Objects – Again</a><span class=\"sitebit comhead\"> (<a href=\"from?site=lwn.net\"><span class=\"sitestr\">lwn.net</span></a>)</span></td></tr><tr><td colspan=\"2\"></td><td class=\"subtext\">\n",
      "        <span class=\"score\" id=\"score_19237724\">10 points</span> by <a href=\"user?id=Tomte\" class=\"hnuser\">Tomte</a> <span class=\"age\"><a href=\"item?id=19237724\">5 hours ago</a></span> <span id=\"unv_19237724\"></span> | <a href=\"hide?id=19237724&amp;goto=news\">hide</a> | <a href=\"item?id=19237724\">2&nbsp;comments</a>              </td></tr>\n",
      "      <tr class=\"spacer\" style=\"height:5px\"></tr>\n",
      "                <tr class='athing' id='19235017'>\n",
      "      <td align=\"right\" valign=\"top\" class=\"title\"><span class=\"rank\">20.</span></td>      <td valign=\"top\" class=\"votelinks\"><center><a id='up_19235017' href='vote?id=19235017&amp;how=up&amp;goto=news'><div class='votearrow' title='upvote'></div></a></center></td><td class=\"title\"><a href=\"https://twitter.com/btaylor/status/1099370126678253569\" class=\"storylink\">Google Maps: Bird Mode</a><span class=\"sitebit comhead\"> (<a href=\"from?site=twitter.com\"><span class=\"sitestr\">twitter.com</span></a>)</span></td></tr><tr><td colspan=\"2\"></td><td class=\"subtext\">\n",
      "        <span class=\"score\" id=\"score_19235017\">316 points</span> by <a href=\"user?id=tosh\" class=\"hnuser\">tosh</a> <span class=\"age\"><a href=\"item?id=19235017\">18 hours ago</a></span> <span id=\"unv_19235017\"></span> | <a href=\"hide?id=19235017&amp;goto=news\">hide</a> | <a href=\"item?id=19235017\">101&nbsp;comments</a>              </td></tr>\n",
      "      <tr class=\"spacer\" style=\"height:5px\"></tr>\n",
      "                <tr class='athing' id='19233637'>\n",
      "      <td align=\"right\" valign=\"top\" class=\"title\"><span class=\"rank\">21.</span></td>      <td valign=\"top\" class=\"votelinks\"><center><a id='up_19233637' href='vote?id=19233637&amp;how=up&amp;goto=news'><div class='votearrow' title='upvote'></div></a></center></td><td class=\"title\"><a href=\"https://nosir.github.io/cleave.js/\" class=\"storylink\">Cleave.js – Format input text content when you are typing</a><span class=\"sitebit comhead\"> (<a href=\"from?site=nosir.github.io\"><span class=\"sitestr\">nosir.github.io</span></a>)</span></td></tr><tr><td colspan=\"2\"></td><td class=\"subtext\">\n",
      "        <span class=\"score\" id=\"score_19233637\">398 points</span> by <a href=\"user?id=octosphere\" class=\"hnuser\">octosphere</a> <span class=\"age\"><a href=\"item?id=19233637\">22 hours ago</a></span> <span id=\"unv_19233637\"></span> | <a href=\"hide?id=19233637&amp;goto=news\">hide</a> | <a href=\"item?id=19233637\">120&nbsp;comments</a>              </td></tr>\n",
      "      <tr class=\"spacer\" style=\"height:5px\"></tr>\n",
      "                <tr class='athing' id='19228770'>\n",
      "      <td align=\"right\" valign=\"top\" class=\"title\"><span class=\"rank\">22.</span></td>      <td valign=\"top\" class=\"votelinks\"><center><a id='up_19228770' href='vote?id=19228770&amp;how=up&amp;goto=news'><div class='votearrow' title='upvote'></div></a></center></td><td class=\"title\"><a href=\"https://thetreeographer.com/\" class=\"storylink\">The Treeographer</a><span class=\"sitebit comhead\"> (<a href=\"from?site=thetreeographer.com\"><span class=\"sitestr\">thetreeographer.com</span></a>)</span></td></tr><tr><td colspan=\"2\"></td><td class=\"subtext\">\n",
      "        <span class=\"score\" id=\"score_19228770\">21 points</span> by <a href=\"user?id=longdefeat\" class=\"hnuser\">longdefeat</a> <span class=\"age\"><a href=\"item?id=19228770\">7 hours ago</a></span> <span id=\"unv_19228770\"></span> | <a href=\"hide?id=19228770&amp;goto=news\">hide</a> | <a href=\"item?id=19228770\">1&nbsp;comment</a>              </td></tr>\n",
      "      <tr class=\"spacer\" style=\"height:5px\"></tr>\n",
      "                <tr class='athing' id='19236077'>\n",
      "      <td align=\"right\" valign=\"top\" class=\"title\"><span class=\"rank\">23.</span></td>      <td valign=\"top\" class=\"votelinks\"><center><a id='up_19236077' href='vote?id=19236077&amp;how=up&amp;goto=news'><div class='votearrow' title='upvote'></div></a></center></td><td class=\"title\"><a href=\"https://www.topic.com/who-owns-buried-treasure\" class=\"storylink\">Who Owns Buried Treasure?</a><span class=\"sitebit comhead\"> (<a href=\"from?site=topic.com\"><span class=\"sitestr\">topic.com</span></a>)</span></td></tr><tr><td colspan=\"2\"></td><td class=\"subtext\">\n",
      "        <span class=\"score\" id=\"score_19236077\">26 points</span> by <a href=\"user?id=mud_dauber\" class=\"hnuser\">mud_dauber</a> <span class=\"age\"><a href=\"item?id=19236077\">10 hours ago</a></span> <span id=\"unv_19236077\"></span> | <a href=\"hide?id=19236077&amp;goto=news\">hide</a> | <a href=\"item?id=19236077\">16&nbsp;comments</a>              </td></tr>\n",
      "      <tr class=\"spacer\" style=\"height:5px\"></tr>\n",
      "                <tr class='athing' id='19224865'>\n",
      "      <td align=\"right\" valign=\"top\" class=\"title\"><span class=\"rank\">24.</span></td>      <td valign=\"top\" class=\"votelinks\"><center><a id='up_19224865' href='vote?id=19224865&amp;how=up&amp;goto=news'><div class='votearrow' title='upvote'></div></a></center></td><td class=\"title\"><a href=\"https://www.npr.org/sections/goatsandsoda/2019/02/20/693735499/scientists-release-controversial-genetically-modified-mosquitoes-in-high-securit\" class=\"storylink\">Scientists Release Genetically Modified Mosquitoes in High-Security Lab</a><span class=\"sitebit comhead\"> (<a href=\"from?site=npr.org\"><span class=\"sitestr\">npr.org</span></a>)</span></td></tr><tr><td colspan=\"2\"></td><td class=\"subtext\">\n",
      "        <span class=\"score\" id=\"score_19224865\">62 points</span> by <a href=\"user?id=gerbilly\" class=\"hnuser\">gerbilly</a> <span class=\"age\"><a href=\"item?id=19224865\">15 hours ago</a></span> <span id=\"unv_19224865\"></span> | <a href=\"hide?id=19224865&amp;goto=news\">hide</a> | <a href=\"item?id=19224865\">67&nbsp;comments</a>              </td></tr>\n",
      "      <tr class=\"spacer\" style=\"height:5px\"></tr>\n",
      "                <tr class='athing' id='19235028'>\n",
      "      <td align=\"right\" valign=\"top\" class=\"title\"><span class=\"rank\">25.</span></td>      <td valign=\"top\" class=\"votelinks\"><center><a id='up_19235028' href='vote?id=19235028&amp;how=up&amp;goto=news'><div class='votearrow' title='upvote'></div></a></center></td><td class=\"title\"><a href=\"http://web.mit.edu/dimitrib/www/RLbook.html\" class=\"storylink\">Reinforcement Learning and Optimal Control</a><span class=\"sitebit comhead\"> (<a href=\"from?site=mit.edu\"><span class=\"sitestr\">mit.edu</span></a>)</span></td></tr><tr><td colspan=\"2\"></td><td class=\"subtext\">\n",
      "        <span class=\"score\" id=\"score_19235028\">198 points</span> by <a href=\"user?id=iron0013\" class=\"hnuser\">iron0013</a> <span class=\"age\"><a href=\"item?id=19235028\">18 hours ago</a></span> <span id=\"unv_19235028\"></span> | <a href=\"hide?id=19235028&amp;goto=news\">hide</a> | <a href=\"item?id=19235028\">12&nbsp;comments</a>              </td></tr>\n",
      "      <tr class=\"spacer\" style=\"height:5px\"></tr>\n",
      "                <tr class='athing' id='19236130'>\n",
      "      <td align=\"right\" valign=\"top\" class=\"title\"><span class=\"rank\">26.</span></td>      <td valign=\"top\" class=\"votelinks\"><center><a id='up_19236130' href='vote?id=19236130&amp;how=up&amp;goto=news'><div class='votearrow' title='upvote'></div></a></center></td><td class=\"title\"><a href=\"https://www.youtube.com/watch?v=gpxnbly9bz4&amp;t\" class=\"storylink\">A Database for the Edge of the Network (2015) [video]</a><span class=\"sitebit comhead\"> (<a href=\"from?site=youtube.com\"><span class=\"sitestr\">youtube.com</span></a>)</span></td></tr><tr><td colspan=\"2\"></td><td class=\"subtext\">\n",
      "        <span class=\"score\" id=\"score_19236130\">39 points</span> by <a href=\"user?id=Liwink\" class=\"hnuser\">Liwink</a> <span class=\"age\"><a href=\"item?id=19236130\">14 hours ago</a></span> <span id=\"unv_19236130\"></span> | <a href=\"hide?id=19236130&amp;goto=news\">hide</a> | <a href=\"item?id=19236130\">8&nbsp;comments</a>              </td></tr>\n",
      "      <tr class=\"spacer\" style=\"height:5px\"></tr>\n",
      "                <tr class='athing' id='19236011'>\n",
      "      <td align=\"right\" valign=\"top\" class=\"title\"><span class=\"rank\">27.</span></td>      <td valign=\"top\" class=\"votelinks\"><center><a id='up_19236011' href='vote?id=19236011&amp;how=up&amp;goto=news'><div class='votearrow' title='upvote'></div></a></center></td><td class=\"title\"><a href=\"https://enthusiasmcurbed.github.io/best-picture/\" class=\"storylink\">The Real Best Picture: A Look at the Data</a><span class=\"sitebit comhead\"> (<a href=\"from?site=enthusiasmcurbed.github.io\"><span class=\"sitestr\">enthusiasmcurbed.github.io</span></a>)</span></td></tr><tr><td colspan=\"2\"></td><td class=\"subtext\">\n",
      "        <span class=\"score\" id=\"score_19236011\">49 points</span> by <a href=\"user?id=cutearguments\" class=\"hnuser\">cutearguments</a> <span class=\"age\"><a href=\"item?id=19236011\">14 hours ago</a></span> <span id=\"unv_19236011\"></span> | <a href=\"hide?id=19236011&amp;goto=news\">hide</a> | <a href=\"item?id=19236011\">4&nbsp;comments</a>              </td></tr>\n",
      "      <tr class=\"spacer\" style=\"height:5px\"></tr>\n",
      "                <tr class='athing' id='19235873'>\n",
      "      <td align=\"right\" valign=\"top\" class=\"title\"><span class=\"rank\">28.</span></td>      <td valign=\"top\" class=\"votelinks\"><center><a id='up_19235873' href='vote?id=19235873&amp;how=up&amp;goto=news'><div class='votearrow' title='upvote'></div></a></center></td><td class=\"title\"><a href=\"https://orangejuiceliberationfront.com/designing-an-atomic-block-file-format/\" class=\"storylink\" rel=\"nofollow\">Designing an Atomic Block File Format</a><span class=\"sitebit comhead\"> (<a href=\"from?site=orangejuiceliberationfront.com\"><span class=\"sitestr\">orangejuiceliberationfront.com</span></a>)</span></td></tr><tr><td colspan=\"2\"></td><td class=\"subtext\">\n",
      "        <span class=\"score\" id=\"score_19235873\">5 points</span> by <a href=\"user?id=ingve\" class=\"hnuser\">ingve</a> <span class=\"age\"><a href=\"item?id=19235873\">4 hours ago</a></span> <span id=\"unv_19235873\"></span> | <a href=\"hide?id=19235873&amp;goto=news\">hide</a> | <a href=\"item?id=19235873\">5&nbsp;comments</a>              </td></tr>\n",
      "      <tr class=\"spacer\" style=\"height:5px\"></tr>\n",
      "                <tr class='athing' id='19233706'>\n",
      "      <td align=\"right\" valign=\"top\" class=\"title\"><span class=\"rank\">29.</span></td>      <td valign=\"top\" class=\"votelinks\"><center><a id='up_19233706' href='vote?id=19233706&amp;how=up&amp;goto=news'><div class='votearrow' title='upvote'></div></a></center></td><td class=\"title\"><a href=\"https://www.atlasobscura.com/articles/the-famous-photo-of-chernobyls-most-dangerous-radioactive-material-was-a-selfie\" class=\"storylink\">A Famous Photo of Chernobyl’s Most Dangerous Radioactive Material (2016)</a><span class=\"sitebit comhead\"> (<a href=\"from?site=atlasobscura.com\"><span class=\"sitestr\">atlasobscura.com</span></a>)</span></td></tr><tr><td colspan=\"2\"></td><td class=\"subtext\">\n",
      "        <span class=\"score\" id=\"score_19233706\">269 points</span> by <a href=\"user?id=lelf\" class=\"hnuser\">lelf</a> <span class=\"age\"><a href=\"item?id=19233706\">22 hours ago</a></span> <span id=\"unv_19233706\"></span> | <a href=\"hide?id=19233706&amp;goto=news\">hide</a> | <a href=\"item?id=19233706\">86&nbsp;comments</a>              </td></tr>\n",
      "      <tr class=\"spacer\" style=\"height:5px\"></tr>\n",
      "                <tr class='athing' id='19231885'>\n",
      "      <td align=\"right\" valign=\"top\" class=\"title\"><span class=\"rank\">30.</span></td>      <td valign=\"top\" class=\"votelinks\"><center><a id='up_19231885' href='vote?id=19231885&amp;how=up&amp;goto=news'><div class='votearrow' title='upvote'></div></a></center></td><td class=\"title\"><a href=\"https://www.okieboat.com/Talos%20history.html\" class=\"storylink\">History of the Talos Missile (2017)</a><span class=\"sitebit comhead\"> (<a href=\"from?site=okieboat.com\"><span class=\"sitestr\">okieboat.com</span></a>)</span></td></tr><tr><td colspan=\"2\"></td><td class=\"subtext\">\n",
      "        <span class=\"score\" id=\"score_19231885\">18 points</span> by <a href=\"user?id=DuskStar\" class=\"hnuser\">DuskStar</a> <span class=\"age\"><a href=\"item?id=19231885\">8 hours ago</a></span> <span id=\"unv_19231885\"></span> | <a href=\"hide?id=19231885&amp;goto=news\">hide</a> | <a href=\"item?id=19231885\">1&nbsp;comment</a>              </td></tr>\n",
      "      <tr class=\"spacer\" style=\"height:5px\"></tr>\n",
      "            <tr class=\"morespace\" style=\"height:10px\"></tr><tr><td colspan=\"2\"></td><td class=\"title\"><a href=\"news?p=2\" class=\"morelink\" rel=\"nofollow\">More</a></td></tr>\n",
      "  </table>\n",
      "</td></tr>\n",
      "<tr><td><img src=\"s.gif\" height=\"10\" width=\"0\"><table width=\"100%\" cellspacing=\"0\" cellpadding=\"1\"><tr><td bgcolor=\"#ff6600\"></td></tr></table><br><center><a href=\"https://www.ycombinator.com/apply/\">\n",
      "        Applications are open for YC Summer 2019\n",
      "      </a></center><br><center><span class=\"yclinks\"><a href=\"newsguidelines.html\">Guidelines</a>\n",
      "        | <a href=\"newsfaq.html\">FAQ</a>\n",
      "        | <a href=\"mailto:hn@ycombinator.com\">Support</a>\n",
      "        | <a href=\"https://github.com/HackerNews/API\">API</a>\n",
      "        | <a href=\"security.html\">Security</a>\n",
      "        | <a href=\"lists\">Lists</a>\n",
      "        | <a href=\"bookmarklet.html\" rel=\"nofollow\">Bookmarklet</a>\n",
      "        | <a href=\"http://www.ycombinator.com/legal/\">Legal</a>\n",
      "        | <a href=\"http://www.ycombinator.com/apply/\">Apply to YC</a>\n",
      "        | <a href=\"mailto:hn@ycombinator.com\">Contact</a></span><br><br><form method=\"get\" action=\"//hn.algolia.com/\">Search:\n",
      "          <input type=\"text\" name=\"q\" value=\"\" size=\"17\" autocorrect=\"off\" spellcheck=\"false\" autocapitalize=\"off\" autocomplete=\"false\"></form>\n",
      "            </center></td></tr>\n",
      "      </table></center></body><script type='text/javascript' src='hn.js?Swdnfjd2lvQXPAqH2Hs6'></script>\n",
      "  </html>\n",
      "\n"
     ]
    }
   ],
   "source": [
    "print(r)"
   ]
  },
  {
   "cell_type": "code",
   "execution_count": 23,
   "metadata": {
    "scrolled": false
   },
   "outputs": [
    {
     "name": "stdout",
     "output_type": "stream",
     "text": [
      "\n",
      "            \n",
      "          \n",
      "        Hacker News\n",
      "        \n",
      "                  Hacker News\n",
      "              new | past | comments | ask | show | jobs | submit            \n",
      "                              login\n",
      "                          \n",
      "              \n",
      "\n",
      "              \n",
      "      1.      CSS Powered 3D Engine (keithclark.co.uk)\n",
      "        59 points by Zagitta 1 hour ago  | hide | 4&nbsp;comments              \n",
      "      \n",
      "                \n",
      "      2.      Discord Scaled Elixir to 5M Concurrent Users (2017) (discordapp.com)\n",
      "        43 points by lelf 1 hour ago  | hide | 3&nbsp;comments              \n",
      "      \n",
      "                \n",
      "      3.      AMA: Steven Pruitt, Wikipedian with over 3 million edits (reddit.com)\n",
      "        131 points by aboutruby 5 hours ago  | hide | 19&nbsp;comments              \n",
      "      \n",
      "                \n",
      "      4.      Tracking my phone's silent connections (kushaldas.in)\n",
      "        56 points by jaclaz 3 hours ago  | hide | 26&nbsp;comments              \n",
      "      \n",
      "                \n",
      "      5.      Linux Fsync Issue for Buffered IO and Its Preliminary Fix for PostgreSQL (percona.com)\n",
      "        17 points by avivallssa 2 hours ago  | hide | 1&nbsp;comment              \n",
      "      \n",
      "                \n",
      "      6.      HyperCard Adventures (hypercardadventures.com)\n",
      "        146 points by vmbrasseur 9 hours ago  | hide | 22&nbsp;comments              \n",
      "      \n",
      "                \n",
      "      7.      Enquire: Everything you wanted to know about your C Compiler and Machine (cwi.nl)\n",
      "        57 points by Tomte 6 hours ago  | hide | 17&nbsp;comments              \n",
      "      \n",
      "                \n",
      "      8.      Prominent D.C. media firm implicated in fake FCC comments (gizmodo.com)\n",
      "        111 points by spac 9 hours ago  | hide | 14&nbsp;comments              \n",
      "      \n",
      "                \n",
      "      9.      “Illegal” Lego Builds (2006) [pdf] (bramlambrecht.com)\n",
      "        270 points by nvr219 13 hours ago  | hide | 38&nbsp;comments              \n",
      "      \n",
      "                \n",
      "      10.      Chevy Volt discontinued: Chevrolet's last Volt rolls off the assembly line (cbsnews.com)\n",
      "        196 points by curtis 11 hours ago  | hide | 183&nbsp;comments              \n",
      "      \n",
      "                \n",
      "      11.      Stream Ring Theory – A Turing-Complete Stream Algebra (zenodo.org)\n",
      "        9 points by espeed 3 hours ago  | hide | discuss              \n",
      "      \n",
      "                \n",
      "      12.      The Cost of Abstraction (2016) (250bpm.com)\n",
      "        25 points by wheresvic1 6 hours ago  | hide | 15&nbsp;comments              \n",
      "      \n",
      "                \n",
      "      13.      I Ditched My Phone and Unbroke My Brain (nytimes.com)\n",
      "        15 points by imartin2k 5 hours ago  | hide | 4&nbsp;comments              \n",
      "      \n",
      "                \n",
      "      14.      Meta-Learning in 50 Lines of JAX (evjang.com)\n",
      "        17 points by hardmaru 5 hours ago  | hide | discuss              \n",
      "      \n",
      "                \n",
      "      15.      Ask HN: Pros and cons of working at a startup in 2019?\n",
      "        67 points by askafriend 12 hours ago  | hide | 25&nbsp;comments              \n",
      "      \n",
      "                \n",
      "      16.      Twitter Thread Compiler Apps and Copyright Ethics (erynnbrook.com)\n",
      "        94 points by DoreenMichele 14 hours ago  | hide | 56&nbsp;comments              \n",
      "      \n",
      "                \n",
      "      17.      RIP Graphics (2005-2015) (altervista.org)\n",
      "        84 points by bane 14 hours ago  | hide | 16&nbsp;comments              \n",
      "      \n",
      "                \n",
      "      18.      “Hearing” the Hammond Organ (newmusicusa.org)\n",
      "        59 points by mr_golyadkin 15 hours ago  | hide | 28&nbsp;comments              \n",
      "      \n",
      "                \n",
      "      19.      Containers as Kernel Objects – Again (lwn.net)\n",
      "        10 points by Tomte 5 hours ago  | hide | 2&nbsp;comments              \n",
      "      \n",
      "                \n",
      "      20.      Google Maps: Bird Mode (twitter.com)\n",
      "        316 points by tosh 18 hours ago  | hide | 101&nbsp;comments              \n",
      "      \n",
      "                \n",
      "      21.      Cleave.js – Format input text content when you are typing (nosir.github.io)\n",
      "        398 points by octosphere 22 hours ago  | hide | 120&nbsp;comments              \n",
      "      \n",
      "                \n",
      "      22.      The Treeographer (thetreeographer.com)\n",
      "        21 points by longdefeat 7 hours ago  | hide | 1&nbsp;comment              \n",
      "      \n",
      "                \n",
      "      23.      Who Owns Buried Treasure? (topic.com)\n",
      "        26 points by mud_dauber 10 hours ago  | hide | 16&nbsp;comments              \n",
      "      \n",
      "                \n",
      "      24.      Scientists Release Genetically Modified Mosquitoes in High-Security Lab (npr.org)\n",
      "        62 points by gerbilly 15 hours ago  | hide | 67&nbsp;comments              \n",
      "      \n",
      "                \n",
      "      25.      Reinforcement Learning and Optimal Control (mit.edu)\n",
      "        198 points by iron0013 18 hours ago  | hide | 12&nbsp;comments              \n",
      "      \n",
      "                \n",
      "      26.      A Database for the Edge of the Network (2015) [video] (youtube.com)\n",
      "        39 points by Liwink 14 hours ago  | hide | 8&nbsp;comments              \n",
      "      \n",
      "                \n",
      "      27.      The Real Best Picture: A Look at the Data (enthusiasmcurbed.github.io)\n",
      "        49 points by cutearguments 14 hours ago  | hide | 4&nbsp;comments              \n",
      "      \n",
      "                \n",
      "      28.      Designing an Atomic Block File Format (orangejuiceliberationfront.com)\n",
      "        5 points by ingve 4 hours ago  | hide | 5&nbsp;comments              \n",
      "      \n",
      "                \n",
      "      29.      A Famous Photo of Chernobyl’s Most Dangerous Radioactive Material (2016) (atlasobscura.com)\n",
      "        269 points by lelf 22 hours ago  | hide | 86&nbsp;comments              \n",
      "      \n",
      "                \n",
      "      30.      History of the Talos Missile (2017) (okieboat.com)\n",
      "        18 points by DuskStar 8 hours ago  | hide | 1&nbsp;comment              \n",
      "      \n",
      "            More\n",
      "  \n",
      "\n",
      "\n",
      "        Applications are open for YC Summer 2019\n",
      "      Guidelines\n",
      "        | FAQ\n",
      "        | Support\n",
      "        | API\n",
      "        | Security\n",
      "        | Lists\n",
      "        | Bookmarklet\n",
      "        | Legal\n",
      "        | Apply to YC\n",
      "        | ContactSearch:\n",
      "          \n",
      "            \n",
      "      \n",
      "  \n",
      "\n"
     ]
    }
   ],
   "source": [
    "pattern = re.compile(r'<.*?>')  # tags look like <...>\n",
    "print(pattern.sub('', r))  # replace them with blank"
   ]
  },
  {
   "cell_type": "markdown",
   "metadata": {},
   "source": [
    "### Using BeautifulSoup"
   ]
  },
  {
   "cell_type": "code",
   "execution_count": 24,
   "metadata": {},
   "outputs": [],
   "source": [
    "soup = BeautifulSoup(r,'lxml')"
   ]
  },
  {
   "cell_type": "code",
   "execution_count": 28,
   "metadata": {
    "scrolled": false
   },
   "outputs": [
    {
     "name": "stdout",
     "output_type": "stream",
     "text": [
      "\n",
      "\n",
      "\n",
      "Hacker News\n",
      "\n",
      "Hacker News\n",
      "new | past | comments | ask | show | jobs | submit \n",
      "login\n",
      "\n",
      "\n",
      "\n",
      "\n",
      "1. CSS Powered 3D Engine (keithclark.co.uk)\n",
      "59 points by Zagitta 1 hour ago  | hide | 4 comments \n",
      "\n",
      "\n",
      "2. Discord Scaled Elixir to 5M Concurrent Users (2017) (discordapp.com)\n",
      "43 points by lelf 1 hour ago  | hide | 3 comments \n",
      "\n",
      "\n",
      "3. AMA: Steven Pruitt, Wikipedian with over 3 million edits (reddit.com)\n",
      "131 points by aboutruby 5 hours ago  | hide | 19 comments \n",
      "\n",
      "\n",
      "4. Tracking my phone's silent connections (kushaldas.in)\n",
      "56 points by jaclaz 3 hours ago  | hide | 26 comments \n",
      "\n",
      "\n",
      "5. Linux Fsync Issue for Buffered IO and Its Preliminary Fix for PostgreSQL (percona.com)\n",
      "17 points by avivallssa 2 hours ago  | hide | 1 comment \n",
      "\n",
      "\n",
      "6. HyperCard Adventures (hypercardadventures.com)\n",
      "146 points by vmbrasseur 9 hours ago  | hide | 22 comments \n",
      "\n",
      "\n",
      "7. Enquire: Everything you wanted to know about your C Compiler and Machine (cwi.nl)\n",
      "57 points by Tomte 6 hours ago  | hide | 17 comments \n",
      "\n",
      "\n",
      "8. Prominent D.C. media firm implicated in fake FCC comments (gizmodo.com)\n",
      "111 points by spac 9 hours ago  | hide | 14 comments \n",
      "\n",
      "\n",
      "9. “Illegal” Lego Builds (2006) [pdf] (bramlambrecht.com)\n",
      "270 points by nvr219 13 hours ago  | hide | 38 comments \n",
      "\n",
      "\n",
      "10. Chevy Volt discontinued: Chevrolet's last Volt rolls off the assembly line (cbsnews.com)\n",
      "196 points by curtis 11 hours ago  | hide | 183 comments \n",
      "\n",
      "\n",
      "11. Stream Ring Theory – A Turing-Complete Stream Algebra (zenodo.org)\n",
      "9 points by espeed 3 hours ago  | hide | discuss \n",
      "\n",
      "\n",
      "12. The Cost of Abstraction (2016) (250bpm.com)\n",
      "25 points by wheresvic1 6 hours ago  | hide | 15 comments \n",
      "\n",
      "\n",
      "13. I Ditched My Phone and Unbroke My Brain (nytimes.com)\n",
      "15 points by imartin2k 5 hours ago  | hide | 4 comments \n",
      "\n",
      "\n",
      "14. Meta-Learning in 50 Lines of JAX (evjang.com)\n",
      "17 points by hardmaru 5 hours ago  | hide | discuss \n",
      "\n",
      "\n",
      "15. Ask HN: Pros and cons of working at a startup in 2019?\n",
      "67 points by askafriend 12 hours ago  | hide | 25 comments \n",
      "\n",
      "\n",
      "16. Twitter Thread Compiler Apps and Copyright Ethics (erynnbrook.com)\n",
      "94 points by DoreenMichele 14 hours ago  | hide | 56 comments \n",
      "\n",
      "\n",
      "17. RIP Graphics (2005-2015) (altervista.org)\n",
      "84 points by bane 14 hours ago  | hide | 16 comments \n",
      "\n",
      "\n",
      "18. “Hearing” the Hammond Organ (newmusicusa.org)\n",
      "59 points by mr_golyadkin 15 hours ago  | hide | 28 comments \n",
      "\n",
      "\n",
      "19. Containers as Kernel Objects – Again (lwn.net)\n",
      "10 points by Tomte 5 hours ago  | hide | 2 comments \n",
      "\n",
      "\n",
      "20. Google Maps: Bird Mode (twitter.com)\n",
      "316 points by tosh 18 hours ago  | hide | 101 comments \n",
      "\n",
      "\n",
      "21. Cleave.js – Format input text content when you are typing (nosir.github.io)\n",
      "398 points by octosphere 22 hours ago  | hide | 120 comments \n",
      "\n",
      "\n",
      "22. The Treeographer (thetreeographer.com)\n",
      "21 points by longdefeat 7 hours ago  | hide | 1 comment \n",
      "\n",
      "\n",
      "23. Who Owns Buried Treasure? (topic.com)\n",
      "26 points by mud_dauber 10 hours ago  | hide | 16 comments \n",
      "\n",
      "\n",
      "24. Scientists Release Genetically Modified Mosquitoes in High-Security Lab (npr.org)\n",
      "62 points by gerbilly 15 hours ago  | hide | 67 comments \n",
      "\n",
      "\n",
      "25. Reinforcement Learning and Optimal Control (mit.edu)\n",
      "198 points by iron0013 18 hours ago  | hide | 12 comments \n",
      "\n",
      "\n",
      "26. A Database for the Edge of the Network (2015) [video] (youtube.com)\n",
      "39 points by Liwink 14 hours ago  | hide | 8 comments \n",
      "\n",
      "\n",
      "27. The Real Best Picture: A Look at the Data (enthusiasmcurbed.github.io)\n",
      "49 points by cutearguments 14 hours ago  | hide | 4 comments \n",
      "\n",
      "\n",
      "28. Designing an Atomic Block File Format (orangejuiceliberationfront.com)\n",
      "5 points by ingve 4 hours ago  | hide | 5 comments \n",
      "\n",
      "\n",
      "29. A Famous Photo of Chernobyl’s Most Dangerous Radioactive Material (2016) (atlasobscura.com)\n",
      "269 points by lelf 22 hours ago  | hide | 86 comments \n",
      "\n",
      "\n",
      "30. History of the Talos Missile (2017) (okieboat.com)\n",
      "18 points by DuskStar 8 hours ago  | hide | 1 comment \n",
      "\n",
      "More\n",
      "\n",
      "\n",
      "\n",
      "        Applications are open for YC Summer 2019\n",
      "      Guidelines\n",
      "        | FAQ\n",
      "        | Support\n",
      "        | API\n",
      "        | Security\n",
      "        | Lists\n",
      "        | Bookmarklet\n",
      "        | Legal\n",
      "        | Apply to YC\n",
      "        | ContactSearch:\n",
      "          \n",
      "\n",
      "\n",
      "\n",
      "\n"
     ]
    }
   ],
   "source": [
    "print(soup.get_text())"
   ]
  },
  {
   "cell_type": "code",
   "execution_count": 29,
   "metadata": {},
   "outputs": [
    {
     "data": {
      "text/plain": [
       "<tr class=\"athing\" id=\"19238340\">\n",
       "<td align=\"right\" class=\"title\" valign=\"top\"><span class=\"rank\">1.</span></td> <td class=\"votelinks\" valign=\"top\"><center><a href=\"vote?id=19238340&amp;how=up&amp;goto=news\" id=\"up_19238340\"><div class=\"votearrow\" title=\"upvote\"></div></a></center></td><td class=\"title\"><a class=\"storylink\" href=\"https://keithclark.co.uk/labs/css-fps/\">CSS Powered 3D Engine</a><span class=\"sitebit comhead\"> (<a href=\"from?site=keithclark.co.uk\"><span class=\"sitestr\">keithclark.co.uk</span></a>)</span></td></tr>"
      ]
     },
     "execution_count": 29,
     "metadata": {},
     "output_type": "execute_result"
    }
   ],
   "source": [
    "summaries = soup.find_all(\"tr\", class_=\"athing\")\n",
    "summaries[0]"
   ]
  },
  {
   "cell_type": "code",
   "execution_count": 30,
   "metadata": {},
   "outputs": [
    {
     "name": "stdout",
     "output_type": "stream",
     "text": [
      "30 Article summaries found. Sample:\n",
      "CSS Powered 3D Engine\n"
     ]
    }
   ],
   "source": [
    "# Find all articles, extract titles\n",
    "articles = []\n",
    "summaries = soup.find_all(\"tr\", class_=\"athing\")\n",
    "for summary in summaries:\n",
    "    title = summary.find(\"a\", class_=\"storylink\").get_text().strip()\n",
    "    articles.append((title))\n",
    "\n",
    "print(len(articles), \"Article summaries found. Sample:\")\n",
    "print(articles[0])"
   ]
  },
  {
   "cell_type": "markdown",
   "metadata": {},
   "source": [
    "## Normalization"
   ]
  },
  {
   "cell_type": "code",
   "execution_count": 31,
   "metadata": {},
   "outputs": [
    {
     "name": "stdout",
     "output_type": "stream",
     "text": [
      "The first time you see The Second Renaissance it may look boring. Look at it at least twice and definitely watch part 2. It will change your view of the matrix. Are the human people the ones who started the war ? Is AI a bad thing ?\n"
     ]
    }
   ],
   "source": [
    "text = \"The first time you see The Second Renaissance it may look boring. Look at it at least twice and definitely watch part 2. It will change your view of the matrix. Are the human people the ones who started the war ? Is AI a bad thing ?\"\n",
    "print(text)"
   ]
  },
  {
   "cell_type": "code",
   "execution_count": 33,
   "metadata": {},
   "outputs": [
    {
     "data": {
      "text/plain": [
       "'the first time you see the second renaissance it may look boring. look at it at least twice and definitely watch part 2. it will change your view of the matrix. are the human people the ones who started the war ? is ai a bad thing ?'"
      ]
     },
     "execution_count": 33,
     "metadata": {},
     "output_type": "execute_result"
    }
   ],
   "source": [
    "text.lower()"
   ]
  },
  {
   "cell_type": "code",
   "execution_count": 36,
   "metadata": {},
   "outputs": [
    {
     "data": {
      "text/plain": [
       "'The first time you see The Second Renaissance it may look boring  Look at it at least twice and definitely watch part 2  It will change your view of the matrix  Are the human people the ones who started the war   Is AI a bad thing  '"
      ]
     },
     "execution_count": 36,
     "metadata": {},
     "output_type": "execute_result"
    }
   ],
   "source": [
    "text = re.sub(r\"[^a-zA-Z0-9]\", \" \", text) \n",
    "text"
   ]
  },
  {
   "cell_type": "markdown",
   "metadata": {},
   "source": [
    "## Tokenization"
   ]
  },
  {
   "cell_type": "code",
   "execution_count": 43,
   "metadata": {},
   "outputs": [],
   "source": []
  },
  {
   "cell_type": "code",
   "execution_count": 39,
   "metadata": {},
   "outputs": [
    {
     "data": {
      "text/plain": [
       "['The',\n",
       " 'first',\n",
       " 'time',\n",
       " 'you',\n",
       " 'see',\n",
       " 'The',\n",
       " 'Second',\n",
       " 'Renaissance',\n",
       " 'it',\n",
       " 'may',\n",
       " 'look',\n",
       " 'boring',\n",
       " 'Look',\n",
       " 'at',\n",
       " 'it',\n",
       " 'at',\n",
       " 'least',\n",
       " 'twice',\n",
       " 'and',\n",
       " 'definitely',\n",
       " 'watch',\n",
       " 'part',\n",
       " '2',\n",
       " 'It',\n",
       " 'will',\n",
       " 'change',\n",
       " 'your',\n",
       " 'view',\n",
       " 'of',\n",
       " 'the',\n",
       " 'matrix',\n",
       " 'Are',\n",
       " 'the',\n",
       " 'human',\n",
       " 'people',\n",
       " 'the',\n",
       " 'ones',\n",
       " 'who',\n",
       " 'started',\n",
       " 'the',\n",
       " 'war',\n",
       " 'Is',\n",
       " 'AI',\n",
       " 'a',\n",
       " 'bad',\n",
       " 'thing']"
      ]
     },
     "execution_count": 39,
     "metadata": {},
     "output_type": "execute_result"
    }
   ],
   "source": [
    "word_tokenize(text)"
   ]
  },
  {
   "cell_type": "code",
   "execution_count": 41,
   "metadata": {},
   "outputs": [
    {
     "data": {
      "text/plain": [
       "['The first time you see The Second Renaissance it may look boring  Look at it at least twice and definitely watch part 2  It will change your view of the matrix  Are the human people the ones who started the war   Is AI a bad thing']"
      ]
     },
     "execution_count": 41,
     "metadata": {},
     "output_type": "execute_result"
    }
   ],
   "source": [
    "sent_tokenize(text)"
   ]
  },
  {
   "cell_type": "code",
   "execution_count": 45,
   "metadata": {
    "scrolled": false
   },
   "outputs": [
    {
     "data": {
      "text/plain": [
       "['i',\n",
       " 'me',\n",
       " 'my',\n",
       " 'myself',\n",
       " 'we',\n",
       " 'our',\n",
       " 'ours',\n",
       " 'ourselves',\n",
       " 'you',\n",
       " \"you're\",\n",
       " \"you've\",\n",
       " \"you'll\",\n",
       " \"you'd\",\n",
       " 'your',\n",
       " 'yours',\n",
       " 'yourself',\n",
       " 'yourselves',\n",
       " 'he',\n",
       " 'him',\n",
       " 'his',\n",
       " 'himself',\n",
       " 'she',\n",
       " \"she's\",\n",
       " 'her',\n",
       " 'hers',\n",
       " 'herself',\n",
       " 'it',\n",
       " \"it's\",\n",
       " 'its',\n",
       " 'itself',\n",
       " 'they',\n",
       " 'them',\n",
       " 'their',\n",
       " 'theirs',\n",
       " 'themselves',\n",
       " 'what',\n",
       " 'which',\n",
       " 'who',\n",
       " 'whom',\n",
       " 'this',\n",
       " 'that',\n",
       " \"that'll\",\n",
       " 'these',\n",
       " 'those',\n",
       " 'am',\n",
       " 'is',\n",
       " 'are',\n",
       " 'was',\n",
       " 'were',\n",
       " 'be',\n",
       " 'been',\n",
       " 'being',\n",
       " 'have',\n",
       " 'has',\n",
       " 'had',\n",
       " 'having',\n",
       " 'do',\n",
       " 'does',\n",
       " 'did',\n",
       " 'doing',\n",
       " 'a',\n",
       " 'an',\n",
       " 'the',\n",
       " 'and',\n",
       " 'but',\n",
       " 'if',\n",
       " 'or',\n",
       " 'because',\n",
       " 'as',\n",
       " 'until',\n",
       " 'while',\n",
       " 'of',\n",
       " 'at',\n",
       " 'by',\n",
       " 'for',\n",
       " 'with',\n",
       " 'about',\n",
       " 'against',\n",
       " 'between',\n",
       " 'into',\n",
       " 'through',\n",
       " 'during',\n",
       " 'before',\n",
       " 'after',\n",
       " 'above',\n",
       " 'below',\n",
       " 'to',\n",
       " 'from',\n",
       " 'up',\n",
       " 'down',\n",
       " 'in',\n",
       " 'out',\n",
       " 'on',\n",
       " 'off',\n",
       " 'over',\n",
       " 'under',\n",
       " 'again',\n",
       " 'further',\n",
       " 'then',\n",
       " 'once',\n",
       " 'here',\n",
       " 'there',\n",
       " 'when',\n",
       " 'where',\n",
       " 'why',\n",
       " 'how',\n",
       " 'all',\n",
       " 'any',\n",
       " 'both',\n",
       " 'each',\n",
       " 'few',\n",
       " 'more',\n",
       " 'most',\n",
       " 'other',\n",
       " 'some',\n",
       " 'such',\n",
       " 'no',\n",
       " 'nor',\n",
       " 'not',\n",
       " 'only',\n",
       " 'own',\n",
       " 'same',\n",
       " 'so',\n",
       " 'than',\n",
       " 'too',\n",
       " 'very',\n",
       " 's',\n",
       " 't',\n",
       " 'can',\n",
       " 'will',\n",
       " 'just',\n",
       " 'don',\n",
       " \"don't\",\n",
       " 'should',\n",
       " \"should've\",\n",
       " 'now',\n",
       " 'd',\n",
       " 'll',\n",
       " 'm',\n",
       " 'o',\n",
       " 're',\n",
       " 've',\n",
       " 'y',\n",
       " 'ain',\n",
       " 'aren',\n",
       " \"aren't\",\n",
       " 'couldn',\n",
       " \"couldn't\",\n",
       " 'didn',\n",
       " \"didn't\",\n",
       " 'doesn',\n",
       " \"doesn't\",\n",
       " 'hadn',\n",
       " \"hadn't\",\n",
       " 'hasn',\n",
       " \"hasn't\",\n",
       " 'haven',\n",
       " \"haven't\",\n",
       " 'isn',\n",
       " \"isn't\",\n",
       " 'ma',\n",
       " 'mightn',\n",
       " \"mightn't\",\n",
       " 'mustn',\n",
       " \"mustn't\",\n",
       " 'needn',\n",
       " \"needn't\",\n",
       " 'shan',\n",
       " \"shan't\",\n",
       " 'shouldn',\n",
       " \"shouldn't\",\n",
       " 'wasn',\n",
       " \"wasn't\",\n",
       " 'weren',\n",
       " \"weren't\",\n",
       " 'won',\n",
       " \"won't\",\n",
       " 'wouldn',\n",
       " \"wouldn't\"]"
      ]
     },
     "execution_count": 45,
     "metadata": {},
     "output_type": "execute_result"
    }
   ],
   "source": [
    "stopwords.words(\"english\")"
   ]
  },
  {
   "cell_type": "code",
   "execution_count": 47,
   "metadata": {},
   "outputs": [
    {
     "name": "stdout",
     "output_type": "stream",
     "text": [
      "['The', 'first', 'time', 'see', 'The', 'Second', 'Renaissance', 'may', 'look', 'boring', 'Look', 'least', 'twice', 'definitely', 'watch', 'part', '2', 'It', 'change', 'view', 'matrix', 'Are', 'human', 'people', 'ones', 'started', 'war', 'Is', 'AI', 'bad', 'thing']\n"
     ]
    }
   ],
   "source": [
    "# Remove stop words\n",
    "words = [w for w in word_tokenize(text) if w not in stopwords.words(\"english\")]\n",
    "print(words)"
   ]
  },
  {
   "cell_type": "markdown",
   "metadata": {},
   "source": [
    "## Stemming and Lemmatization"
   ]
  },
  {
   "cell_type": "markdown",
   "metadata": {},
   "source": [
    "### Stemming"
   ]
  },
  {
   "cell_type": "code",
   "execution_count": 48,
   "metadata": {},
   "outputs": [],
   "source": []
  },
  {
   "cell_type": "code",
   "execution_count": 49,
   "metadata": {},
   "outputs": [
    {
     "name": "stdout",
     "output_type": "stream",
     "text": [
      "['the', 'first', 'time', 'see', 'the', 'second', 'renaiss', 'may', 'look', 'bore', 'look', 'least', 'twice', 'definit', 'watch', 'part', '2', 'It', 'chang', 'view', 'matrix', 'are', 'human', 'peopl', 'one', 'start', 'war', 'Is', 'AI', 'bad', 'thing']\n"
     ]
    }
   ],
   "source": [
    "stemmed = [PorterStemmer().stem(w) for w in words]\n",
    "print(stemmed)"
   ]
  },
  {
   "cell_type": "markdown",
   "metadata": {},
   "source": [
    "### Lemmatization"
   ]
  },
  {
   "cell_type": "code",
   "execution_count": 50,
   "metadata": {},
   "outputs": [
    {
     "name": "stdout",
     "output_type": "stream",
     "text": [
      "['The', 'first', 'time', 'see', 'The', 'Second', 'Renaissance', 'may', 'look', 'boring', 'Look', 'least', 'twice', 'definitely', 'watch', 'part', '2', 'It', 'change', 'view', 'matrix', 'Are', 'human', 'people', 'one', 'started', 'war', 'Is', 'AI', 'bad', 'thing']\n"
     ]
    }
   ],
   "source": [
    "from nltk.stem.wordnet import WordNetLemmatizer\n",
    "\n",
    "# Reduce words to their root form\n",
    "lemmed = [WordNetLemmatizer().lemmatize(w) for w in words]\n",
    "print(lemmed)"
   ]
  },
  {
   "cell_type": "code",
   "execution_count": 51,
   "metadata": {},
   "outputs": [
    {
     "name": "stdout",
     "output_type": "stream",
     "text": [
      "['The', 'first', 'time', 'see', 'The', 'Second', 'Renaissance', 'may', 'look', 'bore', 'Look', 'least', 'twice', 'definitely', 'watch', 'part', '2', 'It', 'change', 'view', 'matrix', 'Are', 'human', 'people', 'one', 'start', 'war', 'Is', 'AI', 'bad', 'thing']\n"
     ]
    }
   ],
   "source": [
    "# Lemmatize verbs by specifying pos\n",
    "lemmed = [WordNetLemmatizer().lemmatize(w, pos='v') for w in lemmed]\n",
    "print(lemmed)"
   ]
  },
  {
   "cell_type": "code",
   "execution_count": null,
   "metadata": {},
   "outputs": [],
   "source": []
  }
 ],
 "metadata": {
  "kernelspec": {
   "display_name": "Python 3",
   "language": "python",
   "name": "python3"
  },
  "language_info": {
   "codemirror_mode": {
    "name": "ipython",
    "version": 3
   },
   "file_extension": ".py",
   "mimetype": "text/x-python",
   "name": "python",
   "nbconvert_exporter": "python",
   "pygments_lexer": "ipython3",
   "version": "3.6.8"
  }
 },
 "nbformat": 4,
 "nbformat_minor": 2
}
